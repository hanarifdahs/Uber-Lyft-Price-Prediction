{
  "cells": [
    {
      "cell_type": "markdown",
      "metadata": {
        "id": "7dm4yYT7lARP"
      },
      "source": [
        "#Introduction\n",
        "\n",
        "---\n",
        "Batch 006 - Hana Rifdah Sakinah\n"
      ]
    },
    {
      "cell_type": "code",
      "execution_count": null,
      "metadata": {
        "id": "tl_kRy9syHAV",
        "colab": {
          "base_uri": "https://localhost:8080/"
        },
        "outputId": "5e7ac397-0f4f-4e97-ce8b-3506103359d1"
      },
      "outputs": [
        {
          "output_type": "stream",
          "name": "stdout",
          "text": [
            "Collecting feature-engine\n",
            "  Downloading feature_engine-1.1.2-py2.py3-none-any.whl (180 kB)\n",
            "\u001b[?25l\r\u001b[K     |█▉                              | 10 kB 12.2 MB/s eta 0:00:01\r\u001b[K     |███▋                            | 20 kB 17.9 MB/s eta 0:00:01\r\u001b[K     |█████▌                          | 30 kB 18.4 MB/s eta 0:00:01\r\u001b[K     |███████▎                        | 40 kB 11.9 MB/s eta 0:00:01\r\u001b[K     |█████████                       | 51 kB 9.5 MB/s eta 0:00:01\r\u001b[K     |███████████                     | 61 kB 8.3 MB/s eta 0:00:01\r\u001b[K     |████████████▊                   | 71 kB 7.7 MB/s eta 0:00:01\r\u001b[K     |██████████████▌                 | 81 kB 8.6 MB/s eta 0:00:01\r\u001b[K     |████████████████▍               | 92 kB 9.5 MB/s eta 0:00:01\r\u001b[K     |██████████████████▏             | 102 kB 8.5 MB/s eta 0:00:01\r\u001b[K     |████████████████████            | 112 kB 8.5 MB/s eta 0:00:01\r\u001b[K     |█████████████████████▉          | 122 kB 8.5 MB/s eta 0:00:01\r\u001b[K     |███████████████████████▋        | 133 kB 8.5 MB/s eta 0:00:01\r\u001b[K     |█████████████████████████▌      | 143 kB 8.5 MB/s eta 0:00:01\r\u001b[K     |███████████████████████████▎    | 153 kB 8.5 MB/s eta 0:00:01\r\u001b[K     |█████████████████████████████   | 163 kB 8.5 MB/s eta 0:00:01\r\u001b[K     |███████████████████████████████ | 174 kB 8.5 MB/s eta 0:00:01\r\u001b[K     |████████████████████████████████| 180 kB 8.5 MB/s \n",
            "\u001b[?25hRequirement already satisfied: scipy>=1.4.1 in /usr/local/lib/python3.7/dist-packages (from feature-engine) (1.4.1)\n",
            "Requirement already satisfied: numpy>=1.18.2 in /usr/local/lib/python3.7/dist-packages (from feature-engine) (1.19.5)\n",
            "Requirement already satisfied: scikit-learn>=0.22.2 in /usr/local/lib/python3.7/dist-packages (from feature-engine) (1.0.1)\n",
            "Collecting statsmodels>=0.11.1\n",
            "  Downloading statsmodels-0.13.1-cp37-cp37m-manylinux_2_17_x86_64.manylinux2014_x86_64.whl (9.8 MB)\n",
            "\u001b[K     |████████████████████████████████| 9.8 MB 47.0 MB/s \n",
            "\u001b[?25hRequirement already satisfied: pandas>=1.0.3 in /usr/local/lib/python3.7/dist-packages (from feature-engine) (1.1.5)\n",
            "Requirement already satisfied: python-dateutil>=2.7.3 in /usr/local/lib/python3.7/dist-packages (from pandas>=1.0.3->feature-engine) (2.8.2)\n",
            "Requirement already satisfied: pytz>=2017.2 in /usr/local/lib/python3.7/dist-packages (from pandas>=1.0.3->feature-engine) (2018.9)\n",
            "Requirement already satisfied: six>=1.5 in /usr/local/lib/python3.7/dist-packages (from python-dateutil>=2.7.3->pandas>=1.0.3->feature-engine) (1.15.0)\n",
            "Requirement already satisfied: joblib>=0.11 in /usr/local/lib/python3.7/dist-packages (from scikit-learn>=0.22.2->feature-engine) (1.1.0)\n",
            "Requirement already satisfied: threadpoolctl>=2.0.0 in /usr/local/lib/python3.7/dist-packages (from scikit-learn>=0.22.2->feature-engine) (3.0.0)\n",
            "Requirement already satisfied: patsy>=0.5.2 in /usr/local/lib/python3.7/dist-packages (from statsmodels>=0.11.1->feature-engine) (0.5.2)\n",
            "Installing collected packages: statsmodels, feature-engine\n",
            "  Attempting uninstall: statsmodels\n",
            "    Found existing installation: statsmodels 0.10.2\n",
            "    Uninstalling statsmodels-0.10.2:\n",
            "      Successfully uninstalled statsmodels-0.10.2\n",
            "Successfully installed feature-engine-1.1.2 statsmodels-0.13.1\n"
          ]
        }
      ],
      "source": [
        "!pip install feature-engine\n",
        "import pandas as pd\n",
        "import numpy as np\n",
        "import matplotlib.pyplot as plt\n",
        "import seaborn as sns\n",
        "import warnings\n",
        "warnings.filterwarnings('ignore')\n",
        "\n",
        "from sklearn import *\n",
        "from sklearn.compose import ColumnTransformer\n",
        "from sklearn.compose import make_column_transformer\n",
        "from sklearn.ensemble import RandomForestClassifier\n",
        "from sklearn.feature_selection import SelectFromModel\n",
        "from sklearn.feature_selection import RFE\n",
        "from sklearn.feature_selection import SelectKBest\n",
        "from sklearn.feature_selection import f_classif\n",
        "from sklearn.feature_selection import chi2\n",
        "from sklearn.preprocessing import StandardScaler,MinMaxScaler,RobustScaler\n",
        "from sklearn.preprocessing import LabelEncoder,OneHotEncoder\n",
        "from sklearn.model_selection import train_test_split\n",
        "from sklearn.linear_model import LinearRegression\n",
        "from feature_engine.outliers import Winsorizer\n",
        "from sklearn.model_selection import RepeatedKFold\n",
        "from sklearn.model_selection import cross_val_score\n",
        "from sklearn.metrics import r2_score, mean_squared_error, mean_absolute_error\n",
        "from sklearn.utils import shuffle\n",
        "from sklearn.metrics import accuracy_score"
      ]
    },
    {
      "cell_type": "markdown",
      "metadata": {
        "id": "KyOPbbiVlCc0"
      },
      "source": [
        "#Data Loading\n",
        "\n",
        "---\n",
        "\n"
      ]
    },
    {
      "cell_type": "code",
      "execution_count": null,
      "metadata": {
        "colab": {
          "base_uri": "https://localhost:8080/",
          "height": 1000
        },
        "id": "yJpV5_83yJ1u",
        "outputId": "4ba84770-50f5-4def-8743-12d4a1c28c07"
      },
      "outputs": [
        {
          "output_type": "execute_result",
          "data": {
            "text/html": [
              "\n",
              "  <div id=\"df-d1155c59-125f-449a-b816-588b4160ee20\">\n",
              "    <div class=\"colab-df-container\">\n",
              "      <div>\n",
              "<style scoped>\n",
              "    .dataframe tbody tr th:only-of-type {\n",
              "        vertical-align: middle;\n",
              "    }\n",
              "\n",
              "    .dataframe tbody tr th {\n",
              "        vertical-align: top;\n",
              "    }\n",
              "\n",
              "    .dataframe thead th {\n",
              "        text-align: right;\n",
              "    }\n",
              "</style>\n",
              "<table border=\"1\" class=\"dataframe\">\n",
              "  <thead>\n",
              "    <tr style=\"text-align: right;\">\n",
              "      <th></th>\n",
              "      <th>id</th>\n",
              "      <th>timestamp</th>\n",
              "      <th>hour</th>\n",
              "      <th>day</th>\n",
              "      <th>month</th>\n",
              "      <th>datetime</th>\n",
              "      <th>timezone</th>\n",
              "      <th>source</th>\n",
              "      <th>destination</th>\n",
              "      <th>cab_type</th>\n",
              "      <th>product_id</th>\n",
              "      <th>name</th>\n",
              "      <th>price</th>\n",
              "      <th>distance</th>\n",
              "      <th>surge_multiplier</th>\n",
              "      <th>latitude</th>\n",
              "      <th>longitude</th>\n",
              "      <th>temperature</th>\n",
              "      <th>apparentTemperature</th>\n",
              "      <th>short_summary</th>\n",
              "      <th>long_summary</th>\n",
              "      <th>precipIntensity</th>\n",
              "      <th>precipProbability</th>\n",
              "      <th>humidity</th>\n",
              "      <th>windSpeed</th>\n",
              "      <th>windGust</th>\n",
              "      <th>windGustTime</th>\n",
              "      <th>visibility</th>\n",
              "      <th>temperatureHigh</th>\n",
              "      <th>temperatureHighTime</th>\n",
              "      <th>temperatureLow</th>\n",
              "      <th>temperatureLowTime</th>\n",
              "      <th>apparentTemperatureHigh</th>\n",
              "      <th>apparentTemperatureHighTime</th>\n",
              "      <th>apparentTemperatureLow</th>\n",
              "      <th>apparentTemperatureLowTime</th>\n",
              "      <th>icon</th>\n",
              "      <th>dewPoint</th>\n",
              "      <th>pressure</th>\n",
              "      <th>windBearing</th>\n",
              "      <th>cloudCover</th>\n",
              "      <th>uvIndex</th>\n",
              "      <th>visibility.1</th>\n",
              "      <th>ozone</th>\n",
              "      <th>sunriseTime</th>\n",
              "      <th>sunsetTime</th>\n",
              "      <th>moonPhase</th>\n",
              "      <th>precipIntensityMax</th>\n",
              "      <th>uvIndexTime</th>\n",
              "      <th>temperatureMin</th>\n",
              "      <th>temperatureMinTime</th>\n",
              "      <th>temperatureMax</th>\n",
              "      <th>temperatureMaxTime</th>\n",
              "      <th>apparentTemperatureMin</th>\n",
              "      <th>apparentTemperatureMinTime</th>\n",
              "      <th>apparentTemperatureMax</th>\n",
              "      <th>apparentTemperatureMaxTime</th>\n",
              "    </tr>\n",
              "  </thead>\n",
              "  <tbody>\n",
              "    <tr>\n",
              "      <th>0</th>\n",
              "      <td>424553bb-7174-41ea-aeb4-fe06d4f4b9d7</td>\n",
              "      <td>1.544953e+09</td>\n",
              "      <td>9</td>\n",
              "      <td>16</td>\n",
              "      <td>12</td>\n",
              "      <td>2018-12-16 09:30:07</td>\n",
              "      <td>America/New_York</td>\n",
              "      <td>Haymarket Square</td>\n",
              "      <td>North Station</td>\n",
              "      <td>Lyft</td>\n",
              "      <td>lyft_line</td>\n",
              "      <td>Shared</td>\n",
              "      <td>5.0</td>\n",
              "      <td>0.44</td>\n",
              "      <td>1.0</td>\n",
              "      <td>42.2148</td>\n",
              "      <td>-71.0330</td>\n",
              "      <td>42.34</td>\n",
              "      <td>37.12</td>\n",
              "      <td>Mostly Cloudy</td>\n",
              "      <td>Rain throughout the day.</td>\n",
              "      <td>0.0000</td>\n",
              "      <td>0.0</td>\n",
              "      <td>0.68</td>\n",
              "      <td>8.66</td>\n",
              "      <td>9.17</td>\n",
              "      <td>1545015600</td>\n",
              "      <td>10.000</td>\n",
              "      <td>43.68</td>\n",
              "      <td>1544968800</td>\n",
              "      <td>34.19</td>\n",
              "      <td>1545048000</td>\n",
              "      <td>37.95</td>\n",
              "      <td>1544968800</td>\n",
              "      <td>27.39</td>\n",
              "      <td>1545044400</td>\n",
              "      <td>partly-cloudy-night</td>\n",
              "      <td>32.70</td>\n",
              "      <td>1021.98</td>\n",
              "      <td>57</td>\n",
              "      <td>0.72</td>\n",
              "      <td>0</td>\n",
              "      <td>10.000</td>\n",
              "      <td>303.8</td>\n",
              "      <td>1544962084</td>\n",
              "      <td>1544994864</td>\n",
              "      <td>0.30</td>\n",
              "      <td>0.1276</td>\n",
              "      <td>1544979600</td>\n",
              "      <td>39.89</td>\n",
              "      <td>1545012000</td>\n",
              "      <td>43.68</td>\n",
              "      <td>1544968800</td>\n",
              "      <td>33.73</td>\n",
              "      <td>1545012000</td>\n",
              "      <td>38.07</td>\n",
              "      <td>1544958000</td>\n",
              "    </tr>\n",
              "    <tr>\n",
              "      <th>1</th>\n",
              "      <td>4bd23055-6827-41c6-b23b-3c491f24e74d</td>\n",
              "      <td>1.543284e+09</td>\n",
              "      <td>2</td>\n",
              "      <td>27</td>\n",
              "      <td>11</td>\n",
              "      <td>2018-11-27 02:00:23</td>\n",
              "      <td>America/New_York</td>\n",
              "      <td>Haymarket Square</td>\n",
              "      <td>North Station</td>\n",
              "      <td>Lyft</td>\n",
              "      <td>lyft_premier</td>\n",
              "      <td>Lux</td>\n",
              "      <td>11.0</td>\n",
              "      <td>0.44</td>\n",
              "      <td>1.0</td>\n",
              "      <td>42.2148</td>\n",
              "      <td>-71.0330</td>\n",
              "      <td>43.58</td>\n",
              "      <td>37.35</td>\n",
              "      <td>Rain</td>\n",
              "      <td>Rain until morning, starting again in the eve...</td>\n",
              "      <td>0.1299</td>\n",
              "      <td>1.0</td>\n",
              "      <td>0.94</td>\n",
              "      <td>11.98</td>\n",
              "      <td>11.98</td>\n",
              "      <td>1543291200</td>\n",
              "      <td>4.786</td>\n",
              "      <td>47.30</td>\n",
              "      <td>1543251600</td>\n",
              "      <td>42.10</td>\n",
              "      <td>1543298400</td>\n",
              "      <td>43.92</td>\n",
              "      <td>1543251600</td>\n",
              "      <td>36.20</td>\n",
              "      <td>1543291200</td>\n",
              "      <td>rain</td>\n",
              "      <td>41.83</td>\n",
              "      <td>1003.97</td>\n",
              "      <td>90</td>\n",
              "      <td>1.00</td>\n",
              "      <td>0</td>\n",
              "      <td>4.786</td>\n",
              "      <td>291.1</td>\n",
              "      <td>1543232969</td>\n",
              "      <td>1543266992</td>\n",
              "      <td>0.64</td>\n",
              "      <td>0.1300</td>\n",
              "      <td>1543251600</td>\n",
              "      <td>40.49</td>\n",
              "      <td>1543233600</td>\n",
              "      <td>47.30</td>\n",
              "      <td>1543251600</td>\n",
              "      <td>36.20</td>\n",
              "      <td>1543291200</td>\n",
              "      <td>43.92</td>\n",
              "      <td>1543251600</td>\n",
              "    </tr>\n",
              "    <tr>\n",
              "      <th>2</th>\n",
              "      <td>981a3613-77af-4620-a42a-0c0866077d1e</td>\n",
              "      <td>1.543367e+09</td>\n",
              "      <td>1</td>\n",
              "      <td>28</td>\n",
              "      <td>11</td>\n",
              "      <td>2018-11-28 01:00:22</td>\n",
              "      <td>America/New_York</td>\n",
              "      <td>Haymarket Square</td>\n",
              "      <td>North Station</td>\n",
              "      <td>Lyft</td>\n",
              "      <td>lyft</td>\n",
              "      <td>Lyft</td>\n",
              "      <td>7.0</td>\n",
              "      <td>0.44</td>\n",
              "      <td>1.0</td>\n",
              "      <td>42.2148</td>\n",
              "      <td>-71.0330</td>\n",
              "      <td>38.33</td>\n",
              "      <td>32.93</td>\n",
              "      <td>Clear</td>\n",
              "      <td>Light rain in the morning.</td>\n",
              "      <td>0.0000</td>\n",
              "      <td>0.0</td>\n",
              "      <td>0.75</td>\n",
              "      <td>7.33</td>\n",
              "      <td>7.33</td>\n",
              "      <td>1543334400</td>\n",
              "      <td>10.000</td>\n",
              "      <td>47.55</td>\n",
              "      <td>1543320000</td>\n",
              "      <td>33.10</td>\n",
              "      <td>1543402800</td>\n",
              "      <td>44.12</td>\n",
              "      <td>1543320000</td>\n",
              "      <td>29.11</td>\n",
              "      <td>1543392000</td>\n",
              "      <td>clear-night</td>\n",
              "      <td>31.10</td>\n",
              "      <td>992.28</td>\n",
              "      <td>240</td>\n",
              "      <td>0.03</td>\n",
              "      <td>0</td>\n",
              "      <td>10.000</td>\n",
              "      <td>315.7</td>\n",
              "      <td>1543319437</td>\n",
              "      <td>1543353364</td>\n",
              "      <td>0.68</td>\n",
              "      <td>0.1064</td>\n",
              "      <td>1543338000</td>\n",
              "      <td>35.36</td>\n",
              "      <td>1543377600</td>\n",
              "      <td>47.55</td>\n",
              "      <td>1543320000</td>\n",
              "      <td>31.04</td>\n",
              "      <td>1543377600</td>\n",
              "      <td>44.12</td>\n",
              "      <td>1543320000</td>\n",
              "    </tr>\n",
              "    <tr>\n",
              "      <th>3</th>\n",
              "      <td>c2d88af2-d278-4bfd-a8d0-29ca77cc5512</td>\n",
              "      <td>1.543554e+09</td>\n",
              "      <td>4</td>\n",
              "      <td>30</td>\n",
              "      <td>11</td>\n",
              "      <td>2018-11-30 04:53:02</td>\n",
              "      <td>America/New_York</td>\n",
              "      <td>Haymarket Square</td>\n",
              "      <td>North Station</td>\n",
              "      <td>Lyft</td>\n",
              "      <td>lyft_luxsuv</td>\n",
              "      <td>Lux Black XL</td>\n",
              "      <td>26.0</td>\n",
              "      <td>0.44</td>\n",
              "      <td>1.0</td>\n",
              "      <td>42.2148</td>\n",
              "      <td>-71.0330</td>\n",
              "      <td>34.38</td>\n",
              "      <td>29.63</td>\n",
              "      <td>Clear</td>\n",
              "      <td>Partly cloudy throughout the day.</td>\n",
              "      <td>0.0000</td>\n",
              "      <td>0.0</td>\n",
              "      <td>0.73</td>\n",
              "      <td>5.28</td>\n",
              "      <td>5.28</td>\n",
              "      <td>1543514400</td>\n",
              "      <td>10.000</td>\n",
              "      <td>45.03</td>\n",
              "      <td>1543510800</td>\n",
              "      <td>28.90</td>\n",
              "      <td>1543579200</td>\n",
              "      <td>38.53</td>\n",
              "      <td>1543510800</td>\n",
              "      <td>26.20</td>\n",
              "      <td>1543575600</td>\n",
              "      <td>clear-night</td>\n",
              "      <td>26.64</td>\n",
              "      <td>1013.73</td>\n",
              "      <td>310</td>\n",
              "      <td>0.00</td>\n",
              "      <td>0</td>\n",
              "      <td>10.000</td>\n",
              "      <td>291.1</td>\n",
              "      <td>1543492370</td>\n",
              "      <td>1543526114</td>\n",
              "      <td>0.75</td>\n",
              "      <td>0.0000</td>\n",
              "      <td>1543507200</td>\n",
              "      <td>34.67</td>\n",
              "      <td>1543550400</td>\n",
              "      <td>45.03</td>\n",
              "      <td>1543510800</td>\n",
              "      <td>30.30</td>\n",
              "      <td>1543550400</td>\n",
              "      <td>38.53</td>\n",
              "      <td>1543510800</td>\n",
              "    </tr>\n",
              "    <tr>\n",
              "      <th>4</th>\n",
              "      <td>e0126e1f-8ca9-4f2e-82b3-50505a09db9a</td>\n",
              "      <td>1.543463e+09</td>\n",
              "      <td>3</td>\n",
              "      <td>29</td>\n",
              "      <td>11</td>\n",
              "      <td>2018-11-29 03:49:20</td>\n",
              "      <td>America/New_York</td>\n",
              "      <td>Haymarket Square</td>\n",
              "      <td>North Station</td>\n",
              "      <td>Lyft</td>\n",
              "      <td>lyft_plus</td>\n",
              "      <td>Lyft XL</td>\n",
              "      <td>9.0</td>\n",
              "      <td>0.44</td>\n",
              "      <td>1.0</td>\n",
              "      <td>42.2148</td>\n",
              "      <td>-71.0330</td>\n",
              "      <td>37.44</td>\n",
              "      <td>30.88</td>\n",
              "      <td>Partly Cloudy</td>\n",
              "      <td>Mostly cloudy throughout the day.</td>\n",
              "      <td>0.0000</td>\n",
              "      <td>0.0</td>\n",
              "      <td>0.70</td>\n",
              "      <td>9.14</td>\n",
              "      <td>9.14</td>\n",
              "      <td>1543446000</td>\n",
              "      <td>10.000</td>\n",
              "      <td>42.18</td>\n",
              "      <td>1543420800</td>\n",
              "      <td>36.71</td>\n",
              "      <td>1543478400</td>\n",
              "      <td>35.75</td>\n",
              "      <td>1543420800</td>\n",
              "      <td>30.29</td>\n",
              "      <td>1543460400</td>\n",
              "      <td>partly-cloudy-night</td>\n",
              "      <td>28.61</td>\n",
              "      <td>998.36</td>\n",
              "      <td>303</td>\n",
              "      <td>0.44</td>\n",
              "      <td>0</td>\n",
              "      <td>10.000</td>\n",
              "      <td>347.7</td>\n",
              "      <td>1543405904</td>\n",
              "      <td>1543439738</td>\n",
              "      <td>0.72</td>\n",
              "      <td>0.0001</td>\n",
              "      <td>1543420800</td>\n",
              "      <td>33.10</td>\n",
              "      <td>1543402800</td>\n",
              "      <td>42.18</td>\n",
              "      <td>1543420800</td>\n",
              "      <td>29.11</td>\n",
              "      <td>1543392000</td>\n",
              "      <td>35.75</td>\n",
              "      <td>1543420800</td>\n",
              "    </tr>\n",
              "    <tr>\n",
              "      <th>...</th>\n",
              "      <td>...</td>\n",
              "      <td>...</td>\n",
              "      <td>...</td>\n",
              "      <td>...</td>\n",
              "      <td>...</td>\n",
              "      <td>...</td>\n",
              "      <td>...</td>\n",
              "      <td>...</td>\n",
              "      <td>...</td>\n",
              "      <td>...</td>\n",
              "      <td>...</td>\n",
              "      <td>...</td>\n",
              "      <td>...</td>\n",
              "      <td>...</td>\n",
              "      <td>...</td>\n",
              "      <td>...</td>\n",
              "      <td>...</td>\n",
              "      <td>...</td>\n",
              "      <td>...</td>\n",
              "      <td>...</td>\n",
              "      <td>...</td>\n",
              "      <td>...</td>\n",
              "      <td>...</td>\n",
              "      <td>...</td>\n",
              "      <td>...</td>\n",
              "      <td>...</td>\n",
              "      <td>...</td>\n",
              "      <td>...</td>\n",
              "      <td>...</td>\n",
              "      <td>...</td>\n",
              "      <td>...</td>\n",
              "      <td>...</td>\n",
              "      <td>...</td>\n",
              "      <td>...</td>\n",
              "      <td>...</td>\n",
              "      <td>...</td>\n",
              "      <td>...</td>\n",
              "      <td>...</td>\n",
              "      <td>...</td>\n",
              "      <td>...</td>\n",
              "      <td>...</td>\n",
              "      <td>...</td>\n",
              "      <td>...</td>\n",
              "      <td>...</td>\n",
              "      <td>...</td>\n",
              "      <td>...</td>\n",
              "      <td>...</td>\n",
              "      <td>...</td>\n",
              "      <td>...</td>\n",
              "      <td>...</td>\n",
              "      <td>...</td>\n",
              "      <td>...</td>\n",
              "      <td>...</td>\n",
              "      <td>...</td>\n",
              "      <td>...</td>\n",
              "      <td>...</td>\n",
              "      <td>...</td>\n",
              "    </tr>\n",
              "    <tr>\n",
              "      <th>693066</th>\n",
              "      <td>616d3611-1820-450a-9845-a9ff304a4842</td>\n",
              "      <td>1.543708e+09</td>\n",
              "      <td>23</td>\n",
              "      <td>1</td>\n",
              "      <td>12</td>\n",
              "      <td>2018-12-01 23:53:05</td>\n",
              "      <td>America/New_York</td>\n",
              "      <td>West End</td>\n",
              "      <td>North End</td>\n",
              "      <td>Uber</td>\n",
              "      <td>6f72dfc5-27f1-42e8-84db-ccc7a75f6969</td>\n",
              "      <td>UberXL</td>\n",
              "      <td>13.0</td>\n",
              "      <td>1.00</td>\n",
              "      <td>1.0</td>\n",
              "      <td>42.3519</td>\n",
              "      <td>-71.0643</td>\n",
              "      <td>37.05</td>\n",
              "      <td>37.05</td>\n",
              "      <td>Partly Cloudy</td>\n",
              "      <td>Light rain in the morning and overnight.</td>\n",
              "      <td>0.0000</td>\n",
              "      <td>0.0</td>\n",
              "      <td>0.74</td>\n",
              "      <td>2.34</td>\n",
              "      <td>2.87</td>\n",
              "      <td>1543672800</td>\n",
              "      <td>9.785</td>\n",
              "      <td>44.76</td>\n",
              "      <td>1543690800</td>\n",
              "      <td>34.83</td>\n",
              "      <td>1543712400</td>\n",
              "      <td>44.09</td>\n",
              "      <td>1543690800</td>\n",
              "      <td>35.48</td>\n",
              "      <td>1543712400</td>\n",
              "      <td>partly-cloudy-night</td>\n",
              "      <td>29.65</td>\n",
              "      <td>1023.57</td>\n",
              "      <td>133</td>\n",
              "      <td>0.31</td>\n",
              "      <td>0</td>\n",
              "      <td>9.785</td>\n",
              "      <td>271.5</td>\n",
              "      <td>1543665331</td>\n",
              "      <td>1543698855</td>\n",
              "      <td>0.82</td>\n",
              "      <td>0.0000</td>\n",
              "      <td>1543683600</td>\n",
              "      <td>31.42</td>\n",
              "      <td>1543658400</td>\n",
              "      <td>44.76</td>\n",
              "      <td>1543690800</td>\n",
              "      <td>27.77</td>\n",
              "      <td>1543658400</td>\n",
              "      <td>44.09</td>\n",
              "      <td>1543690800</td>\n",
              "    </tr>\n",
              "    <tr>\n",
              "      <th>693067</th>\n",
              "      <td>633a3fc3-1f86-4b9e-9d48-2b7132112341</td>\n",
              "      <td>1.543708e+09</td>\n",
              "      <td>23</td>\n",
              "      <td>1</td>\n",
              "      <td>12</td>\n",
              "      <td>2018-12-01 23:53:05</td>\n",
              "      <td>America/New_York</td>\n",
              "      <td>West End</td>\n",
              "      <td>North End</td>\n",
              "      <td>Uber</td>\n",
              "      <td>55c66225-fbe7-4fd5-9072-eab1ece5e23e</td>\n",
              "      <td>UberX</td>\n",
              "      <td>9.5</td>\n",
              "      <td>1.00</td>\n",
              "      <td>1.0</td>\n",
              "      <td>42.3519</td>\n",
              "      <td>-71.0643</td>\n",
              "      <td>37.05</td>\n",
              "      <td>37.05</td>\n",
              "      <td>Partly Cloudy</td>\n",
              "      <td>Light rain in the morning and overnight.</td>\n",
              "      <td>0.0000</td>\n",
              "      <td>0.0</td>\n",
              "      <td>0.74</td>\n",
              "      <td>2.34</td>\n",
              "      <td>2.87</td>\n",
              "      <td>1543672800</td>\n",
              "      <td>9.785</td>\n",
              "      <td>44.76</td>\n",
              "      <td>1543690800</td>\n",
              "      <td>34.83</td>\n",
              "      <td>1543712400</td>\n",
              "      <td>44.09</td>\n",
              "      <td>1543690800</td>\n",
              "      <td>35.48</td>\n",
              "      <td>1543712400</td>\n",
              "      <td>partly-cloudy-night</td>\n",
              "      <td>29.65</td>\n",
              "      <td>1023.57</td>\n",
              "      <td>133</td>\n",
              "      <td>0.31</td>\n",
              "      <td>0</td>\n",
              "      <td>9.785</td>\n",
              "      <td>271.5</td>\n",
              "      <td>1543665331</td>\n",
              "      <td>1543698855</td>\n",
              "      <td>0.82</td>\n",
              "      <td>0.0000</td>\n",
              "      <td>1543683600</td>\n",
              "      <td>31.42</td>\n",
              "      <td>1543658400</td>\n",
              "      <td>44.76</td>\n",
              "      <td>1543690800</td>\n",
              "      <td>27.77</td>\n",
              "      <td>1543658400</td>\n",
              "      <td>44.09</td>\n",
              "      <td>1543690800</td>\n",
              "    </tr>\n",
              "    <tr>\n",
              "      <th>693068</th>\n",
              "      <td>64d451d0-639f-47a4-9b7c-6fd92fbd264f</td>\n",
              "      <td>1.543708e+09</td>\n",
              "      <td>23</td>\n",
              "      <td>1</td>\n",
              "      <td>12</td>\n",
              "      <td>2018-12-01 23:53:05</td>\n",
              "      <td>America/New_York</td>\n",
              "      <td>West End</td>\n",
              "      <td>North End</td>\n",
              "      <td>Uber</td>\n",
              "      <td>8cf7e821-f0d3-49c6-8eba-e679c0ebcf6a</td>\n",
              "      <td>Taxi</td>\n",
              "      <td>NaN</td>\n",
              "      <td>1.00</td>\n",
              "      <td>1.0</td>\n",
              "      <td>42.3519</td>\n",
              "      <td>-71.0643</td>\n",
              "      <td>37.05</td>\n",
              "      <td>37.05</td>\n",
              "      <td>Partly Cloudy</td>\n",
              "      <td>Light rain in the morning and overnight.</td>\n",
              "      <td>0.0000</td>\n",
              "      <td>0.0</td>\n",
              "      <td>0.74</td>\n",
              "      <td>2.34</td>\n",
              "      <td>2.87</td>\n",
              "      <td>1543672800</td>\n",
              "      <td>9.785</td>\n",
              "      <td>44.76</td>\n",
              "      <td>1543690800</td>\n",
              "      <td>34.83</td>\n",
              "      <td>1543712400</td>\n",
              "      <td>44.09</td>\n",
              "      <td>1543690800</td>\n",
              "      <td>35.48</td>\n",
              "      <td>1543712400</td>\n",
              "      <td>partly-cloudy-night</td>\n",
              "      <td>29.65</td>\n",
              "      <td>1023.57</td>\n",
              "      <td>133</td>\n",
              "      <td>0.31</td>\n",
              "      <td>0</td>\n",
              "      <td>9.785</td>\n",
              "      <td>271.5</td>\n",
              "      <td>1543665331</td>\n",
              "      <td>1543698855</td>\n",
              "      <td>0.82</td>\n",
              "      <td>0.0000</td>\n",
              "      <td>1543683600</td>\n",
              "      <td>31.42</td>\n",
              "      <td>1543658400</td>\n",
              "      <td>44.76</td>\n",
              "      <td>1543690800</td>\n",
              "      <td>27.77</td>\n",
              "      <td>1543658400</td>\n",
              "      <td>44.09</td>\n",
              "      <td>1543690800</td>\n",
              "    </tr>\n",
              "    <tr>\n",
              "      <th>693069</th>\n",
              "      <td>727e5f07-a96b-4ad1-a2c7-9abc3ad55b4e</td>\n",
              "      <td>1.543708e+09</td>\n",
              "      <td>23</td>\n",
              "      <td>1</td>\n",
              "      <td>12</td>\n",
              "      <td>2018-12-01 23:53:05</td>\n",
              "      <td>America/New_York</td>\n",
              "      <td>West End</td>\n",
              "      <td>North End</td>\n",
              "      <td>Uber</td>\n",
              "      <td>6d318bcc-22a3-4af6-bddd-b409bfce1546</td>\n",
              "      <td>Black SUV</td>\n",
              "      <td>27.0</td>\n",
              "      <td>1.00</td>\n",
              "      <td>1.0</td>\n",
              "      <td>42.3519</td>\n",
              "      <td>-71.0643</td>\n",
              "      <td>37.05</td>\n",
              "      <td>37.05</td>\n",
              "      <td>Partly Cloudy</td>\n",
              "      <td>Light rain in the morning and overnight.</td>\n",
              "      <td>0.0000</td>\n",
              "      <td>0.0</td>\n",
              "      <td>0.74</td>\n",
              "      <td>2.34</td>\n",
              "      <td>2.87</td>\n",
              "      <td>1543672800</td>\n",
              "      <td>9.785</td>\n",
              "      <td>44.76</td>\n",
              "      <td>1543690800</td>\n",
              "      <td>34.83</td>\n",
              "      <td>1543712400</td>\n",
              "      <td>44.09</td>\n",
              "      <td>1543690800</td>\n",
              "      <td>35.48</td>\n",
              "      <td>1543712400</td>\n",
              "      <td>partly-cloudy-night</td>\n",
              "      <td>29.65</td>\n",
              "      <td>1023.57</td>\n",
              "      <td>133</td>\n",
              "      <td>0.31</td>\n",
              "      <td>0</td>\n",
              "      <td>9.785</td>\n",
              "      <td>271.5</td>\n",
              "      <td>1543665331</td>\n",
              "      <td>1543698855</td>\n",
              "      <td>0.82</td>\n",
              "      <td>0.0000</td>\n",
              "      <td>1543683600</td>\n",
              "      <td>31.42</td>\n",
              "      <td>1543658400</td>\n",
              "      <td>44.76</td>\n",
              "      <td>1543690800</td>\n",
              "      <td>27.77</td>\n",
              "      <td>1543658400</td>\n",
              "      <td>44.09</td>\n",
              "      <td>1543690800</td>\n",
              "    </tr>\n",
              "    <tr>\n",
              "      <th>693070</th>\n",
              "      <td>e7fdc087-fe86-40a5-a3c3-3b2a8badcbda</td>\n",
              "      <td>1.543708e+09</td>\n",
              "      <td>23</td>\n",
              "      <td>1</td>\n",
              "      <td>12</td>\n",
              "      <td>2018-12-01 23:53:05</td>\n",
              "      <td>America/New_York</td>\n",
              "      <td>West End</td>\n",
              "      <td>North End</td>\n",
              "      <td>Uber</td>\n",
              "      <td>997acbb5-e102-41e1-b155-9df7de0a73f2</td>\n",
              "      <td>UberPool</td>\n",
              "      <td>10.0</td>\n",
              "      <td>1.00</td>\n",
              "      <td>1.0</td>\n",
              "      <td>42.3519</td>\n",
              "      <td>-71.0643</td>\n",
              "      <td>37.05</td>\n",
              "      <td>37.05</td>\n",
              "      <td>Partly Cloudy</td>\n",
              "      <td>Light rain in the morning and overnight.</td>\n",
              "      <td>0.0000</td>\n",
              "      <td>0.0</td>\n",
              "      <td>0.74</td>\n",
              "      <td>2.34</td>\n",
              "      <td>2.87</td>\n",
              "      <td>1543672800</td>\n",
              "      <td>9.785</td>\n",
              "      <td>44.76</td>\n",
              "      <td>1543690800</td>\n",
              "      <td>34.83</td>\n",
              "      <td>1543712400</td>\n",
              "      <td>44.09</td>\n",
              "      <td>1543690800</td>\n",
              "      <td>35.48</td>\n",
              "      <td>1543712400</td>\n",
              "      <td>partly-cloudy-night</td>\n",
              "      <td>29.65</td>\n",
              "      <td>1023.57</td>\n",
              "      <td>133</td>\n",
              "      <td>0.31</td>\n",
              "      <td>0</td>\n",
              "      <td>9.785</td>\n",
              "      <td>271.5</td>\n",
              "      <td>1543665331</td>\n",
              "      <td>1543698855</td>\n",
              "      <td>0.82</td>\n",
              "      <td>0.0000</td>\n",
              "      <td>1543683600</td>\n",
              "      <td>31.42</td>\n",
              "      <td>1543658400</td>\n",
              "      <td>44.76</td>\n",
              "      <td>1543690800</td>\n",
              "      <td>27.77</td>\n",
              "      <td>1543658400</td>\n",
              "      <td>44.09</td>\n",
              "      <td>1543690800</td>\n",
              "    </tr>\n",
              "  </tbody>\n",
              "</table>\n",
              "<p>693071 rows × 57 columns</p>\n",
              "</div>\n",
              "      <button class=\"colab-df-convert\" onclick=\"convertToInteractive('df-d1155c59-125f-449a-b816-588b4160ee20')\"\n",
              "              title=\"Convert this dataframe to an interactive table.\"\n",
              "              style=\"display:none;\">\n",
              "        \n",
              "  <svg xmlns=\"http://www.w3.org/2000/svg\" height=\"24px\"viewBox=\"0 0 24 24\"\n",
              "       width=\"24px\">\n",
              "    <path d=\"M0 0h24v24H0V0z\" fill=\"none\"/>\n",
              "    <path d=\"M18.56 5.44l.94 2.06.94-2.06 2.06-.94-2.06-.94-.94-2.06-.94 2.06-2.06.94zm-11 1L8.5 8.5l.94-2.06 2.06-.94-2.06-.94L8.5 2.5l-.94 2.06-2.06.94zm10 10l.94 2.06.94-2.06 2.06-.94-2.06-.94-.94-2.06-.94 2.06-2.06.94z\"/><path d=\"M17.41 7.96l-1.37-1.37c-.4-.4-.92-.59-1.43-.59-.52 0-1.04.2-1.43.59L10.3 9.45l-7.72 7.72c-.78.78-.78 2.05 0 2.83L4 21.41c.39.39.9.59 1.41.59.51 0 1.02-.2 1.41-.59l7.78-7.78 2.81-2.81c.8-.78.8-2.07 0-2.86zM5.41 20L4 18.59l7.72-7.72 1.47 1.35L5.41 20z\"/>\n",
              "  </svg>\n",
              "      </button>\n",
              "      \n",
              "  <style>\n",
              "    .colab-df-container {\n",
              "      display:flex;\n",
              "      flex-wrap:wrap;\n",
              "      gap: 12px;\n",
              "    }\n",
              "\n",
              "    .colab-df-convert {\n",
              "      background-color: #E8F0FE;\n",
              "      border: none;\n",
              "      border-radius: 50%;\n",
              "      cursor: pointer;\n",
              "      display: none;\n",
              "      fill: #1967D2;\n",
              "      height: 32px;\n",
              "      padding: 0 0 0 0;\n",
              "      width: 32px;\n",
              "    }\n",
              "\n",
              "    .colab-df-convert:hover {\n",
              "      background-color: #E2EBFA;\n",
              "      box-shadow: 0px 1px 2px rgba(60, 64, 67, 0.3), 0px 1px 3px 1px rgba(60, 64, 67, 0.15);\n",
              "      fill: #174EA6;\n",
              "    }\n",
              "\n",
              "    [theme=dark] .colab-df-convert {\n",
              "      background-color: #3B4455;\n",
              "      fill: #D2E3FC;\n",
              "    }\n",
              "\n",
              "    [theme=dark] .colab-df-convert:hover {\n",
              "      background-color: #434B5C;\n",
              "      box-shadow: 0px 1px 3px 1px rgba(0, 0, 0, 0.15);\n",
              "      filter: drop-shadow(0px 1px 2px rgba(0, 0, 0, 0.3));\n",
              "      fill: #FFFFFF;\n",
              "    }\n",
              "  </style>\n",
              "\n",
              "      <script>\n",
              "        const buttonEl =\n",
              "          document.querySelector('#df-d1155c59-125f-449a-b816-588b4160ee20 button.colab-df-convert');\n",
              "        buttonEl.style.display =\n",
              "          google.colab.kernel.accessAllowed ? 'block' : 'none';\n",
              "\n",
              "        async function convertToInteractive(key) {\n",
              "          const element = document.querySelector('#df-d1155c59-125f-449a-b816-588b4160ee20');\n",
              "          const dataTable =\n",
              "            await google.colab.kernel.invokeFunction('convertToInteractive',\n",
              "                                                     [key], {});\n",
              "          if (!dataTable) return;\n",
              "\n",
              "          const docLinkHtml = 'Like what you see? Visit the ' +\n",
              "            '<a target=\"_blank\" href=https://colab.research.google.com/notebooks/data_table.ipynb>data table notebook</a>'\n",
              "            + ' to learn more about interactive tables.';\n",
              "          element.innerHTML = '';\n",
              "          dataTable['output_type'] = 'display_data';\n",
              "          await google.colab.output.renderOutput(dataTable, element);\n",
              "          const docLink = document.createElement('div');\n",
              "          docLink.innerHTML = docLinkHtml;\n",
              "          element.appendChild(docLink);\n",
              "        }\n",
              "      </script>\n",
              "    </div>\n",
              "  </div>\n",
              "  "
            ],
            "text/plain": [
              "                                          id  ...  apparentTemperatureMaxTime\n",
              "0       424553bb-7174-41ea-aeb4-fe06d4f4b9d7  ...                  1544958000\n",
              "1       4bd23055-6827-41c6-b23b-3c491f24e74d  ...                  1543251600\n",
              "2       981a3613-77af-4620-a42a-0c0866077d1e  ...                  1543320000\n",
              "3       c2d88af2-d278-4bfd-a8d0-29ca77cc5512  ...                  1543510800\n",
              "4       e0126e1f-8ca9-4f2e-82b3-50505a09db9a  ...                  1543420800\n",
              "...                                      ...  ...                         ...\n",
              "693066  616d3611-1820-450a-9845-a9ff304a4842  ...                  1543690800\n",
              "693067  633a3fc3-1f86-4b9e-9d48-2b7132112341  ...                  1543690800\n",
              "693068  64d451d0-639f-47a4-9b7c-6fd92fbd264f  ...                  1543690800\n",
              "693069  727e5f07-a96b-4ad1-a2c7-9abc3ad55b4e  ...                  1543690800\n",
              "693070  e7fdc087-fe86-40a5-a3c3-3b2a8badcbda  ...                  1543690800\n",
              "\n",
              "[693071 rows x 57 columns]"
            ]
          },
          "metadata": {},
          "execution_count": 2
        }
      ],
      "source": [
        "df = pd.read_csv('/content/drive/MyDrive/Colab Notebooks/hacktiv8/Dataset/rideshare_kaggle.csv')\n",
        "df"
      ]
    },
    {
      "cell_type": "code",
      "execution_count": null,
      "metadata": {
        "colab": {
          "base_uri": "https://localhost:8080/"
        },
        "id": "VEbvmH7K0LaQ",
        "outputId": "84d21a71-6353-4ecf-c497-b66749def63a"
      },
      "outputs": [
        {
          "output_type": "stream",
          "name": "stdout",
          "text": [
            "<class 'pandas.core.frame.DataFrame'>\n",
            "RangeIndex: 693071 entries, 0 to 693070\n",
            "Data columns (total 57 columns):\n",
            " #   Column                       Non-Null Count   Dtype  \n",
            "---  ------                       --------------   -----  \n",
            " 0   id                           693071 non-null  object \n",
            " 1   timestamp                    693071 non-null  float64\n",
            " 2   hour                         693071 non-null  int64  \n",
            " 3   day                          693071 non-null  int64  \n",
            " 4   month                        693071 non-null  int64  \n",
            " 5   datetime                     693071 non-null  object \n",
            " 6   timezone                     693071 non-null  object \n",
            " 7   source                       693071 non-null  object \n",
            " 8   destination                  693071 non-null  object \n",
            " 9   cab_type                     693071 non-null  object \n",
            " 10  product_id                   693071 non-null  object \n",
            " 11  name                         693071 non-null  object \n",
            " 12  price                        637976 non-null  float64\n",
            " 13  distance                     693071 non-null  float64\n",
            " 14  surge_multiplier             693071 non-null  float64\n",
            " 15  latitude                     693071 non-null  float64\n",
            " 16  longitude                    693071 non-null  float64\n",
            " 17  temperature                  693071 non-null  float64\n",
            " 18  apparentTemperature          693071 non-null  float64\n",
            " 19  short_summary                693071 non-null  object \n",
            " 20  long_summary                 693071 non-null  object \n",
            " 21  precipIntensity              693071 non-null  float64\n",
            " 22  precipProbability            693071 non-null  float64\n",
            " 23  humidity                     693071 non-null  float64\n",
            " 24  windSpeed                    693071 non-null  float64\n",
            " 25  windGust                     693071 non-null  float64\n",
            " 26  windGustTime                 693071 non-null  int64  \n",
            " 27  visibility                   693071 non-null  float64\n",
            " 28  temperatureHigh              693071 non-null  float64\n",
            " 29  temperatureHighTime          693071 non-null  int64  \n",
            " 30  temperatureLow               693071 non-null  float64\n",
            " 31  temperatureLowTime           693071 non-null  int64  \n",
            " 32  apparentTemperatureHigh      693071 non-null  float64\n",
            " 33  apparentTemperatureHighTime  693071 non-null  int64  \n",
            " 34  apparentTemperatureLow       693071 non-null  float64\n",
            " 35  apparentTemperatureLowTime   693071 non-null  int64  \n",
            " 36  icon                         693071 non-null  object \n",
            " 37  dewPoint                     693071 non-null  float64\n",
            " 38  pressure                     693071 non-null  float64\n",
            " 39  windBearing                  693071 non-null  int64  \n",
            " 40  cloudCover                   693071 non-null  float64\n",
            " 41  uvIndex                      693071 non-null  int64  \n",
            " 42  visibility.1                 693071 non-null  float64\n",
            " 43  ozone                        693071 non-null  float64\n",
            " 44  sunriseTime                  693071 non-null  int64  \n",
            " 45  sunsetTime                   693071 non-null  int64  \n",
            " 46  moonPhase                    693071 non-null  float64\n",
            " 47  precipIntensityMax           693071 non-null  float64\n",
            " 48  uvIndexTime                  693071 non-null  int64  \n",
            " 49  temperatureMin               693071 non-null  float64\n",
            " 50  temperatureMinTime           693071 non-null  int64  \n",
            " 51  temperatureMax               693071 non-null  float64\n",
            " 52  temperatureMaxTime           693071 non-null  int64  \n",
            " 53  apparentTemperatureMin       693071 non-null  float64\n",
            " 54  apparentTemperatureMinTime   693071 non-null  int64  \n",
            " 55  apparentTemperatureMax       693071 non-null  float64\n",
            " 56  apparentTemperatureMaxTime   693071 non-null  int64  \n",
            "dtypes: float64(29), int64(17), object(11)\n",
            "memory usage: 301.4+ MB\n"
          ]
        }
      ],
      "source": [
        "df.info()"
      ]
    },
    {
      "cell_type": "code",
      "execution_count": null,
      "metadata": {
        "colab": {
          "base_uri": "https://localhost:8080/"
        },
        "id": "CwUwnV3l6svA",
        "outputId": "2087c45b-0776-4b3f-a43d-b317847318b2"
      },
      "outputs": [
        {
          "output_type": "execute_result",
          "data": {
            "text/plain": [
              "id                                 0\n",
              "timestamp                          0\n",
              "hour                               0\n",
              "day                                0\n",
              "month                              0\n",
              "datetime                           0\n",
              "timezone                           0\n",
              "source                             0\n",
              "destination                        0\n",
              "cab_type                           0\n",
              "product_id                         0\n",
              "name                               0\n",
              "price                          55095\n",
              "distance                           0\n",
              "surge_multiplier                   0\n",
              "latitude                           0\n",
              "longitude                          0\n",
              "temperature                        0\n",
              "apparentTemperature                0\n",
              "short_summary                      0\n",
              "long_summary                       0\n",
              "precipIntensity                    0\n",
              "precipProbability                  0\n",
              "humidity                           0\n",
              "windSpeed                          0\n",
              "windGust                           0\n",
              "windGustTime                       0\n",
              "visibility                         0\n",
              "temperatureHigh                    0\n",
              "temperatureHighTime                0\n",
              "temperatureLow                     0\n",
              "temperatureLowTime                 0\n",
              "apparentTemperatureHigh            0\n",
              "apparentTemperatureHighTime        0\n",
              "apparentTemperatureLow             0\n",
              "apparentTemperatureLowTime         0\n",
              "icon                               0\n",
              "dewPoint                           0\n",
              "pressure                           0\n",
              "windBearing                        0\n",
              "cloudCover                         0\n",
              "uvIndex                            0\n",
              "visibility.1                       0\n",
              "ozone                              0\n",
              "sunriseTime                        0\n",
              "sunsetTime                         0\n",
              "moonPhase                          0\n",
              "precipIntensityMax                 0\n",
              "uvIndexTime                        0\n",
              "temperatureMin                     0\n",
              "temperatureMinTime                 0\n",
              "temperatureMax                     0\n",
              "temperatureMaxTime                 0\n",
              "apparentTemperatureMin             0\n",
              "apparentTemperatureMinTime         0\n",
              "apparentTemperatureMax             0\n",
              "apparentTemperatureMaxTime         0\n",
              "dtype: int64"
            ]
          },
          "metadata": {},
          "execution_count": 4
        }
      ],
      "source": [
        "df.isnull().sum()"
      ]
    },
    {
      "cell_type": "code",
      "execution_count": null,
      "metadata": {
        "colab": {
          "base_uri": "https://localhost:8080/",
          "height": 1000
        },
        "id": "J4KcgCAk7Jjm",
        "outputId": "f4f034ae-b664-4efd-a884-9653b913f2a2"
      },
      "outputs": [
        {
          "output_type": "execute_result",
          "data": {
            "text/html": [
              "\n",
              "  <div id=\"df-1f29677d-a077-4b4a-bee0-e66a1d85c666\">\n",
              "    <div class=\"colab-df-container\">\n",
              "      <div>\n",
              "<style scoped>\n",
              "    .dataframe tbody tr th:only-of-type {\n",
              "        vertical-align: middle;\n",
              "    }\n",
              "\n",
              "    .dataframe tbody tr th {\n",
              "        vertical-align: top;\n",
              "    }\n",
              "\n",
              "    .dataframe thead th {\n",
              "        text-align: right;\n",
              "    }\n",
              "</style>\n",
              "<table border=\"1\" class=\"dataframe\">\n",
              "  <thead>\n",
              "    <tr style=\"text-align: right;\">\n",
              "      <th></th>\n",
              "      <th>count</th>\n",
              "      <th>mean</th>\n",
              "      <th>std</th>\n",
              "      <th>min</th>\n",
              "      <th>25%</th>\n",
              "      <th>50%</th>\n",
              "      <th>75%</th>\n",
              "      <th>max</th>\n",
              "    </tr>\n",
              "  </thead>\n",
              "  <tbody>\n",
              "    <tr>\n",
              "      <th>timestamp</th>\n",
              "      <td>693071.0</td>\n",
              "      <td>1.544046e+09</td>\n",
              "      <td>689192.492586</td>\n",
              "      <td>1.543204e+09</td>\n",
              "      <td>1.543444e+09</td>\n",
              "      <td>1.543737e+09</td>\n",
              "      <td>1.544828e+09</td>\n",
              "      <td>1.545161e+09</td>\n",
              "    </tr>\n",
              "    <tr>\n",
              "      <th>hour</th>\n",
              "      <td>693071.0</td>\n",
              "      <td>1.161914e+01</td>\n",
              "      <td>6.948114</td>\n",
              "      <td>0.000000e+00</td>\n",
              "      <td>6.000000e+00</td>\n",
              "      <td>1.200000e+01</td>\n",
              "      <td>1.800000e+01</td>\n",
              "      <td>2.300000e+01</td>\n",
              "    </tr>\n",
              "    <tr>\n",
              "      <th>day</th>\n",
              "      <td>693071.0</td>\n",
              "      <td>1.779436e+01</td>\n",
              "      <td>9.982286</td>\n",
              "      <td>1.000000e+00</td>\n",
              "      <td>1.300000e+01</td>\n",
              "      <td>1.700000e+01</td>\n",
              "      <td>2.800000e+01</td>\n",
              "      <td>3.000000e+01</td>\n",
              "    </tr>\n",
              "    <tr>\n",
              "      <th>month</th>\n",
              "      <td>693071.0</td>\n",
              "      <td>1.158668e+01</td>\n",
              "      <td>0.492429</td>\n",
              "      <td>1.100000e+01</td>\n",
              "      <td>1.100000e+01</td>\n",
              "      <td>1.200000e+01</td>\n",
              "      <td>1.200000e+01</td>\n",
              "      <td>1.200000e+01</td>\n",
              "    </tr>\n",
              "    <tr>\n",
              "      <th>price</th>\n",
              "      <td>637976.0</td>\n",
              "      <td>1.654513e+01</td>\n",
              "      <td>9.324359</td>\n",
              "      <td>2.500000e+00</td>\n",
              "      <td>9.000000e+00</td>\n",
              "      <td>1.350000e+01</td>\n",
              "      <td>2.250000e+01</td>\n",
              "      <td>9.750000e+01</td>\n",
              "    </tr>\n",
              "    <tr>\n",
              "      <th>distance</th>\n",
              "      <td>693071.0</td>\n",
              "      <td>2.189430e+00</td>\n",
              "      <td>1.138937</td>\n",
              "      <td>2.000000e-02</td>\n",
              "      <td>1.280000e+00</td>\n",
              "      <td>2.160000e+00</td>\n",
              "      <td>2.920000e+00</td>\n",
              "      <td>7.860000e+00</td>\n",
              "    </tr>\n",
              "    <tr>\n",
              "      <th>surge_multiplier</th>\n",
              "      <td>693071.0</td>\n",
              "      <td>1.013870e+00</td>\n",
              "      <td>0.091641</td>\n",
              "      <td>1.000000e+00</td>\n",
              "      <td>1.000000e+00</td>\n",
              "      <td>1.000000e+00</td>\n",
              "      <td>1.000000e+00</td>\n",
              "      <td>3.000000e+00</td>\n",
              "    </tr>\n",
              "    <tr>\n",
              "      <th>latitude</th>\n",
              "      <td>693071.0</td>\n",
              "      <td>4.233817e+01</td>\n",
              "      <td>0.047840</td>\n",
              "      <td>4.221480e+01</td>\n",
              "      <td>4.235030e+01</td>\n",
              "      <td>4.235190e+01</td>\n",
              "      <td>4.236470e+01</td>\n",
              "      <td>4.236610e+01</td>\n",
              "    </tr>\n",
              "    <tr>\n",
              "      <th>longitude</th>\n",
              "      <td>693071.0</td>\n",
              "      <td>-7.106615e+01</td>\n",
              "      <td>0.020302</td>\n",
              "      <td>-7.110540e+01</td>\n",
              "      <td>-7.108100e+01</td>\n",
              "      <td>-7.106310e+01</td>\n",
              "      <td>-7.105420e+01</td>\n",
              "      <td>-7.103300e+01</td>\n",
              "    </tr>\n",
              "    <tr>\n",
              "      <th>temperature</th>\n",
              "      <td>693071.0</td>\n",
              "      <td>3.958439e+01</td>\n",
              "      <td>6.726084</td>\n",
              "      <td>1.891000e+01</td>\n",
              "      <td>3.645000e+01</td>\n",
              "      <td>4.049000e+01</td>\n",
              "      <td>4.358000e+01</td>\n",
              "      <td>5.722000e+01</td>\n",
              "    </tr>\n",
              "    <tr>\n",
              "      <th>apparentTemperature</th>\n",
              "      <td>693071.0</td>\n",
              "      <td>3.588122e+01</td>\n",
              "      <td>7.918707</td>\n",
              "      <td>1.213000e+01</td>\n",
              "      <td>3.191000e+01</td>\n",
              "      <td>3.590000e+01</td>\n",
              "      <td>4.008000e+01</td>\n",
              "      <td>5.722000e+01</td>\n",
              "    </tr>\n",
              "    <tr>\n",
              "      <th>precipIntensity</th>\n",
              "      <td>693071.0</td>\n",
              "      <td>8.922153e-03</td>\n",
              "      <td>0.026901</td>\n",
              "      <td>0.000000e+00</td>\n",
              "      <td>0.000000e+00</td>\n",
              "      <td>0.000000e+00</td>\n",
              "      <td>0.000000e+00</td>\n",
              "      <td>1.447000e-01</td>\n",
              "    </tr>\n",
              "    <tr>\n",
              "      <th>precipProbability</th>\n",
              "      <td>693071.0</td>\n",
              "      <td>1.460758e-01</td>\n",
              "      <td>0.328938</td>\n",
              "      <td>0.000000e+00</td>\n",
              "      <td>0.000000e+00</td>\n",
              "      <td>0.000000e+00</td>\n",
              "      <td>0.000000e+00</td>\n",
              "      <td>1.000000e+00</td>\n",
              "    </tr>\n",
              "    <tr>\n",
              "      <th>humidity</th>\n",
              "      <td>693071.0</td>\n",
              "      <td>7.411187e-01</td>\n",
              "      <td>0.138595</td>\n",
              "      <td>3.800000e-01</td>\n",
              "      <td>6.400000e-01</td>\n",
              "      <td>7.100000e-01</td>\n",
              "      <td>8.800000e-01</td>\n",
              "      <td>9.600000e-01</td>\n",
              "    </tr>\n",
              "    <tr>\n",
              "      <th>windSpeed</th>\n",
              "      <td>693071.0</td>\n",
              "      <td>6.186253e+00</td>\n",
              "      <td>3.148223</td>\n",
              "      <td>4.500000e-01</td>\n",
              "      <td>3.410000e+00</td>\n",
              "      <td>5.910000e+00</td>\n",
              "      <td>8.410000e+00</td>\n",
              "      <td>1.500000e+01</td>\n",
              "    </tr>\n",
              "    <tr>\n",
              "      <th>windGust</th>\n",
              "      <td>693071.0</td>\n",
              "      <td>8.469860e+00</td>\n",
              "      <td>5.289179</td>\n",
              "      <td>8.000000e-01</td>\n",
              "      <td>4.060000e+00</td>\n",
              "      <td>7.550000e+00</td>\n",
              "      <td>1.174000e+01</td>\n",
              "      <td>2.725000e+01</td>\n",
              "    </tr>\n",
              "    <tr>\n",
              "      <th>windGustTime</th>\n",
              "      <td>693071.0</td>\n",
              "      <td>1.544049e+09</td>\n",
              "      <td>692824.402314</td>\n",
              "      <td>1.543151e+09</td>\n",
              "      <td>1.543432e+09</td>\n",
              "      <td>1.543756e+09</td>\n",
              "      <td>1.544846e+09</td>\n",
              "      <td>1.545127e+09</td>\n",
              "    </tr>\n",
              "    <tr>\n",
              "      <th>visibility</th>\n",
              "      <td>693071.0</td>\n",
              "      <td>8.467970e+00</td>\n",
              "      <td>2.602888</td>\n",
              "      <td>7.170000e-01</td>\n",
              "      <td>8.432000e+00</td>\n",
              "      <td>9.880000e+00</td>\n",
              "      <td>9.996000e+00</td>\n",
              "      <td>1.000000e+01</td>\n",
              "    </tr>\n",
              "    <tr>\n",
              "      <th>temperatureHigh</th>\n",
              "      <td>693071.0</td>\n",
              "      <td>4.504098e+01</td>\n",
              "      <td>5.996541</td>\n",
              "      <td>3.268000e+01</td>\n",
              "      <td>4.257000e+01</td>\n",
              "      <td>4.468000e+01</td>\n",
              "      <td>4.691000e+01</td>\n",
              "      <td>5.787000e+01</td>\n",
              "    </tr>\n",
              "    <tr>\n",
              "      <th>temperatureHighTime</th>\n",
              "      <td>693071.0</td>\n",
              "      <td>1.544050e+09</td>\n",
              "      <td>693792.107469</td>\n",
              "      <td>1.543154e+09</td>\n",
              "      <td>1.543439e+09</td>\n",
              "      <td>1.543788e+09</td>\n",
              "      <td>1.544814e+09</td>\n",
              "      <td>1.545160e+09</td>\n",
              "    </tr>\n",
              "    <tr>\n",
              "      <th>temperatureLow</th>\n",
              "      <td>693071.0</td>\n",
              "      <td>3.415074e+01</td>\n",
              "      <td>6.383163</td>\n",
              "      <td>1.785000e+01</td>\n",
              "      <td>3.017000e+01</td>\n",
              "      <td>3.418000e+01</td>\n",
              "      <td>3.873000e+01</td>\n",
              "      <td>4.660000e+01</td>\n",
              "    </tr>\n",
              "    <tr>\n",
              "      <th>temperatureLowTime</th>\n",
              "      <td>693071.0</td>\n",
              "      <td>1.544102e+09</td>\n",
              "      <td>692292.331983</td>\n",
              "      <td>1.543234e+09</td>\n",
              "      <td>1.543489e+09</td>\n",
              "      <td>1.543817e+09</td>\n",
              "      <td>1.544836e+09</td>\n",
              "      <td>1.545221e+09</td>\n",
              "    </tr>\n",
              "    <tr>\n",
              "      <th>apparentTemperatureHigh</th>\n",
              "      <td>693071.0</td>\n",
              "      <td>4.161405e+01</td>\n",
              "      <td>7.666138</td>\n",
              "      <td>2.262000e+01</td>\n",
              "      <td>3.657000e+01</td>\n",
              "      <td>4.095000e+01</td>\n",
              "      <td>4.412000e+01</td>\n",
              "      <td>5.720000e+01</td>\n",
              "    </tr>\n",
              "    <tr>\n",
              "      <th>apparentTemperatureHighTime</th>\n",
              "      <td>693071.0</td>\n",
              "      <td>1.544050e+09</td>\n",
              "      <td>694169.873816</td>\n",
              "      <td>1.543187e+09</td>\n",
              "      <td>1.543439e+09</td>\n",
              "      <td>1.543788e+09</td>\n",
              "      <td>1.544818e+09</td>\n",
              "      <td>1.545160e+09</td>\n",
              "    </tr>\n",
              "    <tr>\n",
              "      <th>apparentTemperatureLow</th>\n",
              "      <td>693071.0</td>\n",
              "      <td>3.013982e+01</td>\n",
              "      <td>8.057468</td>\n",
              "      <td>1.181000e+01</td>\n",
              "      <td>2.770000e+01</td>\n",
              "      <td>3.003000e+01</td>\n",
              "      <td>3.532000e+01</td>\n",
              "      <td>4.725000e+01</td>\n",
              "    </tr>\n",
              "    <tr>\n",
              "      <th>apparentTemperatureLowTime</th>\n",
              "      <td>693071.0</td>\n",
              "      <td>1.544099e+09</td>\n",
              "      <td>692737.825154</td>\n",
              "      <td>1.543234e+09</td>\n",
              "      <td>1.543478e+09</td>\n",
              "      <td>1.543817e+09</td>\n",
              "      <td>1.544836e+09</td>\n",
              "      <td>1.545199e+09</td>\n",
              "    </tr>\n",
              "    <tr>\n",
              "      <th>dewPoint</th>\n",
              "      <td>693071.0</td>\n",
              "      <td>3.165626e+01</td>\n",
              "      <td>9.142355</td>\n",
              "      <td>4.390000e+00</td>\n",
              "      <td>2.749000e+01</td>\n",
              "      <td>3.069000e+01</td>\n",
              "      <td>3.812000e+01</td>\n",
              "      <td>5.067000e+01</td>\n",
              "    </tr>\n",
              "    <tr>\n",
              "      <th>pressure</th>\n",
              "      <td>693071.0</td>\n",
              "      <td>1.010095e+03</td>\n",
              "      <td>13.472899</td>\n",
              "      <td>9.880900e+02</td>\n",
              "      <td>9.998200e+02</td>\n",
              "      <td>1.009250e+03</td>\n",
              "      <td>1.021860e+03</td>\n",
              "      <td>1.035550e+03</td>\n",
              "    </tr>\n",
              "    <tr>\n",
              "      <th>windBearing</th>\n",
              "      <td>693071.0</td>\n",
              "      <td>2.200559e+02</td>\n",
              "      <td>99.102736</td>\n",
              "      <td>2.000000e+00</td>\n",
              "      <td>1.240000e+02</td>\n",
              "      <td>2.580000e+02</td>\n",
              "      <td>3.030000e+02</td>\n",
              "      <td>3.560000e+02</td>\n",
              "    </tr>\n",
              "    <tr>\n",
              "      <th>cloudCover</th>\n",
              "      <td>693071.0</td>\n",
              "      <td>6.865020e-01</td>\n",
              "      <td>0.358534</td>\n",
              "      <td>0.000000e+00</td>\n",
              "      <td>3.700000e-01</td>\n",
              "      <td>8.200000e-01</td>\n",
              "      <td>1.000000e+00</td>\n",
              "      <td>1.000000e+00</td>\n",
              "    </tr>\n",
              "    <tr>\n",
              "      <th>uvIndex</th>\n",
              "      <td>693071.0</td>\n",
              "      <td>2.489081e-01</td>\n",
              "      <td>0.474097</td>\n",
              "      <td>0.000000e+00</td>\n",
              "      <td>0.000000e+00</td>\n",
              "      <td>0.000000e+00</td>\n",
              "      <td>0.000000e+00</td>\n",
              "      <td>2.000000e+00</td>\n",
              "    </tr>\n",
              "    <tr>\n",
              "      <th>visibility.1</th>\n",
              "      <td>693071.0</td>\n",
              "      <td>8.467970e+00</td>\n",
              "      <td>2.602888</td>\n",
              "      <td>7.170000e-01</td>\n",
              "      <td>8.432000e+00</td>\n",
              "      <td>9.880000e+00</td>\n",
              "      <td>9.996000e+00</td>\n",
              "      <td>1.000000e+01</td>\n",
              "    </tr>\n",
              "    <tr>\n",
              "      <th>ozone</th>\n",
              "      <td>693071.0</td>\n",
              "      <td>3.135136e+02</td>\n",
              "      <td>27.953061</td>\n",
              "      <td>2.694000e+02</td>\n",
              "      <td>2.909000e+02</td>\n",
              "      <td>3.074000e+02</td>\n",
              "      <td>3.318000e+02</td>\n",
              "      <td>3.789000e+02</td>\n",
              "    </tr>\n",
              "    <tr>\n",
              "      <th>sunriseTime</th>\n",
              "      <td>693071.0</td>\n",
              "      <td>1.544027e+09</td>\n",
              "      <td>691139.271721</td>\n",
              "      <td>1.543147e+09</td>\n",
              "      <td>1.543406e+09</td>\n",
              "      <td>1.543752e+09</td>\n",
              "      <td>1.544789e+09</td>\n",
              "      <td>1.545135e+09</td>\n",
              "    </tr>\n",
              "    <tr>\n",
              "      <th>sunsetTime</th>\n",
              "      <td>693071.0</td>\n",
              "      <td>1.544060e+09</td>\n",
              "      <td>690663.392963</td>\n",
              "      <td>1.543181e+09</td>\n",
              "      <td>1.543440e+09</td>\n",
              "      <td>1.543785e+09</td>\n",
              "      <td>1.544822e+09</td>\n",
              "      <td>1.545168e+09</td>\n",
              "    </tr>\n",
              "    <tr>\n",
              "      <th>moonPhase</th>\n",
              "      <td>693071.0</td>\n",
              "      <td>5.790655e-01</td>\n",
              "      <td>0.244705</td>\n",
              "      <td>9.000000e-02</td>\n",
              "      <td>3.000000e-01</td>\n",
              "      <td>6.800000e-01</td>\n",
              "      <td>7.900000e-01</td>\n",
              "      <td>9.300000e-01</td>\n",
              "    </tr>\n",
              "    <tr>\n",
              "      <th>precipIntensityMax</th>\n",
              "      <td>693071.0</td>\n",
              "      <td>3.737441e-02</td>\n",
              "      <td>0.055214</td>\n",
              "      <td>0.000000e+00</td>\n",
              "      <td>0.000000e+00</td>\n",
              "      <td>4.000000e-04</td>\n",
              "      <td>9.160000e-02</td>\n",
              "      <td>1.459000e-01</td>\n",
              "    </tr>\n",
              "    <tr>\n",
              "      <th>uvIndexTime</th>\n",
              "      <td>693071.0</td>\n",
              "      <td>1.544044e+09</td>\n",
              "      <td>691202.767271</td>\n",
              "      <td>1.543162e+09</td>\n",
              "      <td>1.543421e+09</td>\n",
              "      <td>1.543770e+09</td>\n",
              "      <td>1.544807e+09</td>\n",
              "      <td>1.545152e+09</td>\n",
              "    </tr>\n",
              "    <tr>\n",
              "      <th>temperatureMin</th>\n",
              "      <td>693071.0</td>\n",
              "      <td>3.345777e+01</td>\n",
              "      <td>6.467224</td>\n",
              "      <td>1.563000e+01</td>\n",
              "      <td>3.017000e+01</td>\n",
              "      <td>3.424000e+01</td>\n",
              "      <td>3.888000e+01</td>\n",
              "      <td>4.310000e+01</td>\n",
              "    </tr>\n",
              "    <tr>\n",
              "      <th>temperatureMinTime</th>\n",
              "      <td>693071.0</td>\n",
              "      <td>1.544042e+09</td>\n",
              "      <td>690195.441406</td>\n",
              "      <td>1.543122e+09</td>\n",
              "      <td>1.543399e+09</td>\n",
              "      <td>1.543727e+09</td>\n",
              "      <td>1.544789e+09</td>\n",
              "      <td>1.545192e+09</td>\n",
              "    </tr>\n",
              "    <tr>\n",
              "      <th>temperatureMax</th>\n",
              "      <td>693071.0</td>\n",
              "      <td>4.526131e+01</td>\n",
              "      <td>5.645046</td>\n",
              "      <td>3.351000e+01</td>\n",
              "      <td>4.257000e+01</td>\n",
              "      <td>4.468000e+01</td>\n",
              "      <td>4.691000e+01</td>\n",
              "      <td>5.787000e+01</td>\n",
              "    </tr>\n",
              "    <tr>\n",
              "      <th>temperatureMaxTime</th>\n",
              "      <td>693071.0</td>\n",
              "      <td>1.544047e+09</td>\n",
              "      <td>690135.337190</td>\n",
              "      <td>1.543154e+09</td>\n",
              "      <td>1.543439e+09</td>\n",
              "      <td>1.543788e+09</td>\n",
              "      <td>1.544814e+09</td>\n",
              "      <td>1.545109e+09</td>\n",
              "    </tr>\n",
              "    <tr>\n",
              "      <th>apparentTemperatureMin</th>\n",
              "      <td>693071.0</td>\n",
              "      <td>2.973100e+01</td>\n",
              "      <td>7.110494</td>\n",
              "      <td>1.181000e+01</td>\n",
              "      <td>2.776000e+01</td>\n",
              "      <td>3.013000e+01</td>\n",
              "      <td>3.571000e+01</td>\n",
              "      <td>4.005000e+01</td>\n",
              "    </tr>\n",
              "    <tr>\n",
              "      <th>apparentTemperatureMinTime</th>\n",
              "      <td>693071.0</td>\n",
              "      <td>1.544048e+09</td>\n",
              "      <td>687186.191495</td>\n",
              "      <td>1.543136e+09</td>\n",
              "      <td>1.543399e+09</td>\n",
              "      <td>1.543745e+09</td>\n",
              "      <td>1.544789e+09</td>\n",
              "      <td>1.545134e+09</td>\n",
              "    </tr>\n",
              "    <tr>\n",
              "      <th>apparentTemperatureMax</th>\n",
              "      <td>693071.0</td>\n",
              "      <td>4.199734e+01</td>\n",
              "      <td>6.936841</td>\n",
              "      <td>2.895000e+01</td>\n",
              "      <td>3.657000e+01</td>\n",
              "      <td>4.095000e+01</td>\n",
              "      <td>4.412000e+01</td>\n",
              "      <td>5.720000e+01</td>\n",
              "    </tr>\n",
              "    <tr>\n",
              "      <th>apparentTemperatureMaxTime</th>\n",
              "      <td>693071.0</td>\n",
              "      <td>1.544048e+09</td>\n",
              "      <td>691077.651976</td>\n",
              "      <td>1.543187e+09</td>\n",
              "      <td>1.543439e+09</td>\n",
              "      <td>1.543788e+09</td>\n",
              "      <td>1.544818e+09</td>\n",
              "      <td>1.545109e+09</td>\n",
              "    </tr>\n",
              "  </tbody>\n",
              "</table>\n",
              "</div>\n",
              "      <button class=\"colab-df-convert\" onclick=\"convertToInteractive('df-1f29677d-a077-4b4a-bee0-e66a1d85c666')\"\n",
              "              title=\"Convert this dataframe to an interactive table.\"\n",
              "              style=\"display:none;\">\n",
              "        \n",
              "  <svg xmlns=\"http://www.w3.org/2000/svg\" height=\"24px\"viewBox=\"0 0 24 24\"\n",
              "       width=\"24px\">\n",
              "    <path d=\"M0 0h24v24H0V0z\" fill=\"none\"/>\n",
              "    <path d=\"M18.56 5.44l.94 2.06.94-2.06 2.06-.94-2.06-.94-.94-2.06-.94 2.06-2.06.94zm-11 1L8.5 8.5l.94-2.06 2.06-.94-2.06-.94L8.5 2.5l-.94 2.06-2.06.94zm10 10l.94 2.06.94-2.06 2.06-.94-2.06-.94-.94-2.06-.94 2.06-2.06.94z\"/><path d=\"M17.41 7.96l-1.37-1.37c-.4-.4-.92-.59-1.43-.59-.52 0-1.04.2-1.43.59L10.3 9.45l-7.72 7.72c-.78.78-.78 2.05 0 2.83L4 21.41c.39.39.9.59 1.41.59.51 0 1.02-.2 1.41-.59l7.78-7.78 2.81-2.81c.8-.78.8-2.07 0-2.86zM5.41 20L4 18.59l7.72-7.72 1.47 1.35L5.41 20z\"/>\n",
              "  </svg>\n",
              "      </button>\n",
              "      \n",
              "  <style>\n",
              "    .colab-df-container {\n",
              "      display:flex;\n",
              "      flex-wrap:wrap;\n",
              "      gap: 12px;\n",
              "    }\n",
              "\n",
              "    .colab-df-convert {\n",
              "      background-color: #E8F0FE;\n",
              "      border: none;\n",
              "      border-radius: 50%;\n",
              "      cursor: pointer;\n",
              "      display: none;\n",
              "      fill: #1967D2;\n",
              "      height: 32px;\n",
              "      padding: 0 0 0 0;\n",
              "      width: 32px;\n",
              "    }\n",
              "\n",
              "    .colab-df-convert:hover {\n",
              "      background-color: #E2EBFA;\n",
              "      box-shadow: 0px 1px 2px rgba(60, 64, 67, 0.3), 0px 1px 3px 1px rgba(60, 64, 67, 0.15);\n",
              "      fill: #174EA6;\n",
              "    }\n",
              "\n",
              "    [theme=dark] .colab-df-convert {\n",
              "      background-color: #3B4455;\n",
              "      fill: #D2E3FC;\n",
              "    }\n",
              "\n",
              "    [theme=dark] .colab-df-convert:hover {\n",
              "      background-color: #434B5C;\n",
              "      box-shadow: 0px 1px 3px 1px rgba(0, 0, 0, 0.15);\n",
              "      filter: drop-shadow(0px 1px 2px rgba(0, 0, 0, 0.3));\n",
              "      fill: #FFFFFF;\n",
              "    }\n",
              "  </style>\n",
              "\n",
              "      <script>\n",
              "        const buttonEl =\n",
              "          document.querySelector('#df-1f29677d-a077-4b4a-bee0-e66a1d85c666 button.colab-df-convert');\n",
              "        buttonEl.style.display =\n",
              "          google.colab.kernel.accessAllowed ? 'block' : 'none';\n",
              "\n",
              "        async function convertToInteractive(key) {\n",
              "          const element = document.querySelector('#df-1f29677d-a077-4b4a-bee0-e66a1d85c666');\n",
              "          const dataTable =\n",
              "            await google.colab.kernel.invokeFunction('convertToInteractive',\n",
              "                                                     [key], {});\n",
              "          if (!dataTable) return;\n",
              "\n",
              "          const docLinkHtml = 'Like what you see? Visit the ' +\n",
              "            '<a target=\"_blank\" href=https://colab.research.google.com/notebooks/data_table.ipynb>data table notebook</a>'\n",
              "            + ' to learn more about interactive tables.';\n",
              "          element.innerHTML = '';\n",
              "          dataTable['output_type'] = 'display_data';\n",
              "          await google.colab.output.renderOutput(dataTable, element);\n",
              "          const docLink = document.createElement('div');\n",
              "          docLink.innerHTML = docLinkHtml;\n",
              "          element.appendChild(docLink);\n",
              "        }\n",
              "      </script>\n",
              "    </div>\n",
              "  </div>\n",
              "  "
            ],
            "text/plain": [
              "                                count          mean  ...           75%           max\n",
              "timestamp                    693071.0  1.544046e+09  ...  1.544828e+09  1.545161e+09\n",
              "hour                         693071.0  1.161914e+01  ...  1.800000e+01  2.300000e+01\n",
              "day                          693071.0  1.779436e+01  ...  2.800000e+01  3.000000e+01\n",
              "month                        693071.0  1.158668e+01  ...  1.200000e+01  1.200000e+01\n",
              "price                        637976.0  1.654513e+01  ...  2.250000e+01  9.750000e+01\n",
              "distance                     693071.0  2.189430e+00  ...  2.920000e+00  7.860000e+00\n",
              "surge_multiplier             693071.0  1.013870e+00  ...  1.000000e+00  3.000000e+00\n",
              "latitude                     693071.0  4.233817e+01  ...  4.236470e+01  4.236610e+01\n",
              "longitude                    693071.0 -7.106615e+01  ... -7.105420e+01 -7.103300e+01\n",
              "temperature                  693071.0  3.958439e+01  ...  4.358000e+01  5.722000e+01\n",
              "apparentTemperature          693071.0  3.588122e+01  ...  4.008000e+01  5.722000e+01\n",
              "precipIntensity              693071.0  8.922153e-03  ...  0.000000e+00  1.447000e-01\n",
              "precipProbability            693071.0  1.460758e-01  ...  0.000000e+00  1.000000e+00\n",
              "humidity                     693071.0  7.411187e-01  ...  8.800000e-01  9.600000e-01\n",
              "windSpeed                    693071.0  6.186253e+00  ...  8.410000e+00  1.500000e+01\n",
              "windGust                     693071.0  8.469860e+00  ...  1.174000e+01  2.725000e+01\n",
              "windGustTime                 693071.0  1.544049e+09  ...  1.544846e+09  1.545127e+09\n",
              "visibility                   693071.0  8.467970e+00  ...  9.996000e+00  1.000000e+01\n",
              "temperatureHigh              693071.0  4.504098e+01  ...  4.691000e+01  5.787000e+01\n",
              "temperatureHighTime          693071.0  1.544050e+09  ...  1.544814e+09  1.545160e+09\n",
              "temperatureLow               693071.0  3.415074e+01  ...  3.873000e+01  4.660000e+01\n",
              "temperatureLowTime           693071.0  1.544102e+09  ...  1.544836e+09  1.545221e+09\n",
              "apparentTemperatureHigh      693071.0  4.161405e+01  ...  4.412000e+01  5.720000e+01\n",
              "apparentTemperatureHighTime  693071.0  1.544050e+09  ...  1.544818e+09  1.545160e+09\n",
              "apparentTemperatureLow       693071.0  3.013982e+01  ...  3.532000e+01  4.725000e+01\n",
              "apparentTemperatureLowTime   693071.0  1.544099e+09  ...  1.544836e+09  1.545199e+09\n",
              "dewPoint                     693071.0  3.165626e+01  ...  3.812000e+01  5.067000e+01\n",
              "pressure                     693071.0  1.010095e+03  ...  1.021860e+03  1.035550e+03\n",
              "windBearing                  693071.0  2.200559e+02  ...  3.030000e+02  3.560000e+02\n",
              "cloudCover                   693071.0  6.865020e-01  ...  1.000000e+00  1.000000e+00\n",
              "uvIndex                      693071.0  2.489081e-01  ...  0.000000e+00  2.000000e+00\n",
              "visibility.1                 693071.0  8.467970e+00  ...  9.996000e+00  1.000000e+01\n",
              "ozone                        693071.0  3.135136e+02  ...  3.318000e+02  3.789000e+02\n",
              "sunriseTime                  693071.0  1.544027e+09  ...  1.544789e+09  1.545135e+09\n",
              "sunsetTime                   693071.0  1.544060e+09  ...  1.544822e+09  1.545168e+09\n",
              "moonPhase                    693071.0  5.790655e-01  ...  7.900000e-01  9.300000e-01\n",
              "precipIntensityMax           693071.0  3.737441e-02  ...  9.160000e-02  1.459000e-01\n",
              "uvIndexTime                  693071.0  1.544044e+09  ...  1.544807e+09  1.545152e+09\n",
              "temperatureMin               693071.0  3.345777e+01  ...  3.888000e+01  4.310000e+01\n",
              "temperatureMinTime           693071.0  1.544042e+09  ...  1.544789e+09  1.545192e+09\n",
              "temperatureMax               693071.0  4.526131e+01  ...  4.691000e+01  5.787000e+01\n",
              "temperatureMaxTime           693071.0  1.544047e+09  ...  1.544814e+09  1.545109e+09\n",
              "apparentTemperatureMin       693071.0  2.973100e+01  ...  3.571000e+01  4.005000e+01\n",
              "apparentTemperatureMinTime   693071.0  1.544048e+09  ...  1.544789e+09  1.545134e+09\n",
              "apparentTemperatureMax       693071.0  4.199734e+01  ...  4.412000e+01  5.720000e+01\n",
              "apparentTemperatureMaxTime   693071.0  1.544048e+09  ...  1.544818e+09  1.545109e+09\n",
              "\n",
              "[46 rows x 8 columns]"
            ]
          },
          "metadata": {},
          "execution_count": 5
        }
      ],
      "source": [
        "df.describe().T"
      ]
    },
    {
      "cell_type": "code",
      "execution_count": null,
      "metadata": {
        "colab": {
          "base_uri": "https://localhost:8080/"
        },
        "id": "UpyRFcL2hWII",
        "outputId": "fa3c9321-e02c-42b6-c33a-f0359f2fab95"
      },
      "outputs": [
        {
          "output_type": "execute_result",
          "data": {
            "text/plain": [
              "0"
            ]
          },
          "metadata": {},
          "execution_count": 6
        }
      ],
      "source": [
        "df.duplicated().sum()"
      ]
    },
    {
      "cell_type": "code",
      "execution_count": null,
      "metadata": {
        "colab": {
          "base_uri": "https://localhost:8080/"
        },
        "id": "8NXDozc8hr0g",
        "outputId": "a31c50ca-752a-4da2-89db-2dcee21f03d9"
      },
      "outputs": [
        {
          "output_type": "execute_result",
          "data": {
            "text/plain": [
              "array(['America/New_York'], dtype=object)"
            ]
          },
          "metadata": {},
          "execution_count": 7
        }
      ],
      "source": [
        "df.timezone.unique()"
      ]
    },
    {
      "cell_type": "code",
      "execution_count": null,
      "metadata": {
        "colab": {
          "base_uri": "https://localhost:8080/"
        },
        "id": "WWcz4leIiBha",
        "outputId": "f0a50864-5d9f-44b1-cb3a-fa981fe7ef54"
      },
      "outputs": [
        {
          "output_type": "execute_result",
          "data": {
            "text/plain": [
              "array(['lyft_line', 'lyft_premier', 'lyft', 'lyft_luxsuv', 'lyft_plus',\n",
              "       'lyft_lux', '6f72dfc5-27f1-42e8-84db-ccc7a75f6969',\n",
              "       '6c84fd89-3f11-4782-9b50-97c468b19529',\n",
              "       '55c66225-fbe7-4fd5-9072-eab1ece5e23e',\n",
              "       '9a0e7b09-b92b-4c41-9779-2ad22b4d779d',\n",
              "       '6d318bcc-22a3-4af6-bddd-b409bfce1546',\n",
              "       '997acbb5-e102-41e1-b155-9df7de0a73f2',\n",
              "       '8cf7e821-f0d3-49c6-8eba-e679c0ebcf6a'], dtype=object)"
            ]
          },
          "metadata": {},
          "execution_count": 8
        }
      ],
      "source": [
        "df.product_id.unique()"
      ]
    },
    {
      "cell_type": "code",
      "execution_count": null,
      "metadata": {
        "colab": {
          "base_uri": "https://localhost:8080/"
        },
        "id": "bNLMAQzniKMV",
        "outputId": "9b3721f5-4d85-4221-b468-f86d4955a4ac"
      },
      "outputs": [
        {
          "output_type": "execute_result",
          "data": {
            "text/plain": [
              "array(['Shared', 'Lux', 'Lyft', 'Lux Black XL', 'Lyft XL', 'Lux Black',\n",
              "       'UberXL', 'Black', 'UberX', 'WAV', 'Black SUV', 'UberPool', 'Taxi'],\n",
              "      dtype=object)"
            ]
          },
          "metadata": {},
          "execution_count": 9
        }
      ],
      "source": [
        "df.name.unique()"
      ]
    },
    {
      "cell_type": "markdown",
      "metadata": {
        "id": "09zm7EZnxEgD"
      },
      "source": [
        "#EDA\n",
        "\n",
        "---\n",
        "\n"
      ]
    },
    {
      "cell_type": "code",
      "execution_count": null,
      "metadata": {
        "colab": {
          "base_uri": "https://localhost:8080/"
        },
        "id": "CsjPBBc2WcRk",
        "outputId": "6558b5e1-1a84-45d4-a7e2-afe263019004"
      },
      "outputs": [
        {
          "output_type": "execute_result",
          "data": {
            "text/plain": [
              "(693071, 57)"
            ]
          },
          "metadata": {},
          "execution_count": 10
        }
      ],
      "source": [
        "df.shape"
      ]
    },
    {
      "cell_type": "code",
      "source": [
        "df.dtypes"
      ],
      "metadata": {
        "colab": {
          "base_uri": "https://localhost:8080/"
        },
        "id": "kJIoRJhGlcbD",
        "outputId": "3e08dd58-bca0-48f4-8bda-6d076d5c043c"
      },
      "execution_count": null,
      "outputs": [
        {
          "output_type": "execute_result",
          "data": {
            "text/plain": [
              "id                              object\n",
              "timestamp                      float64\n",
              "hour                             int64\n",
              "day                              int64\n",
              "month                            int64\n",
              "datetime                        object\n",
              "timezone                        object\n",
              "source                          object\n",
              "destination                     object\n",
              "cab_type                        object\n",
              "product_id                      object\n",
              "name                            object\n",
              "price                          float64\n",
              "distance                       float64\n",
              "surge_multiplier               float64\n",
              "latitude                       float64\n",
              "longitude                      float64\n",
              "temperature                    float64\n",
              "apparentTemperature            float64\n",
              "short_summary                   object\n",
              "long_summary                    object\n",
              "precipIntensity                float64\n",
              "precipProbability              float64\n",
              "humidity                       float64\n",
              "windSpeed                      float64\n",
              "windGust                       float64\n",
              "windGustTime                     int64\n",
              "visibility                     float64\n",
              "temperatureHigh                float64\n",
              "temperatureHighTime              int64\n",
              "temperatureLow                 float64\n",
              "temperatureLowTime               int64\n",
              "apparentTemperatureHigh        float64\n",
              "apparentTemperatureHighTime      int64\n",
              "apparentTemperatureLow         float64\n",
              "apparentTemperatureLowTime       int64\n",
              "icon                            object\n",
              "dewPoint                       float64\n",
              "pressure                       float64\n",
              "windBearing                      int64\n",
              "cloudCover                     float64\n",
              "uvIndex                          int64\n",
              "visibility.1                   float64\n",
              "ozone                          float64\n",
              "sunriseTime                      int64\n",
              "sunsetTime                       int64\n",
              "moonPhase                      float64\n",
              "precipIntensityMax             float64\n",
              "uvIndexTime                      int64\n",
              "temperatureMin                 float64\n",
              "temperatureMinTime               int64\n",
              "temperatureMax                 float64\n",
              "temperatureMaxTime               int64\n",
              "apparentTemperatureMin         float64\n",
              "apparentTemperatureMinTime       int64\n",
              "apparentTemperatureMax         float64\n",
              "apparentTemperatureMaxTime       int64\n",
              "dtype: object"
            ]
          },
          "metadata": {},
          "execution_count": 11
        }
      ]
    },
    {
      "cell_type": "code",
      "execution_count": null,
      "metadata": {
        "colab": {
          "base_uri": "https://localhost:8080/"
        },
        "id": "vJXU6CsPW3Pc",
        "outputId": "7ab4155e-ab4c-45dd-b2cc-4d734a65f656"
      },
      "outputs": [
        {
          "output_type": "execute_result",
          "data": {
            "text/plain": [
              "id                             0.000000\n",
              "timestamp                      0.000000\n",
              "hour                           0.000000\n",
              "day                            0.000000\n",
              "month                          0.000000\n",
              "datetime                       0.000000\n",
              "timezone                       0.000000\n",
              "source                         0.000000\n",
              "destination                    0.000000\n",
              "cab_type                       0.000000\n",
              "product_id                     0.000000\n",
              "name                           0.000000\n",
              "price                          7.949402\n",
              "distance                       0.000000\n",
              "surge_multiplier               0.000000\n",
              "latitude                       0.000000\n",
              "longitude                      0.000000\n",
              "temperature                    0.000000\n",
              "apparentTemperature            0.000000\n",
              "short_summary                  0.000000\n",
              "long_summary                   0.000000\n",
              "precipIntensity                0.000000\n",
              "precipProbability              0.000000\n",
              "humidity                       0.000000\n",
              "windSpeed                      0.000000\n",
              "windGust                       0.000000\n",
              "windGustTime                   0.000000\n",
              "visibility                     0.000000\n",
              "temperatureHigh                0.000000\n",
              "temperatureHighTime            0.000000\n",
              "temperatureLow                 0.000000\n",
              "temperatureLowTime             0.000000\n",
              "apparentTemperatureHigh        0.000000\n",
              "apparentTemperatureHighTime    0.000000\n",
              "apparentTemperatureLow         0.000000\n",
              "apparentTemperatureLowTime     0.000000\n",
              "icon                           0.000000\n",
              "dewPoint                       0.000000\n",
              "pressure                       0.000000\n",
              "windBearing                    0.000000\n",
              "cloudCover                     0.000000\n",
              "uvIndex                        0.000000\n",
              "visibility.1                   0.000000\n",
              "ozone                          0.000000\n",
              "sunriseTime                    0.000000\n",
              "sunsetTime                     0.000000\n",
              "moonPhase                      0.000000\n",
              "precipIntensityMax             0.000000\n",
              "uvIndexTime                    0.000000\n",
              "temperatureMin                 0.000000\n",
              "temperatureMinTime             0.000000\n",
              "temperatureMax                 0.000000\n",
              "temperatureMaxTime             0.000000\n",
              "apparentTemperatureMin         0.000000\n",
              "apparentTemperatureMinTime     0.000000\n",
              "apparentTemperatureMax         0.000000\n",
              "apparentTemperatureMaxTime     0.000000\n",
              "dtype: float64"
            ]
          },
          "metadata": {},
          "execution_count": 12
        }
      ],
      "source": [
        "df.isnull().sum() / df.shape[0] * 100"
      ]
    },
    {
      "cell_type": "markdown",
      "source": [
        "**Which total ride is higher?**"
      ],
      "metadata": {
        "id": "ZTumkCV-lbVU"
      }
    },
    {
      "cell_type": "code",
      "source": [
        "\n",
        "plt.title('Ride by Uber and Lyft')\n",
        "\n",
        "fig = sns.countplot(x=df['cab_type'])\n",
        "\n",
        "for p in fig.patches:\n",
        "  fig.annotate(format(p.get_height()), (p.get_x() + p.get_width() / 2., p.get_height()), ha = 'center', va = 'center', xytext = (0, 10), textcoords = 'offset points')\n",
        "\n",
        "plt.show()\n"
      ],
      "metadata": {
        "colab": {
          "base_uri": "https://localhost:8080/",
          "height": 296
        },
        "id": "4jZJ4TDmcKHb",
        "outputId": "5dcd0c76-64a3-4202-ddef-3058955bdb23"
      },
      "execution_count": null,
      "outputs": [
        {
          "output_type": "display_data",
          "data": {
            "image/png": "[encoded data removed]",
            "text/plain": [
              "<Figure size 432x288 with 1 Axes>"
            ]
          },
          "metadata": {
            "needs_background": "light"
          }
        }
      ]
    },
    {
      "cell_type": "markdown",
      "source": [
        "As we can see, Uber has slightly more total ride than Lyft. Uber has 330,568 rides and Lyft has 307,408 rides"
      ],
      "metadata": {
        "id": "56ZIDHfH1Hom"
      }
    },
    {
      "cell_type": "markdown",
      "source": [
        "**Number of uber and lyft rides by type of service**"
      ],
      "metadata": {
        "id": "PVU42223lmQI"
      }
    },
    {
      "cell_type": "code",
      "source": [
        "# The Average price of rides by type of service\n",
        "\n",
        "uber_order =[ 'UberPool', 'UberX', 'UberXL', 'Black','Black SUV','WAV' ]\n",
        "lyft_order = ['Shared', 'Lyft', 'Lyft XL', 'Lux', 'Lux Black', 'Lux Black XL']\n",
        "\n",
        "fig, ax = plt.subplots(1,2, figsize = (20,8))\n",
        "\n",
        "ax1 = sns.barplot(x = df[df['cab_type'] == 'Uber'].groupby('name').name.count().index, y = df[df['cab_type'] == 'Uber'].groupby('name').name.count(), ax = ax[0] ,order = uber_order)\n",
        "ax2 = sns.barplot(x = df[df['cab_type'] == 'Lyft'].groupby('name').name.count().index, y = df[df['cab_type'] == 'Lyft'].groupby('name').name.count(), ax = ax[1],order = lyft_order)\n",
        "\n",
        "for p in ax1.patches:\n",
        "    ax1.annotate(format(p.get_height(), '.0f'), (p.get_x() + p.get_width() / 2., p.get_height()), ha = 'center', va = 'center', xytext = (0, 10), textcoords = 'offset points')\n",
        "for p in ax2.patches:\n",
        "    ax2.annotate(format(p.get_height(), '.0f'), (p.get_x() + p.get_width() / 2., p.get_height()), ha = 'center', va = 'center', xytext = (0, 10), textcoords = 'offset points')\n",
        "\n",
        "ax1.set(xlabel = 'Type of Service', ylabel = 'Number of Rides')\n",
        "ax2.set(xlabel = 'Type of Service', ylabel = 'Number of Rides')\n",
        "ax1.set_title('The Number of Uber Rides by Type of Service')\n",
        "ax2.set_title('The Number of Lyft Rides by Type of Service')\n",
        "\n",
        "plt.show()"
      ],
      "metadata": {
        "colab": {
          "base_uri": "https://localhost:8080/",
          "height": 513
        },
        "id": "Q8AY3ZJ3lxX8",
        "outputId": "5704f309-b75b-433d-9880-8c434a756d57"
      },
      "execution_count": null,
      "outputs": [
        {
          "output_type": "display_data",
          "data": {
            "image/png": "[encoded data removed]",
            "text/plain": [
              "<Figure size 1440x576 with 2 Axes>"
            ]
          },
          "metadata": {
            "needs_background": "light"
          }
        }
      ]
    },
    {
      "cell_type": "markdown",
      "source": [
        "\n",
        "From the graph, Uber and Lyft users likely to use all of type of service that offered by both company. The number of rides by all of services has almost the same numbers."
      ],
      "metadata": {
        "id": "83Yh9yGP_aLZ"
      }
    },
    {
      "cell_type": "code",
      "source": [
        "fig, ax = plt.subplots(1,2, figsize = (20,8))\n",
        "\n",
        "ax1 = sns.barplot(x = df[df['cab_type'] == 'Uber'].name, y = df[df['cab_type'] == 'Uber'].price , ax = ax[0], order = uber_order)\n",
        "ax2 = sns.barplot(x = df[df['cab_type'] == 'Lyft'].name, y = df[df['cab_type'] == 'Lyft'].price , ax = ax[1], order = lyft_order)\n",
        "\n",
        "for p in ax1.patches:\n",
        "    ax1.annotate(format(p.get_height(), '.2f'), (p.get_x() + p.get_width() / 2., p.get_height()), ha = 'center', va = 'center', xytext = (0, 10), textcoords = 'offset points')\n",
        "for p in ax2.patches:\n",
        "    ax2.annotate(format(p.get_height(), '.2f'), (p.get_x() + p.get_width() / 2., p.get_height()), ha = 'center', va = 'center', xytext = (0, 10), textcoords = 'offset points')\n",
        "\n",
        "ax1.set(xlabel = 'Type of Service', ylabel = 'Average Price')\n",
        "ax2.set(xlabel = 'Type of Service', ylabel = 'Average Price')\n",
        "\n",
        "ax1.set_title('The Uber Average Prices by Type of Service')\n",
        "ax2.set_title('The Lyft Average Prices by Type of Service')\n",
        "\n",
        "plt.show()"
      ],
      "metadata": {
        "colab": {
          "base_uri": "https://localhost:8080/",
          "height": 513
        },
        "id": "R_LyaXk_uiXU",
        "outputId": "00fcc6eb-64cb-4dc3-d680-cf644fca589f"
      },
      "execution_count": null,
      "outputs": [
        {
          "output_type": "display_data",
          "data": {
            "image/png": "[encoded data removed]",
            "text/plain": [
              "<Figure size 1440x576 with 2 Axes>"
            ]
          },
          "metadata": {
            "needs_background": "light"
          }
        }
      ]
    },
    {
      "cell_type": "markdown",
      "source": [
        "We can see that from Uber, the most expensive service is **Black SUV** and the cheapest one is **UberPool**. Whereas, the most expensive service from Lyft is **Lux Black X**L and the cheapest one is **Shared** service.\n",
        "\n",
        "\n"
      ],
      "metadata": {
        "id": "yU89mabTCtII"
      }
    },
    {
      "cell_type": "code",
      "execution_count": null,
      "metadata": {
        "colab": {
          "base_uri": "https://localhost:8080/",
          "height": 408
        },
        "id": "bmloqS4Z5VNN",
        "outputId": "56e20c81-200d-4591-b7da-c1a1dcad6fca"
      },
      "outputs": [
        {
          "output_type": "execute_result",
          "data": {
            "text/plain": [
              "<matplotlib.axes._subplots.AxesSubplot at 0x7fd1e6c11790>"
            ]
          },
          "metadata": {},
          "execution_count": 16
        },
        {
          "output_type": "display_data",
          "data": {
            "image/png": "[encoded data removed]",
            "text/plain": [
              "<Figure size 432x288 with 2 Axes>"
            ]
          },
          "metadata": {
            "needs_background": "light"
          }
        }
      ],
      "source": [
        "sns.heatmap(df.corr(), cmap = 'viridis')"
      ]
    },
    {
      "cell_type": "markdown",
      "source": [
        "This is the correlation of all features from the dataset. The results are vary and we could not see it clearly. Let's check the correlation of each features based on price feature."
      ],
      "metadata": {
        "id": "nz1jsSorIL0O"
      }
    },
    {
      "cell_type": "code",
      "source": [
        "corr = df.corr()\n",
        "print(corr['price'].sort_values(ascending=False), '\\n')"
      ],
      "metadata": {
        "colab": {
          "base_uri": "https://localhost:8080/"
        },
        "id": "maADCvyM1saJ",
        "outputId": "3566dbd9-89c4-48d8-ac0b-0f6b1ee3c863"
      },
      "execution_count": null,
      "outputs": [
        {
          "output_type": "stream",
          "name": "stdout",
          "text": [
            "price                          1.000000\n",
            "distance                       0.345061\n",
            "surge_multiplier               0.240458\n",
            "latitude                       0.002088\n",
            "visibility                     0.001497\n",
            "visibility.1                   0.001497\n",
            "windGust                       0.001218\n",
            "precipIntensityMax             0.001114\n",
            "windSpeed                      0.000990\n",
            "month                          0.000913\n",
            "cloudCover                     0.000883\n",
            "pressure                       0.000866\n",
            "windGustTime                   0.000851\n",
            "apparentTemperatureLow         0.000831\n",
            "apparentTemperatureMinTime     0.000814\n",
            "timestamp                      0.000808\n",
            "temperatureMinTime             0.000769\n",
            "temperatureMaxTime             0.000766\n",
            "uvIndexTime                    0.000763\n",
            "apparentTemperatureLowTime     0.000761\n",
            "sunsetTime                     0.000760\n",
            "sunriseTime                    0.000760\n",
            "temperatureHighTime            0.000759\n",
            "temperatureLowTime             0.000754\n",
            "apparentTemperatureMaxTime     0.000746\n",
            "apparentTemperatureHighTime    0.000741\n",
            "hour                           0.000561\n",
            "ozone                          0.000460\n",
            "temperatureLow                 0.000182\n",
            "precipIntensity                0.000166\n",
            "temperature                   -0.000084\n",
            "apparentTemperature           -0.000193\n",
            "precipProbability             -0.000243\n",
            "apparentTemperatureHigh       -0.000261\n",
            "apparentTemperatureMax        -0.000290\n",
            "uvIndex                       -0.000424\n",
            "temperatureMin                -0.000428\n",
            "temperatureHigh               -0.000516\n",
            "temperatureMax                -0.000550\n",
            "apparentTemperatureMin        -0.000580\n",
            "dewPoint                      -0.000615\n",
            "day                           -0.000722\n",
            "humidity                      -0.001238\n",
            "windBearing                   -0.001382\n",
            "longitude                     -0.001417\n",
            "moonPhase                     -0.001602\n",
            "Name: price, dtype: float64 \n",
            "\n"
          ]
        }
      ]
    },
    {
      "cell_type": "markdown",
      "source": [
        "The most correlated features from all features are **distance** and **surge multiplier**. It is quite obvious because those two features are affecting the price value."
      ],
      "metadata": {
        "id": "e0exumF8I2T5"
      }
    },
    {
      "cell_type": "code",
      "execution_count": null,
      "metadata": {
        "colab": {
          "base_uri": "https://localhost:8080/",
          "height": 358
        },
        "id": "A4NuHYao7Lfy",
        "outputId": "c24a560f-152f-4d68-cb33-8e2634442bb7"
      },
      "outputs": [
        {
          "output_type": "execute_result",
          "data": {
            "text/plain": [
              "<matplotlib.axes._subplots.AxesSubplot at 0x7fd1de28fb50>"
            ]
          },
          "metadata": {},
          "execution_count": 18
        },
        {
          "output_type": "display_data",
          "data": {
            "image/png": "[encoded data removed]",
            "text/plain": [
              "<Figure size 432x288 with 2 Axes>"
            ]
          },
          "metadata": {
            "needs_background": "light"
          }
        }
      ],
      "source": [
        "df_corr = df[['distance','price','surge_multiplier','temperature']]\n",
        "sns.heatmap(df_corr.corr())"
      ]
    },
    {
      "cell_type": "markdown",
      "metadata": {
        "id": "er5X0N5a8A4T"
      },
      "source": [
        "From these correlation graph we can conclude that,\n",
        "\n",
        "*   Distance and surge multipler are not correlated\n",
        "*   Price and surge multiplier weakly correlated\n",
        "* Price and distance are correlated\n",
        "\n"
      ]
    },
    {
      "cell_type": "code",
      "execution_count": null,
      "metadata": {
        "colab": {
          "base_uri": "https://localhost:8080/"
        },
        "id": "vo8Elc-b9DiN",
        "outputId": "4c12482d-61c4-4264-a5b9-450d2ba15a78"
      },
      "outputs": [
        {
          "output_type": "execute_result",
          "data": {
            "text/plain": [
              "1.00    672096\n",
              "1.25     11085\n",
              "1.50      5065\n",
              "1.75      2420\n",
              "2.00      2239\n",
              "2.50       154\n",
              "3.00        12\n",
              "Name: surge_multiplier, dtype: int64"
            ]
          },
          "metadata": {},
          "execution_count": 19
        }
      ],
      "source": [
        "df['surge_multiplier'].value_counts()"
      ]
    },
    {
      "cell_type": "markdown",
      "source": [
        "Check Outliers"
      ],
      "metadata": {
        "id": "CnPblUYa1ACL"
      }
    },
    {
      "cell_type": "code",
      "source": [
        "# categorical = df.dtypes[df.dtypes == object]\n",
        "num = df._get_numeric_data()\n",
        "num"
      ],
      "metadata": {
        "colab": {
          "base_uri": "https://localhost:8080/",
          "height": 487
        },
        "id": "IMCoxrW22_Lg",
        "outputId": "68ca4edc-0d2b-4ea7-d010-d16293a4f017"
      },
      "execution_count": null,
      "outputs": [
        {
          "output_type": "execute_result",
          "data": {
            "text/html": [
              "\n",
              "  <div id=\"df-ed4041e7-7234-4752-8e17-2bab2198ca17\">\n",
              "    <div class=\"colab-df-container\">\n",
              "      <div>\n",
              "<style scoped>\n",
              "    .dataframe tbody tr th:only-of-type {\n",
              "        vertical-align: middle;\n",
              "    }\n",
              "\n",
              "    .dataframe tbody tr th {\n",
              "        vertical-align: top;\n",
              "    }\n",
              "\n",
              "    .dataframe thead th {\n",
              "        text-align: right;\n",
              "    }\n",
              "</style>\n",
              "<table border=\"1\" class=\"dataframe\">\n",
              "  <thead>\n",
              "    <tr style=\"text-align: right;\">\n",
              "      <th></th>\n",
              "      <th>timestamp</th>\n",
              "      <th>hour</th>\n",
              "      <th>day</th>\n",
              "      <th>month</th>\n",
              "      <th>price</th>\n",
              "      <th>distance</th>\n",
              "      <th>surge_multiplier</th>\n",
              "      <th>latitude</th>\n",
              "      <th>longitude</th>\n",
              "      <th>temperature</th>\n",
              "      <th>apparentTemperature</th>\n",
              "      <th>precipIntensity</th>\n",
              "      <th>precipProbability</th>\n",
              "      <th>humidity</th>\n",
              "      <th>windSpeed</th>\n",
              "      <th>windGust</th>\n",
              "      <th>windGustTime</th>\n",
              "      <th>visibility</th>\n",
              "      <th>temperatureHigh</th>\n",
              "      <th>temperatureHighTime</th>\n",
              "      <th>temperatureLow</th>\n",
              "      <th>temperatureLowTime</th>\n",
              "      <th>apparentTemperatureHigh</th>\n",
              "      <th>apparentTemperatureHighTime</th>\n",
              "      <th>apparentTemperatureLow</th>\n",
              "      <th>apparentTemperatureLowTime</th>\n",
              "      <th>dewPoint</th>\n",
              "      <th>pressure</th>\n",
              "      <th>windBearing</th>\n",
              "      <th>cloudCover</th>\n",
              "      <th>uvIndex</th>\n",
              "      <th>visibility.1</th>\n",
              "      <th>ozone</th>\n",
              "      <th>sunriseTime</th>\n",
              "      <th>sunsetTime</th>\n",
              "      <th>moonPhase</th>\n",
              "      <th>precipIntensityMax</th>\n",
              "      <th>uvIndexTime</th>\n",
              "      <th>temperatureMin</th>\n",
              "      <th>temperatureMinTime</th>\n",
              "      <th>temperatureMax</th>\n",
              "      <th>temperatureMaxTime</th>\n",
              "      <th>apparentTemperatureMin</th>\n",
              "      <th>apparentTemperatureMinTime</th>\n",
              "      <th>apparentTemperatureMax</th>\n",
              "      <th>apparentTemperatureMaxTime</th>\n",
              "    </tr>\n",
              "  </thead>\n",
              "  <tbody>\n",
              "    <tr>\n",
              "      <th>0</th>\n",
              "      <td>1.544953e+09</td>\n",
              "      <td>9</td>\n",
              "      <td>16</td>\n",
              "      <td>12</td>\n",
              "      <td>5.0</td>\n",
              "      <td>0.44</td>\n",
              "      <td>1.0</td>\n",
              "      <td>42.2148</td>\n",
              "      <td>-71.0330</td>\n",
              "      <td>42.34</td>\n",
              "      <td>37.12</td>\n",
              "      <td>0.0000</td>\n",
              "      <td>0.0</td>\n",
              "      <td>0.68</td>\n",
              "      <td>8.66</td>\n",
              "      <td>9.17</td>\n",
              "      <td>1545015600</td>\n",
              "      <td>10.000</td>\n",
              "      <td>43.68</td>\n",
              "      <td>1544968800</td>\n",
              "      <td>34.19</td>\n",
              "      <td>1545048000</td>\n",
              "      <td>37.95</td>\n",
              "      <td>1544968800</td>\n",
              "      <td>27.39</td>\n",
              "      <td>1545044400</td>\n",
              "      <td>32.70</td>\n",
              "      <td>1021.98</td>\n",
              "      <td>57</td>\n",
              "      <td>0.72</td>\n",
              "      <td>0</td>\n",
              "      <td>10.000</td>\n",
              "      <td>303.8</td>\n",
              "      <td>1544962084</td>\n",
              "      <td>1544994864</td>\n",
              "      <td>0.30</td>\n",
              "      <td>0.1276</td>\n",
              "      <td>1544979600</td>\n",
              "      <td>39.89</td>\n",
              "      <td>1545012000</td>\n",
              "      <td>43.68</td>\n",
              "      <td>1544968800</td>\n",
              "      <td>33.73</td>\n",
              "      <td>1545012000</td>\n",
              "      <td>38.07</td>\n",
              "      <td>1544958000</td>\n",
              "    </tr>\n",
              "    <tr>\n",
              "      <th>1</th>\n",
              "      <td>1.543284e+09</td>\n",
              "      <td>2</td>\n",
              "      <td>27</td>\n",
              "      <td>11</td>\n",
              "      <td>11.0</td>\n",
              "      <td>0.44</td>\n",
              "      <td>1.0</td>\n",
              "      <td>42.2148</td>\n",
              "      <td>-71.0330</td>\n",
              "      <td>43.58</td>\n",
              "      <td>37.35</td>\n",
              "      <td>0.1299</td>\n",
              "      <td>1.0</td>\n",
              "      <td>0.94</td>\n",
              "      <td>11.98</td>\n",
              "      <td>11.98</td>\n",
              "      <td>1543291200</td>\n",
              "      <td>4.786</td>\n",
              "      <td>47.30</td>\n",
              "      <td>1543251600</td>\n",
              "      <td>42.10</td>\n",
              "      <td>1543298400</td>\n",
              "      <td>43.92</td>\n",
              "      <td>1543251600</td>\n",
              "      <td>36.20</td>\n",
              "      <td>1543291200</td>\n",
              "      <td>41.83</td>\n",
              "      <td>1003.97</td>\n",
              "      <td>90</td>\n",
              "      <td>1.00</td>\n",
              "      <td>0</td>\n",
              "      <td>4.786</td>\n",
              "      <td>291.1</td>\n",
              "      <td>1543232969</td>\n",
              "      <td>1543266992</td>\n",
              "      <td>0.64</td>\n",
              "      <td>0.1300</td>\n",
              "      <td>1543251600</td>\n",
              "      <td>40.49</td>\n",
              "      <td>1543233600</td>\n",
              "      <td>47.30</td>\n",
              "      <td>1543251600</td>\n",
              "      <td>36.20</td>\n",
              "      <td>1543291200</td>\n",
              "      <td>43.92</td>\n",
              "      <td>1543251600</td>\n",
              "    </tr>\n",
              "    <tr>\n",
              "      <th>2</th>\n",
              "      <td>1.543367e+09</td>\n",
              "      <td>1</td>\n",
              "      <td>28</td>\n",
              "      <td>11</td>\n",
              "      <td>7.0</td>\n",
              "      <td>0.44</td>\n",
              "      <td>1.0</td>\n",
              "      <td>42.2148</td>\n",
              "      <td>-71.0330</td>\n",
              "      <td>38.33</td>\n",
              "      <td>32.93</td>\n",
              "      <td>0.0000</td>\n",
              "      <td>0.0</td>\n",
              "      <td>0.75</td>\n",
              "      <td>7.33</td>\n",
              "      <td>7.33</td>\n",
              "      <td>1543334400</td>\n",
              "      <td>10.000</td>\n",
              "      <td>47.55</td>\n",
              "      <td>1543320000</td>\n",
              "      <td>33.10</td>\n",
              "      <td>1543402800</td>\n",
              "      <td>44.12</td>\n",
              "      <td>1543320000</td>\n",
              "      <td>29.11</td>\n",
              "      <td>1543392000</td>\n",
              "      <td>31.10</td>\n",
              "      <td>992.28</td>\n",
              "      <td>240</td>\n",
              "      <td>0.03</td>\n",
              "      <td>0</td>\n",
              "      <td>10.000</td>\n",
              "      <td>315.7</td>\n",
              "      <td>1543319437</td>\n",
              "      <td>1543353364</td>\n",
              "      <td>0.68</td>\n",
              "      <td>0.1064</td>\n",
              "      <td>1543338000</td>\n",
              "      <td>35.36</td>\n",
              "      <td>1543377600</td>\n",
              "      <td>47.55</td>\n",
              "      <td>1543320000</td>\n",
              "      <td>31.04</td>\n",
              "      <td>1543377600</td>\n",
              "      <td>44.12</td>\n",
              "      <td>1543320000</td>\n",
              "    </tr>\n",
              "    <tr>\n",
              "      <th>3</th>\n",
              "      <td>1.543554e+09</td>\n",
              "      <td>4</td>\n",
              "      <td>30</td>\n",
              "      <td>11</td>\n",
              "      <td>26.0</td>\n",
              "      <td>0.44</td>\n",
              "      <td>1.0</td>\n",
              "      <td>42.2148</td>\n",
              "      <td>-71.0330</td>\n",
              "      <td>34.38</td>\n",
              "      <td>29.63</td>\n",
              "      <td>0.0000</td>\n",
              "      <td>0.0</td>\n",
              "      <td>0.73</td>\n",
              "      <td>5.28</td>\n",
              "      <td>5.28</td>\n",
              "      <td>1543514400</td>\n",
              "      <td>10.000</td>\n",
              "      <td>45.03</td>\n",
              "      <td>1543510800</td>\n",
              "      <td>28.90</td>\n",
              "      <td>1543579200</td>\n",
              "      <td>38.53</td>\n",
              "      <td>1543510800</td>\n",
              "      <td>26.20</td>\n",
              "      <td>1543575600</td>\n",
              "      <td>26.64</td>\n",
              "      <td>1013.73</td>\n",
              "      <td>310</td>\n",
              "      <td>0.00</td>\n",
              "      <td>0</td>\n",
              "      <td>10.000</td>\n",
              "      <td>291.1</td>\n",
              "      <td>1543492370</td>\n",
              "      <td>1543526114</td>\n",
              "      <td>0.75</td>\n",
              "      <td>0.0000</td>\n",
              "      <td>1543507200</td>\n",
              "      <td>34.67</td>\n",
              "      <td>1543550400</td>\n",
              "      <td>45.03</td>\n",
              "      <td>1543510800</td>\n",
              "      <td>30.30</td>\n",
              "      <td>1543550400</td>\n",
              "      <td>38.53</td>\n",
              "      <td>1543510800</td>\n",
              "    </tr>\n",
              "    <tr>\n",
              "      <th>4</th>\n",
              "      <td>1.543463e+09</td>\n",
              "      <td>3</td>\n",
              "      <td>29</td>\n",
              "      <td>11</td>\n",
              "      <td>9.0</td>\n",
              "      <td>0.44</td>\n",
              "      <td>1.0</td>\n",
              "      <td>42.2148</td>\n",
              "      <td>-71.0330</td>\n",
              "      <td>37.44</td>\n",
              "      <td>30.88</td>\n",
              "      <td>0.0000</td>\n",
              "      <td>0.0</td>\n",
              "      <td>0.70</td>\n",
              "      <td>9.14</td>\n",
              "      <td>9.14</td>\n",
              "      <td>1543446000</td>\n",
              "      <td>10.000</td>\n",
              "      <td>42.18</td>\n",
              "      <td>1543420800</td>\n",
              "      <td>36.71</td>\n",
              "      <td>1543478400</td>\n",
              "      <td>35.75</td>\n",
              "      <td>1543420800</td>\n",
              "      <td>30.29</td>\n",
              "      <td>1543460400</td>\n",
              "      <td>28.61</td>\n",
              "      <td>998.36</td>\n",
              "      <td>303</td>\n",
              "      <td>0.44</td>\n",
              "      <td>0</td>\n",
              "      <td>10.000</td>\n",
              "      <td>347.7</td>\n",
              "      <td>1543405904</td>\n",
              "      <td>1543439738</td>\n",
              "      <td>0.72</td>\n",
              "      <td>0.0001</td>\n",
              "      <td>1543420800</td>\n",
              "      <td>33.10</td>\n",
              "      <td>1543402800</td>\n",
              "      <td>42.18</td>\n",
              "      <td>1543420800</td>\n",
              "      <td>29.11</td>\n",
              "      <td>1543392000</td>\n",
              "      <td>35.75</td>\n",
              "      <td>1543420800</td>\n",
              "    </tr>\n",
              "    <tr>\n",
              "      <th>...</th>\n",
              "      <td>...</td>\n",
              "      <td>...</td>\n",
              "      <td>...</td>\n",
              "      <td>...</td>\n",
              "      <td>...</td>\n",
              "      <td>...</td>\n",
              "      <td>...</td>\n",
              "      <td>...</td>\n",
              "      <td>...</td>\n",
              "      <td>...</td>\n",
              "      <td>...</td>\n",
              "      <td>...</td>\n",
              "      <td>...</td>\n",
              "      <td>...</td>\n",
              "      <td>...</td>\n",
              "      <td>...</td>\n",
              "      <td>...</td>\n",
              "      <td>...</td>\n",
              "      <td>...</td>\n",
              "      <td>...</td>\n",
              "      <td>...</td>\n",
              "      <td>...</td>\n",
              "      <td>...</td>\n",
              "      <td>...</td>\n",
              "      <td>...</td>\n",
              "      <td>...</td>\n",
              "      <td>...</td>\n",
              "      <td>...</td>\n",
              "      <td>...</td>\n",
              "      <td>...</td>\n",
              "      <td>...</td>\n",
              "      <td>...</td>\n",
              "      <td>...</td>\n",
              "      <td>...</td>\n",
              "      <td>...</td>\n",
              "      <td>...</td>\n",
              "      <td>...</td>\n",
              "      <td>...</td>\n",
              "      <td>...</td>\n",
              "      <td>...</td>\n",
              "      <td>...</td>\n",
              "      <td>...</td>\n",
              "      <td>...</td>\n",
              "      <td>...</td>\n",
              "      <td>...</td>\n",
              "      <td>...</td>\n",
              "    </tr>\n",
              "    <tr>\n",
              "      <th>693066</th>\n",
              "      <td>1.543708e+09</td>\n",
              "      <td>23</td>\n",
              "      <td>1</td>\n",
              "      <td>12</td>\n",
              "      <td>13.0</td>\n",
              "      <td>1.00</td>\n",
              "      <td>1.0</td>\n",
              "      <td>42.3519</td>\n",
              "      <td>-71.0643</td>\n",
              "      <td>37.05</td>\n",
              "      <td>37.05</td>\n",
              "      <td>0.0000</td>\n",
              "      <td>0.0</td>\n",
              "      <td>0.74</td>\n",
              "      <td>2.34</td>\n",
              "      <td>2.87</td>\n",
              "      <td>1543672800</td>\n",
              "      <td>9.785</td>\n",
              "      <td>44.76</td>\n",
              "      <td>1543690800</td>\n",
              "      <td>34.83</td>\n",
              "      <td>1543712400</td>\n",
              "      <td>44.09</td>\n",
              "      <td>1543690800</td>\n",
              "      <td>35.48</td>\n",
              "      <td>1543712400</td>\n",
              "      <td>29.65</td>\n",
              "      <td>1023.57</td>\n",
              "      <td>133</td>\n",
              "      <td>0.31</td>\n",
              "      <td>0</td>\n",
              "      <td>9.785</td>\n",
              "      <td>271.5</td>\n",
              "      <td>1543665331</td>\n",
              "      <td>1543698855</td>\n",
              "      <td>0.82</td>\n",
              "      <td>0.0000</td>\n",
              "      <td>1543683600</td>\n",
              "      <td>31.42</td>\n",
              "      <td>1543658400</td>\n",
              "      <td>44.76</td>\n",
              "      <td>1543690800</td>\n",
              "      <td>27.77</td>\n",
              "      <td>1543658400</td>\n",
              "      <td>44.09</td>\n",
              "      <td>1543690800</td>\n",
              "    </tr>\n",
              "    <tr>\n",
              "      <th>693067</th>\n",
              "      <td>1.543708e+09</td>\n",
              "      <td>23</td>\n",
              "      <td>1</td>\n",
              "      <td>12</td>\n",
              "      <td>9.5</td>\n",
              "      <td>1.00</td>\n",
              "      <td>1.0</td>\n",
              "      <td>42.3519</td>\n",
              "      <td>-71.0643</td>\n",
              "      <td>37.05</td>\n",
              "      <td>37.05</td>\n",
              "      <td>0.0000</td>\n",
              "      <td>0.0</td>\n",
              "      <td>0.74</td>\n",
              "      <td>2.34</td>\n",
              "      <td>2.87</td>\n",
              "      <td>1543672800</td>\n",
              "      <td>9.785</td>\n",
              "      <td>44.76</td>\n",
              "      <td>1543690800</td>\n",
              "      <td>34.83</td>\n",
              "      <td>1543712400</td>\n",
              "      <td>44.09</td>\n",
              "      <td>1543690800</td>\n",
              "      <td>35.48</td>\n",
              "      <td>1543712400</td>\n",
              "      <td>29.65</td>\n",
              "      <td>1023.57</td>\n",
              "      <td>133</td>\n",
              "      <td>0.31</td>\n",
              "      <td>0</td>\n",
              "      <td>9.785</td>\n",
              "      <td>271.5</td>\n",
              "      <td>1543665331</td>\n",
              "      <td>1543698855</td>\n",
              "      <td>0.82</td>\n",
              "      <td>0.0000</td>\n",
              "      <td>1543683600</td>\n",
              "      <td>31.42</td>\n",
              "      <td>1543658400</td>\n",
              "      <td>44.76</td>\n",
              "      <td>1543690800</td>\n",
              "      <td>27.77</td>\n",
              "      <td>1543658400</td>\n",
              "      <td>44.09</td>\n",
              "      <td>1543690800</td>\n",
              "    </tr>\n",
              "    <tr>\n",
              "      <th>693068</th>\n",
              "      <td>1.543708e+09</td>\n",
              "      <td>23</td>\n",
              "      <td>1</td>\n",
              "      <td>12</td>\n",
              "      <td>NaN</td>\n",
              "      <td>1.00</td>\n",
              "      <td>1.0</td>\n",
              "      <td>42.3519</td>\n",
              "      <td>-71.0643</td>\n",
              "      <td>37.05</td>\n",
              "      <td>37.05</td>\n",
              "      <td>0.0000</td>\n",
              "      <td>0.0</td>\n",
              "      <td>0.74</td>\n",
              "      <td>2.34</td>\n",
              "      <td>2.87</td>\n",
              "      <td>1543672800</td>\n",
              "      <td>9.785</td>\n",
              "      <td>44.76</td>\n",
              "      <td>1543690800</td>\n",
              "      <td>34.83</td>\n",
              "      <td>1543712400</td>\n",
              "      <td>44.09</td>\n",
              "      <td>1543690800</td>\n",
              "      <td>35.48</td>\n",
              "      <td>1543712400</td>\n",
              "      <td>29.65</td>\n",
              "      <td>1023.57</td>\n",
              "      <td>133</td>\n",
              "      <td>0.31</td>\n",
              "      <td>0</td>\n",
              "      <td>9.785</td>\n",
              "      <td>271.5</td>\n",
              "      <td>1543665331</td>\n",
              "      <td>1543698855</td>\n",
              "      <td>0.82</td>\n",
              "      <td>0.0000</td>\n",
              "      <td>1543683600</td>\n",
              "      <td>31.42</td>\n",
              "      <td>1543658400</td>\n",
              "      <td>44.76</td>\n",
              "      <td>1543690800</td>\n",
              "      <td>27.77</td>\n",
              "      <td>1543658400</td>\n",
              "      <td>44.09</td>\n",
              "      <td>1543690800</td>\n",
              "    </tr>\n",
              "    <tr>\n",
              "      <th>693069</th>\n",
              "      <td>1.543708e+09</td>\n",
              "      <td>23</td>\n",
              "      <td>1</td>\n",
              "      <td>12</td>\n",
              "      <td>27.0</td>\n",
              "      <td>1.00</td>\n",
              "      <td>1.0</td>\n",
              "      <td>42.3519</td>\n",
              "      <td>-71.0643</td>\n",
              "      <td>37.05</td>\n",
              "      <td>37.05</td>\n",
              "      <td>0.0000</td>\n",
              "      <td>0.0</td>\n",
              "      <td>0.74</td>\n",
              "      <td>2.34</td>\n",
              "      <td>2.87</td>\n",
              "      <td>1543672800</td>\n",
              "      <td>9.785</td>\n",
              "      <td>44.76</td>\n",
              "      <td>1543690800</td>\n",
              "      <td>34.83</td>\n",
              "      <td>1543712400</td>\n",
              "      <td>44.09</td>\n",
              "      <td>1543690800</td>\n",
              "      <td>35.48</td>\n",
              "      <td>1543712400</td>\n",
              "      <td>29.65</td>\n",
              "      <td>1023.57</td>\n",
              "      <td>133</td>\n",
              "      <td>0.31</td>\n",
              "      <td>0</td>\n",
              "      <td>9.785</td>\n",
              "      <td>271.5</td>\n",
              "      <td>1543665331</td>\n",
              "      <td>1543698855</td>\n",
              "      <td>0.82</td>\n",
              "      <td>0.0000</td>\n",
              "      <td>1543683600</td>\n",
              "      <td>31.42</td>\n",
              "      <td>1543658400</td>\n",
              "      <td>44.76</td>\n",
              "      <td>1543690800</td>\n",
              "      <td>27.77</td>\n",
              "      <td>1543658400</td>\n",
              "      <td>44.09</td>\n",
              "      <td>1543690800</td>\n",
              "    </tr>\n",
              "    <tr>\n",
              "      <th>693070</th>\n",
              "      <td>1.543708e+09</td>\n",
              "      <td>23</td>\n",
              "      <td>1</td>\n",
              "      <td>12</td>\n",
              "      <td>10.0</td>\n",
              "      <td>1.00</td>\n",
              "      <td>1.0</td>\n",
              "      <td>42.3519</td>\n",
              "      <td>-71.0643</td>\n",
              "      <td>37.05</td>\n",
              "      <td>37.05</td>\n",
              "      <td>0.0000</td>\n",
              "      <td>0.0</td>\n",
              "      <td>0.74</td>\n",
              "      <td>2.34</td>\n",
              "      <td>2.87</td>\n",
              "      <td>1543672800</td>\n",
              "      <td>9.785</td>\n",
              "      <td>44.76</td>\n",
              "      <td>1543690800</td>\n",
              "      <td>34.83</td>\n",
              "      <td>1543712400</td>\n",
              "      <td>44.09</td>\n",
              "      <td>1543690800</td>\n",
              "      <td>35.48</td>\n",
              "      <td>1543712400</td>\n",
              "      <td>29.65</td>\n",
              "      <td>1023.57</td>\n",
              "      <td>133</td>\n",
              "      <td>0.31</td>\n",
              "      <td>0</td>\n",
              "      <td>9.785</td>\n",
              "      <td>271.5</td>\n",
              "      <td>1543665331</td>\n",
              "      <td>1543698855</td>\n",
              "      <td>0.82</td>\n",
              "      <td>0.0000</td>\n",
              "      <td>1543683600</td>\n",
              "      <td>31.42</td>\n",
              "      <td>1543658400</td>\n",
              "      <td>44.76</td>\n",
              "      <td>1543690800</td>\n",
              "      <td>27.77</td>\n",
              "      <td>1543658400</td>\n",
              "      <td>44.09</td>\n",
              "      <td>1543690800</td>\n",
              "    </tr>\n",
              "  </tbody>\n",
              "</table>\n",
              "<p>693071 rows × 46 columns</p>\n",
              "</div>\n",
              "      <button class=\"colab-df-convert\" onclick=\"convertToInteractive('df-ed4041e7-7234-4752-8e17-2bab2198ca17')\"\n",
              "              title=\"Convert this dataframe to an interactive table.\"\n",
              "              style=\"display:none;\">\n",
              "        \n",
              "  <svg xmlns=\"http://www.w3.org/2000/svg\" height=\"24px\"viewBox=\"0 0 24 24\"\n",
              "       width=\"24px\">\n",
              "    <path d=\"M0 0h24v24H0V0z\" fill=\"none\"/>\n",
              "    <path d=\"M18.56 5.44l.94 2.06.94-2.06 2.06-.94-2.06-.94-.94-2.06-.94 2.06-2.06.94zm-11 1L8.5 8.5l.94-2.06 2.06-.94-2.06-.94L8.5 2.5l-.94 2.06-2.06.94zm10 10l.94 2.06.94-2.06 2.06-.94-2.06-.94-.94-2.06-.94 2.06-2.06.94z\"/><path d=\"M17.41 7.96l-1.37-1.37c-.4-.4-.92-.59-1.43-.59-.52 0-1.04.2-1.43.59L10.3 9.45l-7.72 7.72c-.78.78-.78 2.05 0 2.83L4 21.41c.39.39.9.59 1.41.59.51 0 1.02-.2 1.41-.59l7.78-7.78 2.81-2.81c.8-.78.8-2.07 0-2.86zM5.41 20L4 18.59l7.72-7.72 1.47 1.35L5.41 20z\"/>\n",
              "  </svg>\n",
              "      </button>\n",
              "      \n",
              "  <style>\n",
              "    .colab-df-container {\n",
              "      display:flex;\n",
              "      flex-wrap:wrap;\n",
              "      gap: 12px;\n",
              "    }\n",
              "\n",
              "    .colab-df-convert {\n",
              "      background-color: #E8F0FE;\n",
              "      border: none;\n",
              "      border-radius: 50%;\n",
              "      cursor: pointer;\n",
              "      display: none;\n",
              "      fill: #1967D2;\n",
              "      height: 32px;\n",
              "      padding: 0 0 0 0;\n",
              "      width: 32px;\n",
              "    }\n",
              "\n",
              "    .colab-df-convert:hover {\n",
              "      background-color: #E2EBFA;\n",
              "      box-shadow: 0px 1px 2px rgba(60, 64, 67, 0.3), 0px 1px 3px 1px rgba(60, 64, 67, 0.15);\n",
              "      fill: #174EA6;\n",
              "    }\n",
              "\n",
              "    [theme=dark] .colab-df-convert {\n",
              "      background-color: #3B4455;\n",
              "      fill: #D2E3FC;\n",
              "    }\n",
              "\n",
              "    [theme=dark] .colab-df-convert:hover {\n",
              "      background-color: #434B5C;\n",
              "      box-shadow: 0px 1px 3px 1px rgba(0, 0, 0, 0.15);\n",
              "      filter: drop-shadow(0px 1px 2px rgba(0, 0, 0, 0.3));\n",
              "      fill: #FFFFFF;\n",
              "    }\n",
              "  </style>\n",
              "\n",
              "      <script>\n",
              "        const buttonEl =\n",
              "          document.querySelector('#df-ed4041e7-7234-4752-8e17-2bab2198ca17 button.colab-df-convert');\n",
              "        buttonEl.style.display =\n",
              "          google.colab.kernel.accessAllowed ? 'block' : 'none';\n",
              "\n",
              "        async function convertToInteractive(key) {\n",
              "          const element = document.querySelector('#df-ed4041e7-7234-4752-8e17-2bab2198ca17');\n",
              "          const dataTable =\n",
              "            await google.colab.kernel.invokeFunction('convertToInteractive',\n",
              "                                                     [key], {});\n",
              "          if (!dataTable) return;\n",
              "\n",
              "          const docLinkHtml = 'Like what you see? Visit the ' +\n",
              "            '<a target=\"_blank\" href=https://colab.research.google.com/notebooks/data_table.ipynb>data table notebook</a>'\n",
              "            + ' to learn more about interactive tables.';\n",
              "          element.innerHTML = '';\n",
              "          dataTable['output_type'] = 'display_data';\n",
              "          await google.colab.output.renderOutput(dataTable, element);\n",
              "          const docLink = document.createElement('div');\n",
              "          docLink.innerHTML = docLinkHtml;\n",
              "          element.appendChild(docLink);\n",
              "        }\n",
              "      </script>\n",
              "    </div>\n",
              "  </div>\n",
              "  "
            ],
            "text/plain": [
              "           timestamp  hour  ...  apparentTemperatureMax  apparentTemperatureMaxTime\n",
              "0       1.544953e+09     9  ...                   38.07                  1544958000\n",
              "1       1.543284e+09     2  ...                   43.92                  1543251600\n",
              "2       1.543367e+09     1  ...                   44.12                  1543320000\n",
              "3       1.543554e+09     4  ...                   38.53                  1543510800\n",
              "4       1.543463e+09     3  ...                   35.75                  1543420800\n",
              "...              ...   ...  ...                     ...                         ...\n",
              "693066  1.543708e+09    23  ...                   44.09                  1543690800\n",
              "693067  1.543708e+09    23  ...                   44.09                  1543690800\n",
              "693068  1.543708e+09    23  ...                   44.09                  1543690800\n",
              "693069  1.543708e+09    23  ...                   44.09                  1543690800\n",
              "693070  1.543708e+09    23  ...                   44.09                  1543690800\n",
              "\n",
              "[693071 rows x 46 columns]"
            ]
          },
          "metadata": {},
          "execution_count": 20
        }
      ]
    },
    {
      "cell_type": "code",
      "source": [
        " for k, v in num.items():\n",
        "        q1 = v.quantile(0.25)\n",
        "        q3 = v.quantile(0.75)\n",
        "        irq = q3 - q1\n",
        "        v_col = v[(v <= q1 - 1.5 * irq) | (v >= q3 + 1.5 * irq)]\n",
        "        perc = np.shape(v_col)[0] * 100.0 / np.shape(num)[0]\n",
        "        print(\"Column %s outliers = %.2f%%\" % (k, perc))"
      ],
      "metadata": {
        "colab": {
          "base_uri": "https://localhost:8080/"
        },
        "id": "8zKtVJwc5FDY",
        "outputId": "a8b7aba4-f435-4e75-f50c-0ca8a758a4a5"
      },
      "execution_count": null,
      "outputs": [
        {
          "output_type": "stream",
          "name": "stdout",
          "text": [
            "Column timestamp outliers = 0.00%\n",
            "Column hour outliers = 0.00%\n",
            "Column day outliers = 0.00%\n",
            "Column month outliers = 0.00%\n",
            "Column price outliers = 0.81%\n",
            "Column distance outliers = 1.27%\n",
            "Column surge_multiplier outliers = 100.00%\n",
            "Column latitude outliers = 12.78%\n",
            "Column longitude outliers = 0.00%\n",
            "Column temperature outliers = 5.29%\n",
            "Column apparentTemperature outliers = 7.72%\n",
            "Column precipIntensity outliers = 100.00%\n",
            "Column precipProbability outliers = 100.00%\n",
            "Column humidity outliers = 0.00%\n",
            "Column windSpeed outliers = 0.00%\n",
            "Column windGust outliers = 2.43%\n",
            "Column windGustTime outliers = 0.00%\n",
            "Column visibility outliers = 19.74%\n",
            "Column temperatureHigh outliers = 23.65%\n",
            "Column temperatureHighTime outliers = 0.00%\n",
            "Column temperatureLow outliers = 0.00%\n",
            "Column temperatureLowTime outliers = 0.00%\n",
            "Column apparentTemperatureHigh outliers = 10.33%\n",
            "Column apparentTemperatureHighTime outliers = 0.00%\n",
            "Column apparentTemperatureLow outliers = 12.65%\n",
            "Column apparentTemperatureLowTime outliers = 0.00%\n",
            "Column dewPoint outliers = 5.38%\n",
            "Column pressure outliers = 0.00%\n",
            "Column windBearing outliers = 0.00%\n",
            "Column cloudCover outliers = 0.00%\n",
            "Column uvIndex outliers = 100.00%\n",
            "Column visibility.1 outliers = 19.74%\n",
            "Column ozone outliers = 0.00%\n",
            "Column sunriseTime outliers = 0.00%\n",
            "Column sunsetTime outliers = 0.00%\n",
            "Column moonPhase outliers = 0.00%\n",
            "Column precipIntensityMax outliers = 0.00%\n",
            "Column uvIndexTime outliers = 0.00%\n",
            "Column temperatureMin outliers = 0.64%\n",
            "Column temperatureMinTime outliers = 0.00%\n",
            "Column temperatureMax outliers = 19.77%\n",
            "Column temperatureMaxTime outliers = 0.00%\n",
            "Column apparentTemperatureMin outliers = 10.97%\n",
            "Column apparentTemperatureMinTime outliers = 0.00%\n",
            "Column apparentTemperatureMax outliers = 6.46%\n",
            "Column apparentTemperatureMaxTime outliers = 0.00%\n"
          ]
        }
      ]
    },
    {
      "cell_type": "markdown",
      "metadata": {
        "id": "T_FgNjqGxF0G"
      },
      "source": [
        "#Data Preprocessing\n",
        "\n",
        "---\n",
        "In this part, we will do some of processes\n",
        "\n",
        "\n",
        "\n",
        "1.   Select Features\n",
        "2.   Split Data\n",
        "3. Handling Outliers\n",
        "4. Feature Encoding\n",
        "5. Feature Scalling\n",
        "\n",
        "\n"
      ]
    },
    {
      "cell_type": "markdown",
      "source": [
        "First drop the missing value, since the missing value is inside the target data we just have to drop the whole data that has missing value"
      ],
      "metadata": {
        "id": "MFRQwGqnKdwM"
      }
    },
    {
      "cell_type": "code",
      "source": [
        "df = df.dropna()"
      ],
      "metadata": {
        "id": "KL_m_MA_8P8k"
      },
      "execution_count": null,
      "outputs": []
    },
    {
      "cell_type": "markdown",
      "source": [
        "##Split Data\n",
        "\n",
        "---\n",
        "\n",
        "We split the dataset into **Training data by 70%** and **Test data by 30%**"
      ],
      "metadata": {
        "id": "XiQOaEZn4FCr"
      }
    },
    {
      "cell_type": "code",
      "source": [
        "x = df.loc[:,['cab_type', 'name','distance', 'surge_multiplier', 'temperature', 'timestamp']]\n",
        "y = df['price'] # Target"
      ],
      "metadata": {
        "id": "PukFyjJQ4VFY"
      },
      "execution_count": null,
      "outputs": []
    },
    {
      "cell_type": "code",
      "source": [
        "x_train, x_test, y_train,y_test = train_test_split(x,y, test_size = 0.3, random_state = 1)"
      ],
      "metadata": {
        "id": "QvXgQRVA1Nw_"
      },
      "execution_count": null,
      "outputs": []
    },
    {
      "cell_type": "code",
      "source": [
        "x_train.shape"
      ],
      "metadata": {
        "colab": {
          "base_uri": "https://localhost:8080/"
        },
        "id": "_xN4ikfwuYPr",
        "outputId": "dd87b2fc-a8fc-4c05-f156-030ee4c00ae9"
      },
      "execution_count": null,
      "outputs": [
        {
          "output_type": "execute_result",
          "data": {
            "text/plain": [
              "(446583, 6)"
            ]
          },
          "metadata": {},
          "execution_count": 47
        }
      ]
    },
    {
      "cell_type": "code",
      "source": [
        "y_train.shape"
      ],
      "metadata": {
        "colab": {
          "base_uri": "https://localhost:8080/"
        },
        "id": "rW38Dh3An4xS",
        "outputId": "c1e1b7c2-574b-4e0a-b5cd-6de19e3e42fd"
      },
      "execution_count": null,
      "outputs": [
        {
          "output_type": "execute_result",
          "data": {
            "text/plain": [
              "(446583,)"
            ]
          },
          "metadata": {},
          "execution_count": 48
        }
      ]
    },
    {
      "cell_type": "markdown",
      "source": [
        "##Handling Outliers"
      ],
      "metadata": {
        "id": "0odPapZ5aGPs"
      }
    },
    {
      "cell_type": "markdown",
      "source": [
        "###Handling Outliers Train Data"
      ],
      "metadata": {
        "id": "kuGemd_4OT3d"
      }
    },
    {
      "cell_type": "code",
      "source": [
        "num_train = x_train._get_numeric_data()\n",
        "for k, v in num_train.items():\n",
        "  q1 = v.quantile(0.25)\n",
        "  q3 = v.quantile(0.75)\n",
        "  iqr = q3 - q1\n",
        "  v_col = v[(v <= q1 - 1.5 * iqr) | (v >= q3 + 1.5 * iqr)]\n",
        "  perc = np.shape(v_col)[0] * 100.0 / np.shape(num_train)[0]\n",
        "  print(\"Column %s outliers = %.2f%%\" % (k, perc))"
      ],
      "metadata": {
        "id": "ahdTfFDEaKez",
        "colab": {
          "base_uri": "https://localhost:8080/"
        },
        "outputId": "fa15a19c-17be-47e0-8feb-835010c667aa"
      },
      "execution_count": null,
      "outputs": [
        {
          "output_type": "stream",
          "name": "stdout",
          "text": [
            "Column distance outliers = 1.07%\n",
            "Column surge_multiplier outliers = 100.00%\n",
            "Column temperature outliers = 5.28%\n",
            "Column timestamp outliers = 0.00%\n"
          ]
        }
      ]
    },
    {
      "cell_type": "markdown",
      "source": [
        "###Check Distribution for Train Data"
      ],
      "metadata": {
        "id": "pGOpZQWkcILY"
      }
    },
    {
      "cell_type": "code",
      "source": [
        "# Function to create histogram, Q-Q plot and boxplot.\n",
        "# This functions takes a dataframe (df) and the variable of interest as arguments.\n",
        "\n",
        "def diagnostic_plots(x_train, variable):\n",
        "    # Define figure size\n",
        "    plt.figure(figsize=(16, 4))\n",
        "\n",
        "    # Histogram\n",
        "    plt.subplot(1, 2, 1)\n",
        "    sns.histplot(x_train[variable], bins=30)\n",
        "    plt.title('Histogram')\n",
        "\n",
        "    # Boxplot\n",
        "    plt.subplot(1, 2, 2)\n",
        "    sns.boxplot(y=x_train[variable])\n",
        "    plt.title('Boxplot')\n",
        "\n",
        "    plt.show()"
      ],
      "metadata": {
        "id": "iPwEc1tgcKIG"
      },
      "execution_count": null,
      "outputs": []
    },
    {
      "cell_type": "code",
      "source": [
        "diagnostic_plots(x_train, 'distance')\n",
        "print('\\nSkewness Value : ', x_train['distance'].skew())"
      ],
      "metadata": {
        "colab": {
          "base_uri": "https://localhost:8080/",
          "height": 331
        },
        "id": "VH-jMnyLcK2d",
        "outputId": "66242e37-e593-433a-a3be-c9cb38caccd2"
      },
      "execution_count": null,
      "outputs": [
        {
          "output_type": "display_data",
          "data": {
            "image/png": "[encoded data removed]",
            "text/plain": [
              "<Figure size 1152x288 with 2 Axes>"
            ]
          },
          "metadata": {
            "needs_background": "light"
          }
        },
        {
          "output_type": "stream",
          "name": "stdout",
          "text": [
            "\n",
            "Skewness Value :  0.8115731788720086\n"
          ]
        }
      ]
    },
    {
      "cell_type": "markdown",
      "source": [
        "Distance feature likely has likely normal distributed "
      ],
      "metadata": {
        "id": "U7RBQcaXLCIm"
      }
    },
    {
      "cell_type": "code",
      "source": [
        "diagnostic_plots(x_train, 'temperature')\n",
        "print('\\nSkewness Value : ', x_train['temperature'].skew())"
      ],
      "metadata": {
        "colab": {
          "base_uri": "https://localhost:8080/",
          "height": 331
        },
        "id": "Ha436fuycPSJ",
        "outputId": "de85b2da-76d6-406b-9e30-f01dbf692a7e"
      },
      "execution_count": null,
      "outputs": [
        {
          "output_type": "display_data",
          "data": {
            "image/png": "[encoded data removed]",
            "text/plain": [
              "<Figure size 1152x288 with 2 Axes>"
            ]
          },
          "metadata": {
            "needs_background": "light"
          }
        },
        {
          "output_type": "stream",
          "name": "stdout",
          "text": [
            "\n",
            "Skewness Value :  -0.6102109557404762\n"
          ]
        }
      ]
    },
    {
      "cell_type": "markdown",
      "source": [
        "Temperature also has normal distribution"
      ],
      "metadata": {
        "id": "G36E_eLHLToV"
      }
    },
    {
      "cell_type": "code",
      "source": [
        "x_train[['distance','temperature']].describe()"
      ],
      "metadata": {
        "colab": {
          "base_uri": "https://localhost:8080/",
          "height": 300
        },
        "id": "oDLwoI34a-xw",
        "outputId": "697b1a02-8552-42a9-88bd-e71ec61894d8"
      },
      "execution_count": null,
      "outputs": [
        {
          "output_type": "execute_result",
          "data": {
            "text/html": [
              "\n",
              "  <div id=\"df-f2d088ab-5368-4f99-aa41-128c4971e2a6\">\n",
              "    <div class=\"colab-df-container\">\n",
              "      <div>\n",
              "<style scoped>\n",
              "    .dataframe tbody tr th:only-of-type {\n",
              "        vertical-align: middle;\n",
              "    }\n",
              "\n",
              "    .dataframe tbody tr th {\n",
              "        vertical-align: top;\n",
              "    }\n",
              "\n",
              "    .dataframe thead th {\n",
              "        text-align: right;\n",
              "    }\n",
              "</style>\n",
              "<table border=\"1\" class=\"dataframe\">\n",
              "  <thead>\n",
              "    <tr style=\"text-align: right;\">\n",
              "      <th></th>\n",
              "      <th>distance</th>\n",
              "      <th>temperature</th>\n",
              "    </tr>\n",
              "  </thead>\n",
              "  <tbody>\n",
              "    <tr>\n",
              "      <th>count</th>\n",
              "      <td>446583.000000</td>\n",
              "      <td>446583.000000</td>\n",
              "    </tr>\n",
              "    <tr>\n",
              "      <th>mean</th>\n",
              "      <td>2.187749</td>\n",
              "      <td>39.584382</td>\n",
              "    </tr>\n",
              "    <tr>\n",
              "      <th>std</th>\n",
              "      <td>1.134431</td>\n",
              "      <td>6.723627</td>\n",
              "    </tr>\n",
              "    <tr>\n",
              "      <th>min</th>\n",
              "      <td>0.020000</td>\n",
              "      <td>18.910000</td>\n",
              "    </tr>\n",
              "    <tr>\n",
              "      <th>25%</th>\n",
              "      <td>1.270000</td>\n",
              "      <td>36.450000</td>\n",
              "    </tr>\n",
              "    <tr>\n",
              "      <th>50%</th>\n",
              "      <td>2.160000</td>\n",
              "      <td>40.490000</td>\n",
              "    </tr>\n",
              "    <tr>\n",
              "      <th>75%</th>\n",
              "      <td>2.930000</td>\n",
              "      <td>43.580000</td>\n",
              "    </tr>\n",
              "    <tr>\n",
              "      <th>max</th>\n",
              "      <td>7.860000</td>\n",
              "      <td>57.220000</td>\n",
              "    </tr>\n",
              "  </tbody>\n",
              "</table>\n",
              "</div>\n",
              "      <button class=\"colab-df-convert\" onclick=\"convertToInteractive('df-f2d088ab-5368-4f99-aa41-128c4971e2a6')\"\n",
              "              title=\"Convert this dataframe to an interactive table.\"\n",
              "              style=\"display:none;\">\n",
              "        \n",
              "  <svg xmlns=\"http://www.w3.org/2000/svg\" height=\"24px\"viewBox=\"0 0 24 24\"\n",
              "       width=\"24px\">\n",
              "    <path d=\"M0 0h24v24H0V0z\" fill=\"none\"/>\n",
              "    <path d=\"M18.56 5.44l.94 2.06.94-2.06 2.06-.94-2.06-.94-.94-2.06-.94 2.06-2.06.94zm-11 1L8.5 8.5l.94-2.06 2.06-.94-2.06-.94L8.5 2.5l-.94 2.06-2.06.94zm10 10l.94 2.06.94-2.06 2.06-.94-2.06-.94-.94-2.06-.94 2.06-2.06.94z\"/><path d=\"M17.41 7.96l-1.37-1.37c-.4-.4-.92-.59-1.43-.59-.52 0-1.04.2-1.43.59L10.3 9.45l-7.72 7.72c-.78.78-.78 2.05 0 2.83L4 21.41c.39.39.9.59 1.41.59.51 0 1.02-.2 1.41-.59l7.78-7.78 2.81-2.81c.8-.78.8-2.07 0-2.86zM5.41 20L4 18.59l7.72-7.72 1.47 1.35L5.41 20z\"/>\n",
              "  </svg>\n",
              "      </button>\n",
              "      \n",
              "  <style>\n",
              "    .colab-df-container {\n",
              "      display:flex;\n",
              "      flex-wrap:wrap;\n",
              "      gap: 12px;\n",
              "    }\n",
              "\n",
              "    .colab-df-convert {\n",
              "      background-color: #E8F0FE;\n",
              "      border: none;\n",
              "      border-radius: 50%;\n",
              "      cursor: pointer;\n",
              "      display: none;\n",
              "      fill: #1967D2;\n",
              "      height: 32px;\n",
              "      padding: 0 0 0 0;\n",
              "      width: 32px;\n",
              "    }\n",
              "\n",
              "    .colab-df-convert:hover {\n",
              "      background-color: #E2EBFA;\n",
              "      box-shadow: 0px 1px 2px rgba(60, 64, 67, 0.3), 0px 1px 3px 1px rgba(60, 64, 67, 0.15);\n",
              "      fill: #174EA6;\n",
              "    }\n",
              "\n",
              "    [theme=dark] .colab-df-convert {\n",
              "      background-color: #3B4455;\n",
              "      fill: #D2E3FC;\n",
              "    }\n",
              "\n",
              "    [theme=dark] .colab-df-convert:hover {\n",
              "      background-color: #434B5C;\n",
              "      box-shadow: 0px 1px 3px 1px rgba(0, 0, 0, 0.15);\n",
              "      filter: drop-shadow(0px 1px 2px rgba(0, 0, 0, 0.3));\n",
              "      fill: #FFFFFF;\n",
              "    }\n",
              "  </style>\n",
              "\n",
              "      <script>\n",
              "        const buttonEl =\n",
              "          document.querySelector('#df-f2d088ab-5368-4f99-aa41-128c4971e2a6 button.colab-df-convert');\n",
              "        buttonEl.style.display =\n",
              "          google.colab.kernel.accessAllowed ? 'block' : 'none';\n",
              "\n",
              "        async function convertToInteractive(key) {\n",
              "          const element = document.querySelector('#df-f2d088ab-5368-4f99-aa41-128c4971e2a6');\n",
              "          const dataTable =\n",
              "            await google.colab.kernel.invokeFunction('convertToInteractive',\n",
              "                                                     [key], {});\n",
              "          if (!dataTable) return;\n",
              "\n",
              "          const docLinkHtml = 'Like what you see? Visit the ' +\n",
              "            '<a target=\"_blank\" href=https://colab.research.google.com/notebooks/data_table.ipynb>data table notebook</a>'\n",
              "            + ' to learn more about interactive tables.';\n",
              "          element.innerHTML = '';\n",
              "          dataTable['output_type'] = 'display_data';\n",
              "          await google.colab.output.renderOutput(dataTable, element);\n",
              "          const docLink = document.createElement('div');\n",
              "          docLink.innerHTML = docLinkHtml;\n",
              "          element.appendChild(docLink);\n",
              "        }\n",
              "      </script>\n",
              "    </div>\n",
              "  </div>\n",
              "  "
            ],
            "text/plain": [
              "            distance    temperature\n",
              "count  446583.000000  446583.000000\n",
              "mean        2.187749      39.584382\n",
              "std         1.134431       6.723627\n",
              "min         0.020000      18.910000\n",
              "25%         1.270000      36.450000\n",
              "50%         2.160000      40.490000\n",
              "75%         2.930000      43.580000\n",
              "max         7.860000      57.220000"
            ]
          },
          "metadata": {},
          "execution_count": 53
        }
      ]
    },
    {
      "cell_type": "markdown",
      "source": [
        "###Capping for Train Data"
      ],
      "metadata": {
        "id": "wSgrXKYpOcou"
      }
    },
    {
      "cell_type": "code",
      "source": [
        "# Create the capper\n",
        "\n",
        "windsoriser = Winsorizer(capping_method='iqr', # choose iqr for IQR rule boundaries or gaussian for mean and std\n",
        "                          tail='both', # cap left, right or both tails \n",
        "                          fold=1.5,\n",
        "                          variables=['distance','temperature'])\n",
        "\n",
        "windsoriser.fit(x_train)\n",
        "\n",
        "x_train = windsoriser.transform(x_train)"
      ],
      "metadata": {
        "id": "AfQ7OEWdbLoc"
      },
      "execution_count": null,
      "outputs": []
    },
    {
      "cell_type": "code",
      "source": [
        "diagnostic_plots(x_train, 'distance')\n",
        "print('\\nSkewness Value : ', x_train['distance'].skew())"
      ],
      "metadata": {
        "colab": {
          "base_uri": "https://localhost:8080/",
          "height": 331
        },
        "id": "EMnqiDpfcggw",
        "outputId": "1bfbdd82-cb00-497b-d2a3-a8739f53afe1"
      },
      "execution_count": null,
      "outputs": [
        {
          "output_type": "display_data",
          "data": {
            "image/png": "[encoded data removed]",
            "text/plain": [
              "<Figure size 1152x288 with 2 Axes>"
            ]
          },
          "metadata": {
            "needs_background": "light"
          }
        },
        {
          "output_type": "stream",
          "name": "stdout",
          "text": [
            "\n",
            "Skewness Value :  0.587036562569245\n"
          ]
        }
      ]
    },
    {
      "cell_type": "code",
      "source": [
        "diagnostic_plots(x_train, 'temperature')\n",
        "print('\\nSkewness Value : ', x_train['temperature'].skew())"
      ],
      "metadata": {
        "colab": {
          "base_uri": "https://localhost:8080/",
          "height": 331
        },
        "id": "yN67Zf4ucg77",
        "outputId": "f36eb2e2-81c5-49f8-fc5c-ee6561c0bf05"
      },
      "execution_count": null,
      "outputs": [
        {
          "output_type": "display_data",
          "data": {
            "image/png": "[encoded data removed]",
            "text/plain": [
              "<Figure size 1152x288 with 2 Axes>"
            ]
          },
          "metadata": {
            "needs_background": "light"
          }
        },
        {
          "output_type": "stream",
          "name": "stdout",
          "text": [
            "\n",
            "Skewness Value :  -0.3197128877437184\n"
          ]
        }
      ]
    },
    {
      "cell_type": "markdown",
      "source": [
        "###Handling Outliers for Test Data"
      ],
      "metadata": {
        "id": "LTYLB9EvO-n7"
      }
    },
    {
      "cell_type": "code",
      "source": [
        "num_test = x_test._get_numeric_data()\n",
        "for k, v in num_test.items():\n",
        "  q1 = v.quantile(0.25)\n",
        "  q3 = v.quantile(0.75)\n",
        "  iqr = q3 - q1\n",
        "  v_col = v[(v <= q1 - 1.5 * iqr) | (v >= q3 + 1.5 * iqr)]\n",
        "  perc = np.shape(v_col)[0] * 100.0 / np.shape(num_test)[0]\n",
        "  print(\"Column %s outliers = %.2f%%\" % (k, perc))"
      ],
      "metadata": {
        "colab": {
          "base_uri": "https://localhost:8080/"
        },
        "id": "FILkvFucO5d1",
        "outputId": "dc372f80-e564-448d-96eb-5f2b466ee9e8"
      },
      "execution_count": null,
      "outputs": [
        {
          "output_type": "stream",
          "name": "stdout",
          "text": [
            "Column distance outliers = 1.09%\n",
            "Column surge_multiplier outliers = 100.00%\n",
            "Column temperature outliers = 5.32%\n",
            "Column timestamp outliers = 0.00%\n"
          ]
        }
      ]
    },
    {
      "cell_type": "markdown",
      "source": [
        "###Distribution for Test Data"
      ],
      "metadata": {
        "id": "DgoL63b8PP-8"
      }
    },
    {
      "cell_type": "code",
      "source": [
        "# Function to create histogram, Q-Q plot and boxplot.\n",
        "# This functions takes a dataframe (df) and the variable of interest as arguments.\n",
        "\n",
        "def diagnostic_plots(x_test, variable):\n",
        "    # Define figure size\n",
        "    plt.figure(figsize=(16, 4))\n",
        "\n",
        "    # Histogram\n",
        "    plt.subplot(1, 2, 1)\n",
        "    sns.histplot(x_test[variable], bins=30)\n",
        "    plt.title('Histogram')\n",
        "\n",
        "    # Boxplot\n",
        "    plt.subplot(1, 2, 2)\n",
        "    sns.boxplot(y=x_test[variable])\n",
        "    plt.title('Boxplot')\n",
        "\n",
        "    plt.show()"
      ],
      "metadata": {
        "id": "vuBTnB4bPVFO"
      },
      "execution_count": null,
      "outputs": []
    },
    {
      "cell_type": "code",
      "source": [
        "diagnostic_plots(x_test, 'distance')\n",
        "print('\\nSkewness Value : ', x_test['distance'].skew())"
      ],
      "metadata": {
        "id": "flimB7JwPcSF",
        "colab": {
          "base_uri": "https://localhost:8080/",
          "height": 331
        },
        "outputId": "7898ec20-aa62-4b6d-fa70-95de04c23ef2"
      },
      "execution_count": null,
      "outputs": [
        {
          "output_type": "display_data",
          "data": {
            "image/png": "[encoded data removed]",
            "text/plain": [
              "<Figure size 1152x288 with 2 Axes>"
            ]
          },
          "metadata": {
            "needs_background": "light"
          }
        },
        {
          "output_type": "stream",
          "name": "stdout",
          "text": [
            "\n",
            "Skewness Value :  0.8290147355664192\n"
          ]
        }
      ]
    },
    {
      "cell_type": "code",
      "source": [
        "diagnostic_plots(x_test, 'temperature')\n",
        "print('\\nSkewness Value : ', x_test['temperature'].skew())"
      ],
      "metadata": {
        "id": "Ls7BQpgdPgg1",
        "colab": {
          "base_uri": "https://localhost:8080/",
          "height": 331
        },
        "outputId": "4976a04c-0496-46f2-ebd7-ae692508f571"
      },
      "execution_count": null,
      "outputs": [
        {
          "output_type": "display_data",
          "data": {
            "image/png": "[encoded data removed]",
            "text/plain": [
              "<Figure size 1152x288 with 2 Axes>"
            ]
          },
          "metadata": {
            "needs_background": "light"
          }
        },
        {
          "output_type": "stream",
          "name": "stdout",
          "text": [
            "\n",
            "Skewness Value :  -0.6068180583664602\n"
          ]
        }
      ]
    },
    {
      "cell_type": "markdown",
      "source": [
        "###Capping for Test Data"
      ],
      "metadata": {
        "id": "B2uLz2C5PwoL"
      }
    },
    {
      "cell_type": "code",
      "source": [
        "# Create the capper\n",
        "\n",
        "windsoriser = Winsorizer(capping_method='iqr', # choose iqr for IQR rule boundaries or gaussian for mean and std\n",
        "                          tail='both', # cap left, right or both tails \n",
        "                          fold=1.5,\n",
        "                          variables=['distance','temperature'])\n",
        "\n",
        "windsoriser.fit(x_test)\n",
        "\n",
        "x_test = windsoriser.transform(x_test)"
      ],
      "metadata": {
        "id": "AV39wCMzP0PN"
      },
      "execution_count": null,
      "outputs": []
    },
    {
      "cell_type": "code",
      "source": [
        "diagnostic_plots(x_test, 'distance')\n",
        "print('\\nSkewness Value : ', x_test['distance'].skew())"
      ],
      "metadata": {
        "id": "0UfT6c7_P5PC",
        "colab": {
          "base_uri": "https://localhost:8080/",
          "height": 331
        },
        "outputId": "482b1fba-6ba2-4e31-e685-31b020f05a6f"
      },
      "execution_count": null,
      "outputs": [
        {
          "output_type": "display_data",
          "data": {
            "image/png": "[encoded data removed]",
            "text/plain": [
              "<Figure size 1152x288 with 2 Axes>"
            ]
          },
          "metadata": {
            "needs_background": "light"
          }
        },
        {
          "output_type": "stream",
          "name": "stdout",
          "text": [
            "\n",
            "Skewness Value :  0.5929000162414952\n"
          ]
        }
      ]
    },
    {
      "cell_type": "code",
      "source": [
        "diagnostic_plots(x_test, 'temperature')\n",
        "print('\\nSkewness Value : ', x_test['temperature'].skew())"
      ],
      "metadata": {
        "id": "-qxU5HoPQJww",
        "colab": {
          "base_uri": "https://localhost:8080/",
          "height": 331
        },
        "outputId": "58d2c63b-41cc-48b2-fb38-dd662bdb1925"
      },
      "execution_count": null,
      "outputs": [
        {
          "output_type": "display_data",
          "data": {
            "image/png": "[encoded data removed]",
            "text/plain": [
              "<Figure size 1152x288 with 2 Axes>"
            ]
          },
          "metadata": {
            "needs_background": "light"
          }
        },
        {
          "output_type": "stream",
          "name": "stdout",
          "text": [
            "\n",
            "Skewness Value :  -0.3141322516960144\n"
          ]
        }
      ]
    },
    {
      "cell_type": "markdown",
      "source": [
        "##Handling Missing Value"
      ],
      "metadata": {
        "id": "nedMWumUXMMd"
      }
    },
    {
      "cell_type": "code",
      "source": [
        "y_train.isnull().sum()"
      ],
      "metadata": {
        "colab": {
          "base_uri": "https://localhost:8080/"
        },
        "id": "ENmxOUApXPJK",
        "outputId": "004aa229-fbc8-4fce-c83b-c5f22e2a954b"
      },
      "execution_count": null,
      "outputs": [
        {
          "output_type": "execute_result",
          "data": {
            "text/plain": [
              "0"
            ]
          },
          "metadata": {},
          "execution_count": 85
        }
      ]
    },
    {
      "cell_type": "code",
      "source": [
        "# missing_train = y_train.isnull().index[y_train.isnull()]\n",
        "# missing_test = y_train.isnull().index[y_train.isnull()]\n",
        "\n",
        "# drop_x_train = x_train.drop(missing_train.tolist())\n",
        "# drop_x_train"
      ],
      "metadata": {
        "id": "KSHJ3xNj7Jtl"
      },
      "execution_count": null,
      "outputs": []
    },
    {
      "cell_type": "markdown",
      "source": [
        " ## Feature Encoding\n",
        "\n",
        "---\n",
        "We use One Hot Encoding by appling get dummies to train data and test data\n"
      ],
      "metadata": {
        "id": "F9Sd5sLDxgxN"
      }
    },
    {
      "cell_type": "code",
      "source": [
        "x_train = pd.get_dummies(x_train, prefix='', prefix_sep='', \n",
        "                            columns=['cab_type', 'name'])\n",
        "x_test = pd.get_dummies(x_test, prefix='', prefix_sep='', \n",
        "                            columns=['cab_type', 'name'])\n"
      ],
      "metadata": {
        "id": "ZL0Q7ZmiuWIm"
      },
      "execution_count": null,
      "outputs": []
    },
    {
      "cell_type": "markdown",
      "source": [
        "##Feature Scalling"
      ],
      "metadata": {
        "id": "VQc0oe3sLFo4"
      }
    },
    {
      "cell_type": "markdown",
      "source": [
        "We Use MinMaxScaler to do the scalling process"
      ],
      "metadata": {
        "id": "KqTgX5psL5zw"
      }
    },
    {
      "cell_type": "code",
      "source": [
        "scaler = MinMaxScaler()\n",
        "scaler.fit(x_train)\n",
        "x_train = scaler.transform(x_train)\n",
        "x_test = scaler.transform(x_test)"
      ],
      "metadata": {
        "id": "OuT9LiXzUiLy"
      },
      "execution_count": null,
      "outputs": []
    },
    {
      "cell_type": "markdown",
      "metadata": {
        "id": "GRmiY7tzxIo7"
      },
      "source": [
        "#Define Model & Model Training\n",
        "\n",
        "---\n",
        "\n"
      ]
    },
    {
      "cell_type": "code",
      "source": [
        "lr = LinearRegression()\n",
        "lr.fit(x_train, y_train)"
      ],
      "metadata": {
        "id": "JBsj4GPDzt3M",
        "colab": {
          "base_uri": "https://localhost:8080/"
        },
        "outputId": "a649c980-b29b-49c8-9295-bd0f54f8d560"
      },
      "execution_count": null,
      "outputs": [
        {
          "output_type": "execute_result",
          "data": {
            "text/plain": [
              "LinearRegression()"
            ]
          },
          "metadata": {},
          "execution_count": 68
        }
      ]
    },
    {
      "cell_type": "markdown",
      "metadata": {
        "id": "xuy7JEeuxPcu"
      },
      "source": [
        "#Model Evaluation\n",
        "\n",
        "---\n",
        "\n",
        "We use **R2 Score** which is the proportion of the variance in the dependent variable that is predictable from the independent variable and  **RMSE** or Root Mean Square Deviation the standard deviation of the errors which occur when a prediction is made on a dataset in this model evaluation"
      ]
    },
    {
      "cell_type": "code",
      "source": [
        "#predicting r2 score from training data\n",
        "y_pred_linear_train = lr.predict(x_train)\n",
        "r2_score_linear_train = r2_score(y_train, y_pred_linear_train)\n",
        "\n",
        "\n",
        "#predicting r2 score from test data\n",
        "y_pred_linear_test = lr.predict(x_test)\n",
        "r2_score_linear_test = r2_score(y_test, y_pred_linear_test)\n",
        "\n",
        "rmse_linear_test = np.sqrt(mean_squared_error(y_test, y_pred_linear_test))\n",
        "\n",
        "print('R2_score (train): ', r2_score_linear_train)\n",
        "print('R2_score (test): ', r2_score_linear_test)\n",
        "print(\"RMSE: \", rmse_linear_test)"
      ],
      "metadata": {
        "id": "omEYUaCG0LC5",
        "colab": {
          "base_uri": "https://localhost:8080/"
        },
        "outputId": "38241025-a7de-45ae-9abd-feff0ce6e485"
      },
      "execution_count": null,
      "outputs": [
        {
          "output_type": "stream",
          "name": "stdout",
          "text": [
            "R2_score (train):  0.9276274653622328\n",
            "R2_score (test):  0.9275559610883145\n",
            "RMSE:  2.5030119166872526\n"
          ]
        }
      ]
    },
    {
      "cell_type": "markdown",
      "source": [
        "We get **0.93** from the Train data R2 Score, which is pretty good because it is above 0.90 and also the test score is **0.93**."
      ],
      "metadata": {
        "id": "jaIV5xFLNiY4"
      }
    },
    {
      "cell_type": "markdown",
      "metadata": {
        "id": "5-YpFdBcxRZx"
      },
      "source": [
        "#Model Inference\n",
        "\n",
        "---\n",
        "\n",
        "In this model inference, we use new dataset into our model or also referred to as “operationalizing a machine learning model” or “putting a machine learning model into production.” \n",
        "\n",
        "In this process, the new dataset we get from shuffled dataset."
      ]
    },
    {
      "cell_type": "markdown",
      "source": [
        "###Data Loading"
      ],
      "metadata": {
        "id": "mRxHCdQI3MW6"
      }
    },
    {
      "cell_type": "code",
      "source": [
        "df_shuffled = shuffle(df)\n",
        "df_shuffled"
      ],
      "metadata": {
        "id": "KsupDs8SsSP7",
        "colab": {
          "base_uri": "https://localhost:8080/",
          "height": 991
        },
        "outputId": "a900ab0d-a162-4315-dfd7-23ab172fa1d7"
      },
      "execution_count": null,
      "outputs": [
        {
          "output_type": "execute_result",
          "data": {
            "text/html": [
              "\n",
              "  <div id=\"df-6f6e35ea-1826-4182-9c37-eea5632a2fc9\">\n",
              "    <div class=\"colab-df-container\">\n",
              "      <div>\n",
              "<style scoped>\n",
              "    .dataframe tbody tr th:only-of-type {\n",
              "        vertical-align: middle;\n",
              "    }\n",
              "\n",
              "    .dataframe tbody tr th {\n",
              "        vertical-align: top;\n",
              "    }\n",
              "\n",
              "    .dataframe thead th {\n",
              "        text-align: right;\n",
              "    }\n",
              "</style>\n",
              "<table border=\"1\" class=\"dataframe\">\n",
              "  <thead>\n",
              "    <tr style=\"text-align: right;\">\n",
              "      <th></th>\n",
              "      <th>id</th>\n",
              "      <th>timestamp</th>\n",
              "      <th>hour</th>\n",
              "      <th>day</th>\n",
              "      <th>month</th>\n",
              "      <th>datetime</th>\n",
              "      <th>timezone</th>\n",
              "      <th>source</th>\n",
              "      <th>destination</th>\n",
              "      <th>cab_type</th>\n",
              "      <th>product_id</th>\n",
              "      <th>name</th>\n",
              "      <th>price</th>\n",
              "      <th>distance</th>\n",
              "      <th>surge_multiplier</th>\n",
              "      <th>latitude</th>\n",
              "      <th>longitude</th>\n",
              "      <th>temperature</th>\n",
              "      <th>apparentTemperature</th>\n",
              "      <th>short_summary</th>\n",
              "      <th>long_summary</th>\n",
              "      <th>precipIntensity</th>\n",
              "      <th>precipProbability</th>\n",
              "      <th>humidity</th>\n",
              "      <th>windSpeed</th>\n",
              "      <th>windGust</th>\n",
              "      <th>windGustTime</th>\n",
              "      <th>visibility</th>\n",
              "      <th>temperatureHigh</th>\n",
              "      <th>temperatureHighTime</th>\n",
              "      <th>temperatureLow</th>\n",
              "      <th>temperatureLowTime</th>\n",
              "      <th>apparentTemperatureHigh</th>\n",
              "      <th>apparentTemperatureHighTime</th>\n",
              "      <th>apparentTemperatureLow</th>\n",
              "      <th>apparentTemperatureLowTime</th>\n",
              "      <th>icon</th>\n",
              "      <th>dewPoint</th>\n",
              "      <th>pressure</th>\n",
              "      <th>windBearing</th>\n",
              "      <th>cloudCover</th>\n",
              "      <th>uvIndex</th>\n",
              "      <th>visibility.1</th>\n",
              "      <th>ozone</th>\n",
              "      <th>sunriseTime</th>\n",
              "      <th>sunsetTime</th>\n",
              "      <th>moonPhase</th>\n",
              "      <th>precipIntensityMax</th>\n",
              "      <th>uvIndexTime</th>\n",
              "      <th>temperatureMin</th>\n",
              "      <th>temperatureMinTime</th>\n",
              "      <th>temperatureMax</th>\n",
              "      <th>temperatureMaxTime</th>\n",
              "      <th>apparentTemperatureMin</th>\n",
              "      <th>apparentTemperatureMinTime</th>\n",
              "      <th>apparentTemperatureMax</th>\n",
              "      <th>apparentTemperatureMaxTime</th>\n",
              "    </tr>\n",
              "  </thead>\n",
              "  <tbody>\n",
              "    <tr>\n",
              "      <th>31980</th>\n",
              "      <td>953109f5-515e-47be-91f1-40fc62709a73</td>\n",
              "      <td>1.543714e+09</td>\n",
              "      <td>1</td>\n",
              "      <td>2</td>\n",
              "      <td>12</td>\n",
              "      <td>2018-12-02 01:23:01</td>\n",
              "      <td>America/New_York</td>\n",
              "      <td>Financial District</td>\n",
              "      <td>North End</td>\n",
              "      <td>Uber</td>\n",
              "      <td>55c66225-fbe7-4fd5-9072-eab1ece5e23e</td>\n",
              "      <td>UberX</td>\n",
              "      <td>7.0</td>\n",
              "      <td>1.21</td>\n",
              "      <td>1.0</td>\n",
              "      <td>42.3503</td>\n",
              "      <td>-71.0810</td>\n",
              "      <td>35.52</td>\n",
              "      <td>35.52</td>\n",
              "      <td>Clear</td>\n",
              "      <td>Light rain in the morning and overnight.</td>\n",
              "      <td>0.0000</td>\n",
              "      <td>0.00</td>\n",
              "      <td>0.82</td>\n",
              "      <td>1.85</td>\n",
              "      <td>2.37</td>\n",
              "      <td>1543672800</td>\n",
              "      <td>9.846</td>\n",
              "      <td>44.65</td>\n",
              "      <td>1543690800</td>\n",
              "      <td>34.88</td>\n",
              "      <td>1543712400</td>\n",
              "      <td>43.98</td>\n",
              "      <td>1543690800</td>\n",
              "      <td>35.53</td>\n",
              "      <td>1543712400</td>\n",
              "      <td>clear-night</td>\n",
              "      <td>30.46</td>\n",
              "      <td>1023.52</td>\n",
              "      <td>146</td>\n",
              "      <td>0.12</td>\n",
              "      <td>0</td>\n",
              "      <td>9.846</td>\n",
              "      <td>274.6</td>\n",
              "      <td>1543665335</td>\n",
              "      <td>1543698860</td>\n",
              "      <td>0.82</td>\n",
              "      <td>0.0000</td>\n",
              "      <td>1543683600</td>\n",
              "      <td>31.57</td>\n",
              "      <td>1543665600</td>\n",
              "      <td>44.65</td>\n",
              "      <td>1543690800</td>\n",
              "      <td>28.10</td>\n",
              "      <td>1543658400</td>\n",
              "      <td>43.98</td>\n",
              "      <td>1543690800</td>\n",
              "    </tr>\n",
              "    <tr>\n",
              "      <th>240090</th>\n",
              "      <td>8dd62023-bd6b-4755-8f37-9f2c67c1017a</td>\n",
              "      <td>1.544398e+09</td>\n",
              "      <td>23</td>\n",
              "      <td>9</td>\n",
              "      <td>12</td>\n",
              "      <td>2018-12-09 23:33:30</td>\n",
              "      <td>America/New_York</td>\n",
              "      <td>Boston University</td>\n",
              "      <td>Theatre District</td>\n",
              "      <td>Lyft</td>\n",
              "      <td>lyft</td>\n",
              "      <td>Lyft</td>\n",
              "      <td>10.5</td>\n",
              "      <td>2.99</td>\n",
              "      <td>1.0</td>\n",
              "      <td>42.3503</td>\n",
              "      <td>-71.0810</td>\n",
              "      <td>30.26</td>\n",
              "      <td>24.67</td>\n",
              "      <td>Clear</td>\n",
              "      <td>Partly cloudy throughout the day.</td>\n",
              "      <td>0.0000</td>\n",
              "      <td>0.00</td>\n",
              "      <td>0.58</td>\n",
              "      <td>5.40</td>\n",
              "      <td>6.25</td>\n",
              "      <td>1544371200</td>\n",
              "      <td>9.972</td>\n",
              "      <td>35.97</td>\n",
              "      <td>1544378400</td>\n",
              "      <td>21.91</td>\n",
              "      <td>1544443200</td>\n",
              "      <td>29.83</td>\n",
              "      <td>1544378400</td>\n",
              "      <td>19.40</td>\n",
              "      <td>1544439600</td>\n",
              "      <td>clear-night</td>\n",
              "      <td>17.19</td>\n",
              "      <td>1022.19</td>\n",
              "      <td>219</td>\n",
              "      <td>0.00</td>\n",
              "      <td>0</td>\n",
              "      <td>9.972</td>\n",
              "      <td>304.1</td>\n",
              "      <td>1544357000</td>\n",
              "      <td>1544389987</td>\n",
              "      <td>0.09</td>\n",
              "      <td>0.0003</td>\n",
              "      <td>1544374800</td>\n",
              "      <td>15.95</td>\n",
              "      <td>1544353200</td>\n",
              "      <td>35.97</td>\n",
              "      <td>1544378400</td>\n",
              "      <td>14.08</td>\n",
              "      <td>1544356800</td>\n",
              "      <td>29.83</td>\n",
              "      <td>1544378400</td>\n",
              "    </tr>\n",
              "    <tr>\n",
              "      <th>284465</th>\n",
              "      <td>c47ad51f-79a5-4de4-97ee-0b4531950ebc</td>\n",
              "      <td>1.543252e+09</td>\n",
              "      <td>17</td>\n",
              "      <td>26</td>\n",
              "      <td>11</td>\n",
              "      <td>2018-11-26 17:02:10</td>\n",
              "      <td>America/New_York</td>\n",
              "      <td>South Station</td>\n",
              "      <td>Back Bay</td>\n",
              "      <td>Lyft</td>\n",
              "      <td>lyft_plus</td>\n",
              "      <td>Lyft XL</td>\n",
              "      <td>19.5</td>\n",
              "      <td>3.23</td>\n",
              "      <td>1.0</td>\n",
              "      <td>42.3661</td>\n",
              "      <td>-71.0631</td>\n",
              "      <td>45.83</td>\n",
              "      <td>43.88</td>\n",
              "      <td>Overcast</td>\n",
              "      <td>Rain until morning, starting again in the eve...</td>\n",
              "      <td>0.0010</td>\n",
              "      <td>0.12</td>\n",
              "      <td>0.88</td>\n",
              "      <td>4.22</td>\n",
              "      <td>5.17</td>\n",
              "      <td>1543287600</td>\n",
              "      <td>8.104</td>\n",
              "      <td>46.49</td>\n",
              "      <td>1543255200</td>\n",
              "      <td>41.90</td>\n",
              "      <td>1543298400</td>\n",
              "      <td>43.84</td>\n",
              "      <td>1543244400</td>\n",
              "      <td>36.70</td>\n",
              "      <td>1543298400</td>\n",
              "      <td>cloudy</td>\n",
              "      <td>42.51</td>\n",
              "      <td>1012.59</td>\n",
              "      <td>114</td>\n",
              "      <td>1.00</td>\n",
              "      <td>1</td>\n",
              "      <td>8.104</td>\n",
              "      <td>294.0</td>\n",
              "      <td>1543233003</td>\n",
              "      <td>1543266973</td>\n",
              "      <td>0.64</td>\n",
              "      <td>0.1225</td>\n",
              "      <td>1543251600</td>\n",
              "      <td>40.45</td>\n",
              "      <td>1543233600</td>\n",
              "      <td>46.49</td>\n",
              "      <td>1543255200</td>\n",
              "      <td>37.17</td>\n",
              "      <td>1543291200</td>\n",
              "      <td>43.84</td>\n",
              "      <td>1543244400</td>\n",
              "    </tr>\n",
              "    <tr>\n",
              "      <th>214693</th>\n",
              "      <td>2b2aca66-5ee0-45ee-9ce8-fef945fdfaad</td>\n",
              "      <td>1.545153e+09</td>\n",
              "      <td>17</td>\n",
              "      <td>18</td>\n",
              "      <td>12</td>\n",
              "      <td>2018-12-18 17:15:08</td>\n",
              "      <td>America/New_York</td>\n",
              "      <td>North Station</td>\n",
              "      <td>Northeastern University</td>\n",
              "      <td>Uber</td>\n",
              "      <td>997acbb5-e102-41e1-b155-9df7de0a73f2</td>\n",
              "      <td>UberPool</td>\n",
              "      <td>12.0</td>\n",
              "      <td>3.37</td>\n",
              "      <td>1.0</td>\n",
              "      <td>42.3429</td>\n",
              "      <td>-71.1003</td>\n",
              "      <td>30.78</td>\n",
              "      <td>20.93</td>\n",
              "      <td>Clear</td>\n",
              "      <td>Mostly cloudy throughout the day.</td>\n",
              "      <td>0.0000</td>\n",
              "      <td>0.00</td>\n",
              "      <td>0.40</td>\n",
              "      <td>12.73</td>\n",
              "      <td>22.33</td>\n",
              "      <td>1545127200</td>\n",
              "      <td>10.000</td>\n",
              "      <td>32.84</td>\n",
              "      <td>1545159600</td>\n",
              "      <td>20.72</td>\n",
              "      <td>1545220800</td>\n",
              "      <td>22.96</td>\n",
              "      <td>1545159600</td>\n",
              "      <td>14.48</td>\n",
              "      <td>1545195600</td>\n",
              "      <td>clear-day</td>\n",
              "      <td>9.15</td>\n",
              "      <td>1010.60</td>\n",
              "      <td>322</td>\n",
              "      <td>0.00</td>\n",
              "      <td>1</td>\n",
              "      <td>10.000</td>\n",
              "      <td>377.1</td>\n",
              "      <td>1545135001</td>\n",
              "      <td>1545167693</td>\n",
              "      <td>0.37</td>\n",
              "      <td>0.0056</td>\n",
              "      <td>1545152400</td>\n",
              "      <td>22.98</td>\n",
              "      <td>1545192000</td>\n",
              "      <td>37.95</td>\n",
              "      <td>1545109200</td>\n",
              "      <td>12.13</td>\n",
              "      <td>1545134400</td>\n",
              "      <td>32.03</td>\n",
              "      <td>1545109200</td>\n",
              "    </tr>\n",
              "    <tr>\n",
              "      <th>524889</th>\n",
              "      <td>53857525-f1c4-4288-b1b8-811468395ca7</td>\n",
              "      <td>1.543708e+09</td>\n",
              "      <td>23</td>\n",
              "      <td>1</td>\n",
              "      <td>12</td>\n",
              "      <td>2018-12-01 23:42:58</td>\n",
              "      <td>America/New_York</td>\n",
              "      <td>Beacon Hill</td>\n",
              "      <td>Fenway</td>\n",
              "      <td>Lyft</td>\n",
              "      <td>lyft_premier</td>\n",
              "      <td>Lux</td>\n",
              "      <td>16.5</td>\n",
              "      <td>2.32</td>\n",
              "      <td>1.0</td>\n",
              "      <td>42.3519</td>\n",
              "      <td>-71.0643</td>\n",
              "      <td>37.05</td>\n",
              "      <td>37.05</td>\n",
              "      <td>Partly Cloudy</td>\n",
              "      <td>Light rain in the morning and overnight.</td>\n",
              "      <td>0.0000</td>\n",
              "      <td>0.00</td>\n",
              "      <td>0.74</td>\n",
              "      <td>2.34</td>\n",
              "      <td>2.87</td>\n",
              "      <td>1543672800</td>\n",
              "      <td>9.785</td>\n",
              "      <td>44.76</td>\n",
              "      <td>1543690800</td>\n",
              "      <td>34.83</td>\n",
              "      <td>1543712400</td>\n",
              "      <td>44.09</td>\n",
              "      <td>1543690800</td>\n",
              "      <td>35.48</td>\n",
              "      <td>1543712400</td>\n",
              "      <td>partly-cloudy-night</td>\n",
              "      <td>29.65</td>\n",
              "      <td>1023.57</td>\n",
              "      <td>133</td>\n",
              "      <td>0.31</td>\n",
              "      <td>0</td>\n",
              "      <td>9.785</td>\n",
              "      <td>271.5</td>\n",
              "      <td>1543665331</td>\n",
              "      <td>1543698855</td>\n",
              "      <td>0.82</td>\n",
              "      <td>0.0000</td>\n",
              "      <td>1543683600</td>\n",
              "      <td>31.42</td>\n",
              "      <td>1543658400</td>\n",
              "      <td>44.76</td>\n",
              "      <td>1543690800</td>\n",
              "      <td>27.77</td>\n",
              "      <td>1543658400</td>\n",
              "      <td>44.09</td>\n",
              "      <td>1543690800</td>\n",
              "    </tr>\n",
              "    <tr>\n",
              "      <th>...</th>\n",
              "      <td>...</td>\n",
              "      <td>...</td>\n",
              "      <td>...</td>\n",
              "      <td>...</td>\n",
              "      <td>...</td>\n",
              "      <td>...</td>\n",
              "      <td>...</td>\n",
              "      <td>...</td>\n",
              "      <td>...</td>\n",
              "      <td>...</td>\n",
              "      <td>...</td>\n",
              "      <td>...</td>\n",
              "      <td>...</td>\n",
              "      <td>...</td>\n",
              "      <td>...</td>\n",
              "      <td>...</td>\n",
              "      <td>...</td>\n",
              "      <td>...</td>\n",
              "      <td>...</td>\n",
              "      <td>...</td>\n",
              "      <td>...</td>\n",
              "      <td>...</td>\n",
              "      <td>...</td>\n",
              "      <td>...</td>\n",
              "      <td>...</td>\n",
              "      <td>...</td>\n",
              "      <td>...</td>\n",
              "      <td>...</td>\n",
              "      <td>...</td>\n",
              "      <td>...</td>\n",
              "      <td>...</td>\n",
              "      <td>...</td>\n",
              "      <td>...</td>\n",
              "      <td>...</td>\n",
              "      <td>...</td>\n",
              "      <td>...</td>\n",
              "      <td>...</td>\n",
              "      <td>...</td>\n",
              "      <td>...</td>\n",
              "      <td>...</td>\n",
              "      <td>...</td>\n",
              "      <td>...</td>\n",
              "      <td>...</td>\n",
              "      <td>...</td>\n",
              "      <td>...</td>\n",
              "      <td>...</td>\n",
              "      <td>...</td>\n",
              "      <td>...</td>\n",
              "      <td>...</td>\n",
              "      <td>...</td>\n",
              "      <td>...</td>\n",
              "      <td>...</td>\n",
              "      <td>...</td>\n",
              "      <td>...</td>\n",
              "      <td>...</td>\n",
              "      <td>...</td>\n",
              "      <td>...</td>\n",
              "    </tr>\n",
              "    <tr>\n",
              "      <th>305934</th>\n",
              "      <td>a996e483-4ee1-48e0-b9c4-ccda209afbc2</td>\n",
              "      <td>1.543759e+09</td>\n",
              "      <td>13</td>\n",
              "      <td>2</td>\n",
              "      <td>12</td>\n",
              "      <td>2018-12-02 13:52:57</td>\n",
              "      <td>America/New_York</td>\n",
              "      <td>Haymarket Square</td>\n",
              "      <td>Theatre District</td>\n",
              "      <td>Uber</td>\n",
              "      <td>6c84fd89-3f11-4782-9b50-97c468b19529</td>\n",
              "      <td>Black</td>\n",
              "      <td>16.0</td>\n",
              "      <td>1.16</td>\n",
              "      <td>1.0</td>\n",
              "      <td>42.2148</td>\n",
              "      <td>-71.0330</td>\n",
              "      <td>43.57</td>\n",
              "      <td>39.80</td>\n",
              "      <td>Light Rain</td>\n",
              "      <td>Rain throughout the day.</td>\n",
              "      <td>0.0801</td>\n",
              "      <td>1.00</td>\n",
              "      <td>0.92</td>\n",
              "      <td>6.34</td>\n",
              "      <td>7.01</td>\n",
              "      <td>1543755600</td>\n",
              "      <td>2.636</td>\n",
              "      <td>52.86</td>\n",
              "      <td>1543788000</td>\n",
              "      <td>46.60</td>\n",
              "      <td>1543824000</td>\n",
              "      <td>52.19</td>\n",
              "      <td>1543788000</td>\n",
              "      <td>47.25</td>\n",
              "      <td>1543824000</td>\n",
              "      <td>rain</td>\n",
              "      <td>41.38</td>\n",
              "      <td>1015.39</td>\n",
              "      <td>111</td>\n",
              "      <td>1.00</td>\n",
              "      <td>1</td>\n",
              "      <td>2.636</td>\n",
              "      <td>274.6</td>\n",
              "      <td>1543751761</td>\n",
              "      <td>1543785256</td>\n",
              "      <td>0.86</td>\n",
              "      <td>0.1055</td>\n",
              "      <td>1543770000</td>\n",
              "      <td>36.35</td>\n",
              "      <td>1543726800</td>\n",
              "      <td>52.86</td>\n",
              "      <td>1543788000</td>\n",
              "      <td>35.33</td>\n",
              "      <td>1543744800</td>\n",
              "      <td>52.19</td>\n",
              "      <td>1543788000</td>\n",
              "    </tr>\n",
              "    <tr>\n",
              "      <th>133353</th>\n",
              "      <td>bf9519ca-3b4a-4b44-bfe7-8f2fc280fec3</td>\n",
              "      <td>1.544861e+09</td>\n",
              "      <td>8</td>\n",
              "      <td>15</td>\n",
              "      <td>12</td>\n",
              "      <td>2018-12-15 08:05:03</td>\n",
              "      <td>America/New_York</td>\n",
              "      <td>Fenway</td>\n",
              "      <td>Theatre District</td>\n",
              "      <td>Uber</td>\n",
              "      <td>9a0e7b09-b92b-4c41-9779-2ad22b4d779d</td>\n",
              "      <td>WAV</td>\n",
              "      <td>10.5</td>\n",
              "      <td>2.66</td>\n",
              "      <td>1.0</td>\n",
              "      <td>42.3519</td>\n",
              "      <td>-71.0643</td>\n",
              "      <td>46.81</td>\n",
              "      <td>44.67</td>\n",
              "      <td>Overcast</td>\n",
              "      <td>Mostly cloudy throughout the day.</td>\n",
              "      <td>0.0000</td>\n",
              "      <td>0.00</td>\n",
              "      <td>0.89</td>\n",
              "      <td>4.71</td>\n",
              "      <td>7.85</td>\n",
              "      <td>1544918400</td>\n",
              "      <td>10.000</td>\n",
              "      <td>54.44</td>\n",
              "      <td>1544896800</td>\n",
              "      <td>39.07</td>\n",
              "      <td>1544954400</td>\n",
              "      <td>53.77</td>\n",
              "      <td>1544896800</td>\n",
              "      <td>35.05</td>\n",
              "      <td>1544950800</td>\n",
              "      <td>cloudy</td>\n",
              "      <td>43.87</td>\n",
              "      <td>1021.94</td>\n",
              "      <td>230</td>\n",
              "      <td>0.89</td>\n",
              "      <td>0</td>\n",
              "      <td>10.000</td>\n",
              "      <td>296.8</td>\n",
              "      <td>1544875678</td>\n",
              "      <td>1544908428</td>\n",
              "      <td>0.27</td>\n",
              "      <td>0.0080</td>\n",
              "      <td>1544893200</td>\n",
              "      <td>39.57</td>\n",
              "      <td>1544929200</td>\n",
              "      <td>54.44</td>\n",
              "      <td>1544896800</td>\n",
              "      <td>36.39</td>\n",
              "      <td>1544929200</td>\n",
              "      <td>53.77</td>\n",
              "      <td>1544896800</td>\n",
              "    </tr>\n",
              "    <tr>\n",
              "      <th>429819</th>\n",
              "      <td>76ebc211-26e4-48d3-b960-7695dc94a274</td>\n",
              "      <td>1.543514e+09</td>\n",
              "      <td>17</td>\n",
              "      <td>29</td>\n",
              "      <td>11</td>\n",
              "      <td>2018-11-29 17:47:56</td>\n",
              "      <td>America/New_York</td>\n",
              "      <td>Back Bay</td>\n",
              "      <td>North End</td>\n",
              "      <td>Lyft</td>\n",
              "      <td>lyft_lux</td>\n",
              "      <td>Lux Black</td>\n",
              "      <td>26.0</td>\n",
              "      <td>2.42</td>\n",
              "      <td>1.0</td>\n",
              "      <td>42.3429</td>\n",
              "      <td>-71.1003</td>\n",
              "      <td>43.91</td>\n",
              "      <td>38.03</td>\n",
              "      <td>Partly Cloudy</td>\n",
              "      <td>Partly cloudy throughout the day.</td>\n",
              "      <td>0.0000</td>\n",
              "      <td>0.00</td>\n",
              "      <td>0.50</td>\n",
              "      <td>11.24</td>\n",
              "      <td>22.48</td>\n",
              "      <td>1543514400</td>\n",
              "      <td>9.973</td>\n",
              "      <td>45.03</td>\n",
              "      <td>1543510800</td>\n",
              "      <td>28.42</td>\n",
              "      <td>1543579200</td>\n",
              "      <td>38.93</td>\n",
              "      <td>1543510800</td>\n",
              "      <td>29.07</td>\n",
              "      <td>1543579200</td>\n",
              "      <td>partly-cloudy-day</td>\n",
              "      <td>26.27</td>\n",
              "      <td>1006.58</td>\n",
              "      <td>312</td>\n",
              "      <td>0.31</td>\n",
              "      <td>1</td>\n",
              "      <td>9.973</td>\n",
              "      <td>314.0</td>\n",
              "      <td>1543492409</td>\n",
              "      <td>1543526107</td>\n",
              "      <td>0.75</td>\n",
              "      <td>0.0000</td>\n",
              "      <td>1543510800</td>\n",
              "      <td>34.83</td>\n",
              "      <td>1543550400</td>\n",
              "      <td>45.03</td>\n",
              "      <td>1543510800</td>\n",
              "      <td>30.90</td>\n",
              "      <td>1543550400</td>\n",
              "      <td>38.93</td>\n",
              "      <td>1543510800</td>\n",
              "    </tr>\n",
              "    <tr>\n",
              "      <th>183848</th>\n",
              "      <td>d7ecf2ac-509f-4aef-9c63-dd5cd59f14c6</td>\n",
              "      <td>1.543619e+09</td>\n",
              "      <td>23</td>\n",
              "      <td>30</td>\n",
              "      <td>11</td>\n",
              "      <td>2018-11-30 23:03:10</td>\n",
              "      <td>America/New_York</td>\n",
              "      <td>North Station</td>\n",
              "      <td>Northeastern University</td>\n",
              "      <td>Uber</td>\n",
              "      <td>6f72dfc5-27f1-42e8-84db-ccc7a75f6969</td>\n",
              "      <td>UberXL</td>\n",
              "      <td>18.0</td>\n",
              "      <td>3.42</td>\n",
              "      <td>1.0</td>\n",
              "      <td>42.2148</td>\n",
              "      <td>-71.0330</td>\n",
              "      <td>38.62</td>\n",
              "      <td>35.98</td>\n",
              "      <td>Overcast</td>\n",
              "      <td>Overcast throughout the day.</td>\n",
              "      <td>0.0000</td>\n",
              "      <td>0.00</td>\n",
              "      <td>0.66</td>\n",
              "      <td>3.75</td>\n",
              "      <td>3.75</td>\n",
              "      <td>1543557600</td>\n",
              "      <td>10.000</td>\n",
              "      <td>42.13</td>\n",
              "      <td>1543600800</td>\n",
              "      <td>30.17</td>\n",
              "      <td>1543662000</td>\n",
              "      <td>40.95</td>\n",
              "      <td>1543608000</td>\n",
              "      <td>25.87</td>\n",
              "      <td>1543662000</td>\n",
              "      <td>cloudy</td>\n",
              "      <td>28.26</td>\n",
              "      <td>1017.33</td>\n",
              "      <td>282</td>\n",
              "      <td>1.00</td>\n",
              "      <td>0</td>\n",
              "      <td>10.000</td>\n",
              "      <td>285.6</td>\n",
              "      <td>1543578835</td>\n",
              "      <td>1543612492</td>\n",
              "      <td>0.79</td>\n",
              "      <td>0.0000</td>\n",
              "      <td>1543593600</td>\n",
              "      <td>28.90</td>\n",
              "      <td>1543579200</td>\n",
              "      <td>42.13</td>\n",
              "      <td>1543600800</td>\n",
              "      <td>26.20</td>\n",
              "      <td>1543575600</td>\n",
              "      <td>40.95</td>\n",
              "      <td>1543608000</td>\n",
              "    </tr>\n",
              "    <tr>\n",
              "      <th>46886</th>\n",
              "      <td>fa1d4cda-8a6d-4d8d-b2d3-b92665b5d981</td>\n",
              "      <td>1.543568e+09</td>\n",
              "      <td>8</td>\n",
              "      <td>30</td>\n",
              "      <td>11</td>\n",
              "      <td>2018-11-30 08:48:02</td>\n",
              "      <td>America/New_York</td>\n",
              "      <td>Theatre District</td>\n",
              "      <td>Boston University</td>\n",
              "      <td>Uber</td>\n",
              "      <td>997acbb5-e102-41e1-b155-9df7de0a73f2</td>\n",
              "      <td>UberPool</td>\n",
              "      <td>8.5</td>\n",
              "      <td>2.67</td>\n",
              "      <td>1.0</td>\n",
              "      <td>42.3519</td>\n",
              "      <td>-71.0551</td>\n",
              "      <td>30.09</td>\n",
              "      <td>30.09</td>\n",
              "      <td>Clear</td>\n",
              "      <td>Mostly cloudy throughout the day.</td>\n",
              "      <td>0.0000</td>\n",
              "      <td>0.00</td>\n",
              "      <td>0.85</td>\n",
              "      <td>2.25</td>\n",
              "      <td>2.25</td>\n",
              "      <td>1543554000</td>\n",
              "      <td>9.864</td>\n",
              "      <td>42.68</td>\n",
              "      <td>1543600800</td>\n",
              "      <td>31.50</td>\n",
              "      <td>1543658400</td>\n",
              "      <td>40.69</td>\n",
              "      <td>1543611600</td>\n",
              "      <td>27.80</td>\n",
              "      <td>1543658400</td>\n",
              "      <td>clear-night</td>\n",
              "      <td>26.24</td>\n",
              "      <td>1014.80</td>\n",
              "      <td>307</td>\n",
              "      <td>0.00</td>\n",
              "      <td>0</td>\n",
              "      <td>9.864</td>\n",
              "      <td>285.2</td>\n",
              "      <td>1543578865</td>\n",
              "      <td>1543612473</td>\n",
              "      <td>0.79</td>\n",
              "      <td>0.0004</td>\n",
              "      <td>1543593600</td>\n",
              "      <td>28.78</td>\n",
              "      <td>1543579200</td>\n",
              "      <td>42.68</td>\n",
              "      <td>1543600800</td>\n",
              "      <td>26.32</td>\n",
              "      <td>1543575600</td>\n",
              "      <td>40.69</td>\n",
              "      <td>1543611600</td>\n",
              "    </tr>\n",
              "  </tbody>\n",
              "</table>\n",
              "<p>637976 rows × 57 columns</p>\n",
              "</div>\n",
              "      <button class=\"colab-df-convert\" onclick=\"convertToInteractive('df-6f6e35ea-1826-4182-9c37-eea5632a2fc9')\"\n",
              "              title=\"Convert this dataframe to an interactive table.\"\n",
              "              style=\"display:none;\">\n",
              "        \n",
              "  <svg xmlns=\"http://www.w3.org/2000/svg\" height=\"24px\"viewBox=\"0 0 24 24\"\n",
              "       width=\"24px\">\n",
              "    <path d=\"M0 0h24v24H0V0z\" fill=\"none\"/>\n",
              "    <path d=\"M18.56 5.44l.94 2.06.94-2.06 2.06-.94-2.06-.94-.94-2.06-.94 2.06-2.06.94zm-11 1L8.5 8.5l.94-2.06 2.06-.94-2.06-.94L8.5 2.5l-.94 2.06-2.06.94zm10 10l.94 2.06.94-2.06 2.06-.94-2.06-.94-.94-2.06-.94 2.06-2.06.94z\"/><path d=\"M17.41 7.96l-1.37-1.37c-.4-.4-.92-.59-1.43-.59-.52 0-1.04.2-1.43.59L10.3 9.45l-7.72 7.72c-.78.78-.78 2.05 0 2.83L4 21.41c.39.39.9.59 1.41.59.51 0 1.02-.2 1.41-.59l7.78-7.78 2.81-2.81c.8-.78.8-2.07 0-2.86zM5.41 20L4 18.59l7.72-7.72 1.47 1.35L5.41 20z\"/>\n",
              "  </svg>\n",
              "      </button>\n",
              "      \n",
              "  <style>\n",
              "    .colab-df-container {\n",
              "      display:flex;\n",
              "      flex-wrap:wrap;\n",
              "      gap: 12px;\n",
              "    }\n",
              "\n",
              "    .colab-df-convert {\n",
              "      background-color: #E8F0FE;\n",
              "      border: none;\n",
              "      border-radius: 50%;\n",
              "      cursor: pointer;\n",
              "      display: none;\n",
              "      fill: #1967D2;\n",
              "      height: 32px;\n",
              "      padding: 0 0 0 0;\n",
              "      width: 32px;\n",
              "    }\n",
              "\n",
              "    .colab-df-convert:hover {\n",
              "      background-color: #E2EBFA;\n",
              "      box-shadow: 0px 1px 2px rgba(60, 64, 67, 0.3), 0px 1px 3px 1px rgba(60, 64, 67, 0.15);\n",
              "      fill: #174EA6;\n",
              "    }\n",
              "\n",
              "    [theme=dark] .colab-df-convert {\n",
              "      background-color: #3B4455;\n",
              "      fill: #D2E3FC;\n",
              "    }\n",
              "\n",
              "    [theme=dark] .colab-df-convert:hover {\n",
              "      background-color: #434B5C;\n",
              "      box-shadow: 0px 1px 3px 1px rgba(0, 0, 0, 0.15);\n",
              "      filter: drop-shadow(0px 1px 2px rgba(0, 0, 0, 0.3));\n",
              "      fill: #FFFFFF;\n",
              "    }\n",
              "  </style>\n",
              "\n",
              "      <script>\n",
              "        const buttonEl =\n",
              "          document.querySelector('#df-6f6e35ea-1826-4182-9c37-eea5632a2fc9 button.colab-df-convert');\n",
              "        buttonEl.style.display =\n",
              "          google.colab.kernel.accessAllowed ? 'block' : 'none';\n",
              "\n",
              "        async function convertToInteractive(key) {\n",
              "          const element = document.querySelector('#df-6f6e35ea-1826-4182-9c37-eea5632a2fc9');\n",
              "          const dataTable =\n",
              "            await google.colab.kernel.invokeFunction('convertToInteractive',\n",
              "                                                     [key], {});\n",
              "          if (!dataTable) return;\n",
              "\n",
              "          const docLinkHtml = 'Like what you see? Visit the ' +\n",
              "            '<a target=\"_blank\" href=https://colab.research.google.com/notebooks/data_table.ipynb>data table notebook</a>'\n",
              "            + ' to learn more about interactive tables.';\n",
              "          element.innerHTML = '';\n",
              "          dataTable['output_type'] = 'display_data';\n",
              "          await google.colab.output.renderOutput(dataTable, element);\n",
              "          const docLink = document.createElement('div');\n",
              "          docLink.innerHTML = docLinkHtml;\n",
              "          element.appendChild(docLink);\n",
              "        }\n",
              "      </script>\n",
              "    </div>\n",
              "  </div>\n",
              "  "
            ],
            "text/plain": [
              "                                          id  ...  apparentTemperatureMaxTime\n",
              "31980   953109f5-515e-47be-91f1-40fc62709a73  ...                  1543690800\n",
              "240090  8dd62023-bd6b-4755-8f37-9f2c67c1017a  ...                  1544378400\n",
              "284465  c47ad51f-79a5-4de4-97ee-0b4531950ebc  ...                  1543244400\n",
              "214693  2b2aca66-5ee0-45ee-9ce8-fef945fdfaad  ...                  1545109200\n",
              "524889  53857525-f1c4-4288-b1b8-811468395ca7  ...                  1543690800\n",
              "...                                      ...  ...                         ...\n",
              "305934  a996e483-4ee1-48e0-b9c4-ccda209afbc2  ...                  1543788000\n",
              "133353  bf9519ca-3b4a-4b44-bfe7-8f2fc280fec3  ...                  1544896800\n",
              "429819  76ebc211-26e4-48d3-b960-7695dc94a274  ...                  1543510800\n",
              "183848  d7ecf2ac-509f-4aef-9c63-dd5cd59f14c6  ...                  1543608000\n",
              "46886   fa1d4cda-8a6d-4d8d-b2d3-b92665b5d981  ...                  1543611600\n",
              "\n",
              "[637976 rows x 57 columns]"
            ]
          },
          "metadata": {},
          "execution_count": 70
        }
      ]
    },
    {
      "cell_type": "markdown",
      "source": [
        "###Future Selection"
      ],
      "metadata": {
        "id": "vABpG5n93Oec"
      }
    },
    {
      "cell_type": "code",
      "source": [
        "x_inf = df.loc[:, ['hour','day','month','cab_type','name','distance','surge_multiplier','temperature', 'humidity']]\n",
        "y_inf = df['price'].values"
      ],
      "metadata": {
        "id": "uS8SpMML3CQE"
      },
      "execution_count": null,
      "outputs": []
    },
    {
      "cell_type": "code",
      "source": [
        "y_inf = y_inf.reshape(1, -1)\n",
        "y_inf = y_inf.T"
      ],
      "metadata": {
        "id": "QOthF61D6OXf"
      },
      "execution_count": null,
      "outputs": []
    },
    {
      "cell_type": "code",
      "source": [
        "y_inf.shape"
      ],
      "metadata": {
        "id": "2lue8pS-68I_",
        "colab": {
          "base_uri": "https://localhost:8080/"
        },
        "outputId": "f42c902f-19a4-4b3d-931c-e3531edc8e9e"
      },
      "execution_count": null,
      "outputs": [
        {
          "output_type": "execute_result",
          "data": {
            "text/plain": [
              "(637976, 1)"
            ]
          },
          "metadata": {},
          "execution_count": 73
        }
      ]
    },
    {
      "cell_type": "code",
      "source": [
        "x_inf.shape"
      ],
      "metadata": {
        "id": "S81lzDpC69Jr",
        "colab": {
          "base_uri": "https://localhost:8080/"
        },
        "outputId": "189e4213-6ac6-4c4a-caeb-a1e3ba641742"
      },
      "execution_count": null,
      "outputs": [
        {
          "output_type": "execute_result",
          "data": {
            "text/plain": [
              "(637976, 9)"
            ]
          },
          "metadata": {},
          "execution_count": 74
        }
      ]
    },
    {
      "cell_type": "markdown",
      "source": [
        "###Handling Outliers"
      ],
      "metadata": {
        "id": "HqjVbU654X9a"
      }
    },
    {
      "cell_type": "code",
      "source": [
        "num_inf = x_inf._get_numeric_data()\n",
        "for k, v in num_inf.items():\n",
        "  q1 = v.quantile(0.25)\n",
        "  q3 = v.quantile(0.75)\n",
        "  iqr = q3 - q1\n",
        "  v_col = v[(v <= q1 - 1.5 * iqr) | (v >= q3 + 1.5 * iqr)]\n",
        "  perc = np.shape(v_col)[0] * 100.0 / np.shape(num_inf)[0]\n",
        "  print(\"Column %s outliers = %.2f%%\" % (k, perc))"
      ],
      "metadata": {
        "id": "oTOZ2oXU4Z7e",
        "colab": {
          "base_uri": "https://localhost:8080/"
        },
        "outputId": "150249ee-c5cb-4175-8ad5-a64a5fa42416"
      },
      "execution_count": null,
      "outputs": [
        {
          "output_type": "stream",
          "name": "stdout",
          "text": [
            "Column hour outliers = 0.00%\n",
            "Column day outliers = 0.00%\n",
            "Column month outliers = 0.00%\n",
            "Column distance outliers = 1.09%\n",
            "Column surge_multiplier outliers = 100.00%\n",
            "Column temperature outliers = 5.29%\n",
            "Column humidity outliers = 0.00%\n"
          ]
        }
      ]
    },
    {
      "cell_type": "code",
      "source": [
        "diagnostic_plots(x_inf, 'distance')\n",
        "print('\\nSkewness Value : ', x_inf['distance'].skew())"
      ],
      "metadata": {
        "id": "IwWZ4x2y5PAe",
        "colab": {
          "base_uri": "https://localhost:8080/"
        },
        "outputId": "8103a408-6a61-4b63-e6ac-45abb76dfa51"
      },
      "execution_count": null,
      "outputs": [
        {
          "output_type": "display_data",
          "data": {
            "image/png": "[encoded data removed]",
            "text/plain": [
              "<Figure size 1152x288 with 2 Axes>"
            ]
          },
          "metadata": {
            "needs_background": "light"
          }
        },
        {
          "output_type": "stream",
          "name": "stdout",
          "text": [
            "\n",
            "Skewness Value :  0.8168484903389348\n"
          ]
        }
      ]
    },
    {
      "cell_type": "code",
      "source": [
        "diagnostic_plots(x_inf, 'temperature')\n",
        "print('\\nSkewness Value : ', x_inf['temperature'].skew())"
      ],
      "metadata": {
        "id": "Wf77x19I5SHz",
        "colab": {
          "base_uri": "https://localhost:8080/"
        },
        "outputId": "6d2b34a7-c60d-45ca-f64f-248d9098f7c5"
      },
      "execution_count": null,
      "outputs": [
        {
          "output_type": "display_data",
          "data": {
            "image/png": "[encoded data removed]",
            "text/plain": [
              "<Figure size 1152x288 with 2 Axes>"
            ]
          },
          "metadata": {
            "needs_background": "light"
          }
        },
        {
          "output_type": "stream",
          "name": "stdout",
          "text": [
            "\n",
            "Skewness Value :  -0.6091907964028547\n"
          ]
        }
      ]
    },
    {
      "cell_type": "code",
      "source": [
        "# Create the capper\n",
        "\n",
        "windsoriser = Winsorizer(capping_method='iqr', # choose iqr for IQR rule boundaries or gaussian for mean and std\n",
        "                          tail='both', # cap left, right or both tails \n",
        "                          fold=1.5,\n",
        "                          variables=['distance','temperature'])\n",
        "\n",
        "windsoriser.fit(x_inf)\n",
        "\n",
        "x_inf = windsoriser.transform(x_inf)"
      ],
      "metadata": {
        "id": "qhURytK95YEA"
      },
      "execution_count": null,
      "outputs": []
    },
    {
      "cell_type": "code",
      "source": [
        "diagnostic_plots(x_inf, 'temperature')\n",
        "print('\\nSkewness Value : ', x_inf['temperature'].skew())"
      ],
      "metadata": {
        "id": "qFTKYcUZ5edW",
        "colab": {
          "base_uri": "https://localhost:8080/"
        },
        "outputId": "04b34c7a-01f6-4694-e6af-913754cefb9b"
      },
      "execution_count": null,
      "outputs": [
        {
          "output_type": "display_data",
          "data": {
            "image/png": "[encoded data removed]",
            "text/plain": [
              "<Figure size 1152x288 with 2 Axes>"
            ]
          },
          "metadata": {
            "needs_background": "light"
          }
        },
        {
          "output_type": "stream",
          "name": "stdout",
          "text": [
            "\n",
            "Skewness Value :  -0.318037734891617\n"
          ]
        }
      ]
    },
    {
      "cell_type": "code",
      "source": [
        "diagnostic_plots(x_inf, 'temperature')\n",
        "print('\\nSkewness Value : ', x_inf['temperature'].skew())"
      ],
      "metadata": {
        "id": "W17AId7t5jrI",
        "colab": {
          "base_uri": "https://localhost:8080/"
        },
        "outputId": "af9ddda3-d7cf-4568-ad4a-5cc848c130c0"
      },
      "execution_count": null,
      "outputs": [
        {
          "output_type": "display_data",
          "data": {
            "image/png": "[encoded data removed]",
            "text/plain": [
              "<Figure size 1152x288 with 2 Axes>"
            ]
          },
          "metadata": {
            "needs_background": "light"
          }
        },
        {
          "output_type": "stream",
          "name": "stdout",
          "text": [
            "\n",
            "Skewness Value :  -0.318037734891617\n"
          ]
        }
      ]
    },
    {
      "cell_type": "markdown",
      "source": [
        "###Future Encoding"
      ],
      "metadata": {
        "id": "mM0xLaRt3c_p"
      }
    },
    {
      "cell_type": "code",
      "source": [
        "x_inf = pd.get_dummies(x_inf, prefix='', prefix_sep='', \n",
        "                            columns=['cab_type', 'name'])"
      ],
      "metadata": {
        "id": "agAX4FWm3fR2"
      },
      "execution_count": null,
      "outputs": []
    },
    {
      "cell_type": "markdown",
      "source": [
        "###Future Scalling"
      ],
      "metadata": {
        "id": "DTLxV-lf3TKQ"
      }
    },
    {
      "cell_type": "code",
      "source": [
        "scaler = MinMaxScaler()\n",
        "scaler.fit(x_inf)\n",
        "x_inf = scaler.transform(x_inf)"
      ],
      "metadata": {
        "id": "etgrwcUa3See"
      },
      "execution_count": null,
      "outputs": []
    },
    {
      "cell_type": "markdown",
      "source": [
        "###Model"
      ],
      "metadata": {
        "id": "-Tkmuqiu5shh"
      }
    },
    {
      "cell_type": "code",
      "source": [
        "lr = LinearRegression()\n",
        "lr.fit(x_inf, y_inf)"
      ],
      "metadata": {
        "id": "5r9anXP_5tSX",
        "colab": {
          "base_uri": "https://localhost:8080/"
        },
        "outputId": "ef9e33f6-93cb-4a14-dd3b-ee0ce0c704b2"
      },
      "execution_count": null,
      "outputs": [
        {
          "output_type": "execute_result",
          "data": {
            "text/plain": [
              "LinearRegression()"
            ]
          },
          "metadata": {},
          "execution_count": 83
        }
      ]
    },
    {
      "cell_type": "markdown",
      "source": [
        "###Prediction"
      ],
      "metadata": {
        "id": "9zqAt6iu5yzs"
      }
    },
    {
      "cell_type": "code",
      "source": [
        "y_pred_linear = lr.predict(x_inf)\n",
        "y_pred_linear"
      ],
      "metadata": {
        "id": "bjQIRt9o5yP4",
        "colab": {
          "base_uri": "https://localhost:8080/"
        },
        "outputId": "23a02dbb-d499-4dd4-cdd8-837dfcae081c"
      },
      "execution_count": null,
      "outputs": [
        {
          "output_type": "execute_result",
          "data": {
            "text/plain": [
              "array([[ 1.00683594],\n",
              "       [12.05664062],\n",
              "       [ 3.88378906],\n",
              "       ...,\n",
              "       [ 6.38085938],\n",
              "       [26.90039062],\n",
              "       [ 5.36816406]])"
            ]
          },
          "metadata": {},
          "execution_count": 84
        }
      ]
    },
    {
      "cell_type": "markdown",
      "source": [
        "These are the prediction of the target data which is price using our model."
      ],
      "metadata": {
        "id": "xGhPkHrPOAu8"
      }
    },
    {
      "cell_type": "markdown",
      "metadata": {
        "id": "NqTT9IQWxTda"
      },
      "source": [
        "#Conclusion\n",
        "\n",
        "---\n",
        "\n",
        "From Uber and Lyft Dataset, using linear regression with cab type, name, distance, surge multiplier, temperature, timestamp as features and price as the target resulting 0.93 R2 Score from both train and data test."
      ]
    }
  ],
  "metadata": {
    "colab": {
      "name": "Price Prediction Lyft Uber.ipynb",
      "provenance": [],
      "collapsed_sections": [
        "7dm4yYT7lARP",
        "KyOPbbiVlCc0",
        "09zm7EZnxEgD",
        "T_FgNjqGxF0G",
        "GRmiY7tzxIo7",
        "xuy7JEeuxPcu",
        "5-YpFdBcxRZx",
        "HqjVbU654X9a"
      ]
    },
    "kernelspec": {
      "display_name": "Python 3",
      "name": "python3"
    },
    "language_info": {
      "name": "python"
    }
  },
  "nbformat": 4,
  "nbformat_minor": 0
}